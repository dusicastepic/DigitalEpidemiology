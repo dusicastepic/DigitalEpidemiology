{
 "cells": [
  {
   "cell_type": "markdown",
   "metadata": {},
   "source": [
    "# Part 1 - Data collection"
   ]
  },
  {
   "cell_type": "markdown",
   "metadata": {},
   "source": [
    "### 1.1) Explore information sources and compile the seed gene list"
   ]
  },
  {
   "cell_type": "markdown",
   "metadata": {},
   "source": [
    "We downloaded from DisGeNet Dataset Precancerous Conditions CURATED Gene-Disease Associations list (CUI: C0032927). Then, we removed all the microRNAs involved in the disease. Finally, we built seed gene table (1.1.b&c DisGeNet dataset), after checking for errors."
   ]
  },
  {
   "cell_type": "markdown",
   "metadata": {},
   "source": [
    "### 1.2) Collect interaction data"
   ]
  },
  {
   "cell_type": "markdown",
   "metadata": {},
   "source": [
    "##### 1.2.a&b) Biogrid Human"
   ]
  },
  {
   "cell_type": "code",
   "execution_count": 1,
   "metadata": {},
   "outputs": [],
   "source": [
    "import pandas as pd\n",
    "import numpy as np"
   ]
  },
  {
   "cell_type": "code",
   "execution_count": 2,
   "metadata": {},
   "outputs": [
    {
     "data": {
      "text/html": [
       "<div>\n",
       "<style scoped>\n",
       "    .dataframe tbody tr th:only-of-type {\n",
       "        vertical-align: middle;\n",
       "    }\n",
       "\n",
       "    .dataframe tbody tr th {\n",
       "        vertical-align: top;\n",
       "    }\n",
       "\n",
       "    .dataframe thead th {\n",
       "        text-align: right;\n",
       "    }\n",
       "</style>\n",
       "<table border=\"1\" class=\"dataframe\">\n",
       "  <thead>\n",
       "    <tr style=\"text-align: right;\">\n",
       "      <th></th>\n",
       "      <th>gene symbol</th>\n",
       "      <th>Uniprot AC</th>\n",
       "      <th>protein name</th>\n",
       "      <th>Entrez Gene ID</th>\n",
       "      <th>brief description</th>\n",
       "    </tr>\n",
       "  </thead>\n",
       "  <tbody>\n",
       "    <tr>\n",
       "      <th>0</th>\n",
       "      <td>PTGS2</td>\n",
       "      <td>P35354</td>\n",
       "      <td>prostaglandin-endoperoxide synthase 2</td>\n",
       "      <td>5743</td>\n",
       "      <td>Converts arachidonate to prostaglandin H2 (PGH...</td>\n",
       "    </tr>\n",
       "    <tr>\n",
       "      <th>1</th>\n",
       "      <td>CDKN2A</td>\n",
       "      <td>P42771</td>\n",
       "      <td>cyclin dependent kinase inhibitor 2A</td>\n",
       "      <td>1029</td>\n",
       "      <td>Acts as a negative regulator of the proliferat...</td>\n",
       "    </tr>\n",
       "    <tr>\n",
       "      <th>2</th>\n",
       "      <td>CCND1</td>\n",
       "      <td>P24385</td>\n",
       "      <td>cyclin D1</td>\n",
       "      <td>595</td>\n",
       "      <td>Regulatory component of the cyclin D1-CDK4 (DC...</td>\n",
       "    </tr>\n",
       "    <tr>\n",
       "      <th>3</th>\n",
       "      <td>VEGFA</td>\n",
       "      <td>P15692</td>\n",
       "      <td>vascular endothelial growth factor A</td>\n",
       "      <td>7422</td>\n",
       "      <td>Growth factor active in angiogenesis, vasculog...</td>\n",
       "    </tr>\n",
       "    <tr>\n",
       "      <th>4</th>\n",
       "      <td>HRAS</td>\n",
       "      <td>P01112</td>\n",
       "      <td>HRas proto-oncogene, GTPase</td>\n",
       "      <td>3265</td>\n",
       "      <td>Involved in the activation of Ras protein sign...</td>\n",
       "    </tr>\n",
       "  </tbody>\n",
       "</table>\n",
       "</div>"
      ],
      "text/plain": [
       "  gene symbol Uniprot AC                           protein name  \\\n",
       "0       PTGS2     P35354  prostaglandin-endoperoxide synthase 2   \n",
       "1      CDKN2A     P42771   cyclin dependent kinase inhibitor 2A   \n",
       "2       CCND1     P24385                              cyclin D1   \n",
       "3       VEGFA     P15692   vascular endothelial growth factor A   \n",
       "4        HRAS     P01112            HRas proto-oncogene, GTPase   \n",
       "\n",
       "   Entrez Gene ID                                  brief description  \n",
       "0            5743  Converts arachidonate to prostaglandin H2 (PGH...  \n",
       "1            1029  Acts as a negative regulator of the proliferat...  \n",
       "2             595  Regulatory component of the cyclin D1-CDK4 (DC...  \n",
       "3            7422  Growth factor active in angiogenesis, vasculog...  \n",
       "4            3265  Involved in the activation of Ras protein sign...  "
      ]
     },
     "execution_count": 2,
     "metadata": {},
     "output_type": "execute_result"
    }
   ],
   "source": [
    "#read seed gene list\n",
    "seedgene = pd.read_excel(\"1.1.b&c DisGeNet dataset.xlsx\")\n",
    "seedgene.head()"
   ]
  },
  {
   "cell_type": "code",
   "execution_count": 3,
   "metadata": {},
   "outputs": [
    {
     "data": {
      "text/plain": [
       "(86, 5)"
      ]
     },
     "execution_count": 3,
     "metadata": {},
     "output_type": "execute_result"
    }
   ],
   "source": [
    "#info seed gene list\n",
    "seedgene.shape"
   ]
  },
  {
   "cell_type": "code",
   "execution_count": 4,
   "metadata": {},
   "outputs": [
    {
     "data": {
      "text/html": [
       "<div>\n",
       "<style scoped>\n",
       "    .dataframe tbody tr th:only-of-type {\n",
       "        vertical-align: middle;\n",
       "    }\n",
       "\n",
       "    .dataframe tbody tr th {\n",
       "        vertical-align: top;\n",
       "    }\n",
       "\n",
       "    .dataframe thead th {\n",
       "        text-align: right;\n",
       "    }\n",
       "</style>\n",
       "<table border=\"1\" class=\"dataframe\">\n",
       "  <thead>\n",
       "    <tr style=\"text-align: right;\">\n",
       "      <th></th>\n",
       "      <th>#BioGRID Interaction ID</th>\n",
       "      <th>Entrez Gene Interactor A</th>\n",
       "      <th>Entrez Gene Interactor B</th>\n",
       "      <th>BioGRID ID Interactor A</th>\n",
       "      <th>BioGRID ID Interactor B</th>\n",
       "      <th>Systematic Name Interactor A</th>\n",
       "      <th>Systematic Name Interactor B</th>\n",
       "      <th>Official Symbol Interactor A</th>\n",
       "      <th>Official Symbol Interactor B</th>\n",
       "      <th>Synonyms Interactor A</th>\n",
       "      <th>...</th>\n",
       "      <th>Pubmed ID</th>\n",
       "      <th>Organism Interactor A</th>\n",
       "      <th>Organism Interactor B</th>\n",
       "      <th>Throughput</th>\n",
       "      <th>Score</th>\n",
       "      <th>Modification</th>\n",
       "      <th>Phenotypes</th>\n",
       "      <th>Qualifications</th>\n",
       "      <th>Tags</th>\n",
       "      <th>Source Database</th>\n",
       "    </tr>\n",
       "  </thead>\n",
       "  <tbody>\n",
       "    <tr>\n",
       "      <th>0</th>\n",
       "      <td>103</td>\n",
       "      <td>6416</td>\n",
       "      <td>2318</td>\n",
       "      <td>112315</td>\n",
       "      <td>108607</td>\n",
       "      <td>-</td>\n",
       "      <td>-</td>\n",
       "      <td>MAP2K4</td>\n",
       "      <td>FLNC</td>\n",
       "      <td>JNKK|JNKK1|MAPKK4|MEK4|MKK4|PRKMK4|SAPKK-1|SAP...</td>\n",
       "      <td>...</td>\n",
       "      <td>9006895</td>\n",
       "      <td>9606</td>\n",
       "      <td>9606</td>\n",
       "      <td>Low Throughput</td>\n",
       "      <td>-</td>\n",
       "      <td>-</td>\n",
       "      <td>-</td>\n",
       "      <td>-</td>\n",
       "      <td>-</td>\n",
       "      <td>BIOGRID</td>\n",
       "    </tr>\n",
       "    <tr>\n",
       "      <th>1</th>\n",
       "      <td>117</td>\n",
       "      <td>84665</td>\n",
       "      <td>88</td>\n",
       "      <td>124185</td>\n",
       "      <td>106603</td>\n",
       "      <td>-</td>\n",
       "      <td>-</td>\n",
       "      <td>MYPN</td>\n",
       "      <td>ACTN2</td>\n",
       "      <td>CMD1DD|CMH22|MYOP|RCM4</td>\n",
       "      <td>...</td>\n",
       "      <td>11309420</td>\n",
       "      <td>9606</td>\n",
       "      <td>9606</td>\n",
       "      <td>Low Throughput</td>\n",
       "      <td>-</td>\n",
       "      <td>-</td>\n",
       "      <td>-</td>\n",
       "      <td>-</td>\n",
       "      <td>-</td>\n",
       "      <td>BIOGRID</td>\n",
       "    </tr>\n",
       "    <tr>\n",
       "      <th>2</th>\n",
       "      <td>183</td>\n",
       "      <td>90</td>\n",
       "      <td>2339</td>\n",
       "      <td>106605</td>\n",
       "      <td>108625</td>\n",
       "      <td>-</td>\n",
       "      <td>-</td>\n",
       "      <td>ACVR1</td>\n",
       "      <td>FNTA</td>\n",
       "      <td>ACTRI|ACVR1A|ACVRLK2|ALK2|FOP|SKR1|TSRI</td>\n",
       "      <td>...</td>\n",
       "      <td>8599089</td>\n",
       "      <td>9606</td>\n",
       "      <td>9606</td>\n",
       "      <td>Low Throughput</td>\n",
       "      <td>-</td>\n",
       "      <td>-</td>\n",
       "      <td>-</td>\n",
       "      <td>-</td>\n",
       "      <td>-</td>\n",
       "      <td>BIOGRID</td>\n",
       "    </tr>\n",
       "    <tr>\n",
       "      <th>3</th>\n",
       "      <td>278</td>\n",
       "      <td>2624</td>\n",
       "      <td>5371</td>\n",
       "      <td>108894</td>\n",
       "      <td>111384</td>\n",
       "      <td>-</td>\n",
       "      <td>-</td>\n",
       "      <td>GATA2</td>\n",
       "      <td>PML</td>\n",
       "      <td>DCML|IMD21|MONOMAC|NFE1B</td>\n",
       "      <td>...</td>\n",
       "      <td>10938104</td>\n",
       "      <td>9606</td>\n",
       "      <td>9606</td>\n",
       "      <td>Low Throughput</td>\n",
       "      <td>-</td>\n",
       "      <td>-</td>\n",
       "      <td>-</td>\n",
       "      <td>-</td>\n",
       "      <td>-</td>\n",
       "      <td>BIOGRID</td>\n",
       "    </tr>\n",
       "    <tr>\n",
       "      <th>4</th>\n",
       "      <td>418</td>\n",
       "      <td>6118</td>\n",
       "      <td>6774</td>\n",
       "      <td>112038</td>\n",
       "      <td>112651</td>\n",
       "      <td>RP4-547C9.3</td>\n",
       "      <td>-</td>\n",
       "      <td>RPA2</td>\n",
       "      <td>STAT3</td>\n",
       "      <td>REPA2|RP-A p32|RP-A p34|RPA32</td>\n",
       "      <td>...</td>\n",
       "      <td>10875894</td>\n",
       "      <td>9606</td>\n",
       "      <td>9606</td>\n",
       "      <td>Low Throughput</td>\n",
       "      <td>-</td>\n",
       "      <td>-</td>\n",
       "      <td>-</td>\n",
       "      <td>-</td>\n",
       "      <td>-</td>\n",
       "      <td>BIOGRID</td>\n",
       "    </tr>\n",
       "  </tbody>\n",
       "</table>\n",
       "<p>5 rows × 24 columns</p>\n",
       "</div>"
      ],
      "text/plain": [
       "  #BioGRID Interaction ID Entrez Gene Interactor A Entrez Gene Interactor B  \\\n",
       "0                     103                     6416                     2318   \n",
       "1                     117                    84665                       88   \n",
       "2                     183                       90                     2339   \n",
       "3                     278                     2624                     5371   \n",
       "4                     418                     6118                     6774   \n",
       "\n",
       "  BioGRID ID Interactor A BioGRID ID Interactor B  \\\n",
       "0                  112315                  108607   \n",
       "1                  124185                  106603   \n",
       "2                  106605                  108625   \n",
       "3                  108894                  111384   \n",
       "4                  112038                  112651   \n",
       "\n",
       "  Systematic Name Interactor A Systematic Name Interactor B  \\\n",
       "0                            -                            -   \n",
       "1                            -                            -   \n",
       "2                            -                            -   \n",
       "3                            -                            -   \n",
       "4                  RP4-547C9.3                            -   \n",
       "\n",
       "  Official Symbol Interactor A Official Symbol Interactor B  \\\n",
       "0                       MAP2K4                         FLNC   \n",
       "1                         MYPN                        ACTN2   \n",
       "2                        ACVR1                         FNTA   \n",
       "3                        GATA2                          PML   \n",
       "4                         RPA2                        STAT3   \n",
       "\n",
       "                               Synonyms Interactor A       ...        \\\n",
       "0  JNKK|JNKK1|MAPKK4|MEK4|MKK4|PRKMK4|SAPKK-1|SAP...       ...         \n",
       "1                             CMD1DD|CMH22|MYOP|RCM4       ...         \n",
       "2            ACTRI|ACVR1A|ACVRLK2|ALK2|FOP|SKR1|TSRI       ...         \n",
       "3                           DCML|IMD21|MONOMAC|NFE1B       ...         \n",
       "4                      REPA2|RP-A p32|RP-A p34|RPA32       ...         \n",
       "\n",
       "  Pubmed ID Organism Interactor A Organism Interactor B      Throughput Score  \\\n",
       "0   9006895                  9606                  9606  Low Throughput     -   \n",
       "1  11309420                  9606                  9606  Low Throughput     -   \n",
       "2   8599089                  9606                  9606  Low Throughput     -   \n",
       "3  10938104                  9606                  9606  Low Throughput     -   \n",
       "4  10875894                  9606                  9606  Low Throughput     -   \n",
       "\n",
       "  Modification Phenotypes Qualifications Tags Source Database  \n",
       "0            -          -              -    -         BIOGRID  \n",
       "1            -          -              -    -         BIOGRID  \n",
       "2            -          -              -    -         BIOGRID  \n",
       "3            -          -              -    -         BIOGRID  \n",
       "4            -          -              -    -         BIOGRID  \n",
       "\n",
       "[5 rows x 24 columns]"
      ]
     },
     "execution_count": 4,
     "metadata": {},
     "output_type": "execute_result"
    }
   ],
   "source": [
    "#read biogrid interaction data\n",
    "biogrid = pd.read_csv(\"BIOGRID-ORGANISM-Homo_sapiens-3.5.180.tab2.txt\", sep='\\t', dtype = 'unicode')\n",
    "biogrid.head()"
   ]
  },
  {
   "cell_type": "code",
   "execution_count": 5,
   "metadata": {},
   "outputs": [
    {
     "name": "stdout",
     "output_type": "stream",
     "text": [
      "Index(['#BioGRID Interaction ID', 'Entrez Gene Interactor A',\n",
      "       'Entrez Gene Interactor B', 'BioGRID ID Interactor A',\n",
      "       'BioGRID ID Interactor B', 'Systematic Name Interactor A',\n",
      "       'Systematic Name Interactor B', 'Official Symbol Interactor A',\n",
      "       'Official Symbol Interactor B', 'Synonyms Interactor A',\n",
      "       'Synonyms Interactor B', 'Experimental System',\n",
      "       'Experimental System Type', 'Author', 'Pubmed ID',\n",
      "       'Organism Interactor A', 'Organism Interactor B', 'Throughput', 'Score',\n",
      "       'Modification', 'Phenotypes', 'Qualifications', 'Tags',\n",
      "       'Source Database'],\n",
      "      dtype='object')\n",
      "(526283, 24)\n"
     ]
    }
   ],
   "source": [
    "#info biogrid interaction data\n",
    "print(biogrid.columns)\n",
    "print(biogrid.shape)"
   ]
  },
  {
   "cell_type": "code",
   "execution_count": 6,
   "metadata": {},
   "outputs": [],
   "source": [
    "#consider only physical interaction in Experimental System Type column\n",
    "biogrid = biogrid[biogrid['Experimental System Type'].str.contains('physical')]"
   ]
  },
  {
   "cell_type": "code",
   "execution_count": 7,
   "metadata": {},
   "outputs": [
    {
     "data": {
      "text/plain": [
       "False"
      ]
     },
     "execution_count": 7,
     "metadata": {},
     "output_type": "execute_result"
    }
   ],
   "source": [
    "#check the previous step\n",
    "(biogrid['Experimental System Type']!='physical').any()"
   ]
  },
  {
   "cell_type": "code",
   "execution_count": 8,
   "metadata": {},
   "outputs": [
    {
     "data": {
      "text/plain": [
       "(517302, 24)"
      ]
     },
     "execution_count": 8,
     "metadata": {},
     "output_type": "execute_result"
    }
   ],
   "source": [
    "#info biogrid interaction data\n",
    "biogrid.shape"
   ]
  },
  {
   "cell_type": "code",
   "execution_count": 9,
   "metadata": {},
   "outputs": [],
   "source": [
    "#consider only human-human (9606-9606) interactions in Organism Interactor A and Organism Interactor B columns \n",
    "biogrid = biogrid[(biogrid['Organism Interactor A'] == '9606') & (biogrid['Organism Interactor B'] == '9606')]"
   ]
  },
  {
   "cell_type": "code",
   "execution_count": 10,
   "metadata": {},
   "outputs": [
    {
     "name": "stdout",
     "output_type": "stream",
     "text": [
      "False\n",
      "False\n"
     ]
    }
   ],
   "source": [
    "#check the previous step\n",
    "print((biogrid['Organism Interactor A'] != '9606').any())\n",
    "print((biogrid['Organism Interactor B'] != '9606').any())"
   ]
  },
  {
   "cell_type": "code",
   "execution_count": 11,
   "metadata": {},
   "outputs": [
    {
     "data": {
      "text/plain": [
       "(484751, 24)"
      ]
     },
     "execution_count": 11,
     "metadata": {},
     "output_type": "execute_result"
    }
   ],
   "source": [
    "#info biogrid interaction data\n",
    "biogrid.shape"
   ]
  },
  {
   "cell_type": "code",
   "execution_count": 12,
   "metadata": {},
   "outputs": [
    {
     "data": {
      "text/html": [
       "<div>\n",
       "<style scoped>\n",
       "    .dataframe tbody tr th:only-of-type {\n",
       "        vertical-align: middle;\n",
       "    }\n",
       "\n",
       "    .dataframe tbody tr th {\n",
       "        vertical-align: top;\n",
       "    }\n",
       "\n",
       "    .dataframe thead th {\n",
       "        text-align: right;\n",
       "    }\n",
       "</style>\n",
       "<table border=\"1\" class=\"dataframe\">\n",
       "  <thead>\n",
       "    <tr style=\"text-align: right;\">\n",
       "      <th></th>\n",
       "      <th>#BioGRID Interaction ID</th>\n",
       "      <th>Entrez Gene Interactor A</th>\n",
       "      <th>Entrez Gene Interactor B</th>\n",
       "      <th>BioGRID ID Interactor A</th>\n",
       "      <th>BioGRID ID Interactor B</th>\n",
       "      <th>Systematic Name Interactor A</th>\n",
       "      <th>Systematic Name Interactor B</th>\n",
       "      <th>Official Symbol Interactor A</th>\n",
       "      <th>Official Symbol Interactor B</th>\n",
       "      <th>Synonyms Interactor A</th>\n",
       "      <th>...</th>\n",
       "      <th>Pubmed ID</th>\n",
       "      <th>Organism Interactor A</th>\n",
       "      <th>Organism Interactor B</th>\n",
       "      <th>Throughput</th>\n",
       "      <th>Score</th>\n",
       "      <th>Modification</th>\n",
       "      <th>Phenotypes</th>\n",
       "      <th>Qualifications</th>\n",
       "      <th>Tags</th>\n",
       "      <th>Source Database</th>\n",
       "    </tr>\n",
       "  </thead>\n",
       "  <tbody>\n",
       "    <tr>\n",
       "      <th>4</th>\n",
       "      <td>418</td>\n",
       "      <td>6118</td>\n",
       "      <td>6774</td>\n",
       "      <td>112038</td>\n",
       "      <td>112651</td>\n",
       "      <td>RP4-547C9.3</td>\n",
       "      <td>-</td>\n",
       "      <td>RPA2</td>\n",
       "      <td>STAT3</td>\n",
       "      <td>REPA2|RP-A p32|RP-A p34|RPA32</td>\n",
       "      <td>...</td>\n",
       "      <td>10875894</td>\n",
       "      <td>9606</td>\n",
       "      <td>9606</td>\n",
       "      <td>Low Throughput</td>\n",
       "      <td>-</td>\n",
       "      <td>-</td>\n",
       "      <td>-</td>\n",
       "      <td>-</td>\n",
       "      <td>-</td>\n",
       "      <td>BIOGRID</td>\n",
       "    </tr>\n",
       "    <tr>\n",
       "      <th>83</th>\n",
       "      <td>5818</td>\n",
       "      <td>79039</td>\n",
       "      <td>2099</td>\n",
       "      <td>122503</td>\n",
       "      <td>108403</td>\n",
       "      <td>-</td>\n",
       "      <td>RP1-130E4.1</td>\n",
       "      <td>DDX54</td>\n",
       "      <td>ESR1</td>\n",
       "      <td>DP97</td>\n",
       "      <td>...</td>\n",
       "      <td>12466272</td>\n",
       "      <td>9606</td>\n",
       "      <td>9606</td>\n",
       "      <td>Low Throughput</td>\n",
       "      <td>-</td>\n",
       "      <td>-</td>\n",
       "      <td>-</td>\n",
       "      <td>-</td>\n",
       "      <td>-</td>\n",
       "      <td>BIOGRID</td>\n",
       "    </tr>\n",
       "    <tr>\n",
       "      <th>129</th>\n",
       "      <td>7682</td>\n",
       "      <td>8100</td>\n",
       "      <td>7916</td>\n",
       "      <td>113771</td>\n",
       "      <td>113646</td>\n",
       "      <td>RP11-172H24.2</td>\n",
       "      <td>DADB-70P7.5</td>\n",
       "      <td>IFT88</td>\n",
       "      <td>PRRC2A</td>\n",
       "      <td>D13S1056E|DAF19|TG737|TTC10|hTg737</td>\n",
       "      <td>...</td>\n",
       "      <td>14667819</td>\n",
       "      <td>9606</td>\n",
       "      <td>9606</td>\n",
       "      <td>Low Throughput</td>\n",
       "      <td>-</td>\n",
       "      <td>-</td>\n",
       "      <td>-</td>\n",
       "      <td>-</td>\n",
       "      <td>-</td>\n",
       "      <td>BIOGRID</td>\n",
       "    </tr>\n",
       "    <tr>\n",
       "      <th>139</th>\n",
       "      <td>8485</td>\n",
       "      <td>3480</td>\n",
       "      <td>3667</td>\n",
       "      <td>109701</td>\n",
       "      <td>109874</td>\n",
       "      <td>-</td>\n",
       "      <td>-</td>\n",
       "      <td>IGF1R</td>\n",
       "      <td>IRS1</td>\n",
       "      <td>CD221|IGFIR|IGFR|JTK13</td>\n",
       "      <td>...</td>\n",
       "      <td>7559507</td>\n",
       "      <td>9606</td>\n",
       "      <td>9606</td>\n",
       "      <td>Low Throughput</td>\n",
       "      <td>-</td>\n",
       "      <td>-</td>\n",
       "      <td>-</td>\n",
       "      <td>-</td>\n",
       "      <td>-</td>\n",
       "      <td>BIOGRID</td>\n",
       "    </tr>\n",
       "    <tr>\n",
       "      <th>142</th>\n",
       "      <td>8570</td>\n",
       "      <td>5747</td>\n",
       "      <td>3667</td>\n",
       "      <td>111719</td>\n",
       "      <td>109874</td>\n",
       "      <td>-</td>\n",
       "      <td>-</td>\n",
       "      <td>PTK2</td>\n",
       "      <td>IRS1</td>\n",
       "      <td>FADK|FAK|FAK1|FRNK|PPP1R71|p125FAK|pp125FAK</td>\n",
       "      <td>...</td>\n",
       "      <td>9822703</td>\n",
       "      <td>9606</td>\n",
       "      <td>9606</td>\n",
       "      <td>Low Throughput</td>\n",
       "      <td>-</td>\n",
       "      <td>-</td>\n",
       "      <td>-</td>\n",
       "      <td>-</td>\n",
       "      <td>-</td>\n",
       "      <td>BIOGRID</td>\n",
       "    </tr>\n",
       "  </tbody>\n",
       "</table>\n",
       "<p>5 rows × 24 columns</p>\n",
       "</div>"
      ],
      "text/plain": [
       "    #BioGRID Interaction ID Entrez Gene Interactor A Entrez Gene Interactor B  \\\n",
       "4                       418                     6118                     6774   \n",
       "83                     5818                    79039                     2099   \n",
       "129                    7682                     8100                     7916   \n",
       "139                    8485                     3480                     3667   \n",
       "142                    8570                     5747                     3667   \n",
       "\n",
       "    BioGRID ID Interactor A BioGRID ID Interactor B  \\\n",
       "4                    112038                  112651   \n",
       "83                   122503                  108403   \n",
       "129                  113771                  113646   \n",
       "139                  109701                  109874   \n",
       "142                  111719                  109874   \n",
       "\n",
       "    Systematic Name Interactor A Systematic Name Interactor B  \\\n",
       "4                    RP4-547C9.3                            -   \n",
       "83                             -                  RP1-130E4.1   \n",
       "129                RP11-172H24.2                  DADB-70P7.5   \n",
       "139                            -                            -   \n",
       "142                            -                            -   \n",
       "\n",
       "    Official Symbol Interactor A Official Symbol Interactor B  \\\n",
       "4                           RPA2                        STAT3   \n",
       "83                         DDX54                         ESR1   \n",
       "129                        IFT88                       PRRC2A   \n",
       "139                        IGF1R                         IRS1   \n",
       "142                         PTK2                         IRS1   \n",
       "\n",
       "                           Synonyms Interactor A       ...       Pubmed ID  \\\n",
       "4                  REPA2|RP-A p32|RP-A p34|RPA32       ...        10875894   \n",
       "83                                          DP97       ...        12466272   \n",
       "129           D13S1056E|DAF19|TG737|TTC10|hTg737       ...        14667819   \n",
       "139                       CD221|IGFIR|IGFR|JTK13       ...         7559507   \n",
       "142  FADK|FAK|FAK1|FRNK|PPP1R71|p125FAK|pp125FAK       ...         9822703   \n",
       "\n",
       "    Organism Interactor A Organism Interactor B      Throughput Score  \\\n",
       "4                    9606                  9606  Low Throughput     -   \n",
       "83                   9606                  9606  Low Throughput     -   \n",
       "129                  9606                  9606  Low Throughput     -   \n",
       "139                  9606                  9606  Low Throughput     -   \n",
       "142                  9606                  9606  Low Throughput     -   \n",
       "\n",
       "    Modification Phenotypes Qualifications Tags Source Database  \n",
       "4              -          -              -    -         BIOGRID  \n",
       "83             -          -              -    -         BIOGRID  \n",
       "129            -          -              -    -         BIOGRID  \n",
       "139            -          -              -    -         BIOGRID  \n",
       "142            -          -              -    -         BIOGRID  \n",
       "\n",
       "[5 rows x 24 columns]"
      ]
     },
     "execution_count": 12,
     "metadata": {},
     "output_type": "execute_result"
    }
   ],
   "source": [
    "#list of the proteins interacting with at least one seed gene\n",
    "df1 = biogrid[(biogrid['Official Symbol Interactor A'].isin(seedgene['gene symbol'])) | (biogrid['Official Symbol Interactor B'].isin(seedgene['gene symbol']))]\n",
    "df1.head()"
   ]
  },
  {
   "cell_type": "code",
   "execution_count": 13,
   "metadata": {},
   "outputs": [],
   "source": [
    "#not seed genes that interact with at least one seed gene in Official Symbol Interactor A column \n",
    "df2 = df1['Official Symbol Interactor A'][(~df1['Official Symbol Interactor A'].isin(seedgene['gene symbol']))]"
   ]
  },
  {
   "cell_type": "code",
   "execution_count": 14,
   "metadata": {},
   "outputs": [],
   "source": [
    "#not seed genes that interact with at least one seed gene in Official Symbol Interactor B column \n",
    "df3 = df1['Official Symbol Interactor B'][(~df1['Official Symbol Interactor B'].isin(seedgene['gene symbol']))]"
   ]
  },
  {
   "cell_type": "code",
   "execution_count": 15,
   "metadata": {
    "scrolled": true
   },
   "outputs": [],
   "source": [
    "#list of all not seed genes that interact with at least one seed gene\n",
    "df4 = df2.append(df3)\n",
    "df4 = pd.DataFrame(df4)\n",
    "df4.columns = ['not seed genes'] #rename column\n",
    "df4 = df4.drop_duplicates(subset=['not seed genes']) #drop duplicates"
   ]
  },
  {
   "cell_type": "code",
   "execution_count": 16,
   "metadata": {},
   "outputs": [
    {
     "data": {
      "text/html": [
       "<div>\n",
       "<style scoped>\n",
       "    .dataframe tbody tr th:only-of-type {\n",
       "        vertical-align: middle;\n",
       "    }\n",
       "\n",
       "    .dataframe tbody tr th {\n",
       "        vertical-align: top;\n",
       "    }\n",
       "\n",
       "    .dataframe thead th {\n",
       "        text-align: right;\n",
       "    }\n",
       "</style>\n",
       "<table border=\"1\" class=\"dataframe\">\n",
       "  <thead>\n",
       "    <tr style=\"text-align: right;\">\n",
       "      <th></th>\n",
       "      <th>#BioGRID Interaction ID</th>\n",
       "      <th>Entrez Gene Interactor A</th>\n",
       "      <th>Entrez Gene Interactor B</th>\n",
       "      <th>BioGRID ID Interactor A</th>\n",
       "      <th>BioGRID ID Interactor B</th>\n",
       "      <th>Systematic Name Interactor A</th>\n",
       "      <th>Systematic Name Interactor B</th>\n",
       "      <th>Official Symbol Interactor A</th>\n",
       "      <th>Official Symbol Interactor B</th>\n",
       "      <th>Synonyms Interactor A</th>\n",
       "      <th>...</th>\n",
       "      <th>Pubmed ID</th>\n",
       "      <th>Organism Interactor A</th>\n",
       "      <th>Organism Interactor B</th>\n",
       "      <th>Throughput</th>\n",
       "      <th>Score</th>\n",
       "      <th>Modification</th>\n",
       "      <th>Phenotypes</th>\n",
       "      <th>Qualifications</th>\n",
       "      <th>Tags</th>\n",
       "      <th>Source Database</th>\n",
       "    </tr>\n",
       "  </thead>\n",
       "  <tbody>\n",
       "    <tr>\n",
       "      <th>0</th>\n",
       "      <td>103</td>\n",
       "      <td>6416</td>\n",
       "      <td>2318</td>\n",
       "      <td>112315</td>\n",
       "      <td>108607</td>\n",
       "      <td>-</td>\n",
       "      <td>-</td>\n",
       "      <td>MAP2K4</td>\n",
       "      <td>FLNC</td>\n",
       "      <td>JNKK|JNKK1|MAPKK4|MEK4|MKK4|PRKMK4|SAPKK-1|SAP...</td>\n",
       "      <td>...</td>\n",
       "      <td>9006895</td>\n",
       "      <td>9606</td>\n",
       "      <td>9606</td>\n",
       "      <td>Low Throughput</td>\n",
       "      <td>-</td>\n",
       "      <td>-</td>\n",
       "      <td>-</td>\n",
       "      <td>-</td>\n",
       "      <td>-</td>\n",
       "      <td>BIOGRID</td>\n",
       "    </tr>\n",
       "    <tr>\n",
       "      <th>3</th>\n",
       "      <td>278</td>\n",
       "      <td>2624</td>\n",
       "      <td>5371</td>\n",
       "      <td>108894</td>\n",
       "      <td>111384</td>\n",
       "      <td>-</td>\n",
       "      <td>-</td>\n",
       "      <td>GATA2</td>\n",
       "      <td>PML</td>\n",
       "      <td>DCML|IMD21|MONOMAC|NFE1B</td>\n",
       "      <td>...</td>\n",
       "      <td>10938104</td>\n",
       "      <td>9606</td>\n",
       "      <td>9606</td>\n",
       "      <td>Low Throughput</td>\n",
       "      <td>-</td>\n",
       "      <td>-</td>\n",
       "      <td>-</td>\n",
       "      <td>-</td>\n",
       "      <td>-</td>\n",
       "      <td>BIOGRID</td>\n",
       "    </tr>\n",
       "    <tr>\n",
       "      <th>6</th>\n",
       "      <td>612</td>\n",
       "      <td>377</td>\n",
       "      <td>23647</td>\n",
       "      <td>106872</td>\n",
       "      <td>117174</td>\n",
       "      <td>-</td>\n",
       "      <td>-</td>\n",
       "      <td>ARF3</td>\n",
       "      <td>ARFIP2</td>\n",
       "      <td>-</td>\n",
       "      <td>...</td>\n",
       "      <td>9038142</td>\n",
       "      <td>9606</td>\n",
       "      <td>9606</td>\n",
       "      <td>Low Throughput</td>\n",
       "      <td>-</td>\n",
       "      <td>-</td>\n",
       "      <td>-</td>\n",
       "      <td>-</td>\n",
       "      <td>-</td>\n",
       "      <td>BIOGRID</td>\n",
       "    </tr>\n",
       "    <tr>\n",
       "      <th>7</th>\n",
       "      <td>617</td>\n",
       "      <td>377</td>\n",
       "      <td>27236</td>\n",
       "      <td>106872</td>\n",
       "      <td>118084</td>\n",
       "      <td>-</td>\n",
       "      <td>-</td>\n",
       "      <td>ARF3</td>\n",
       "      <td>ARFIP1</td>\n",
       "      <td>-</td>\n",
       "      <td>...</td>\n",
       "      <td>9038142</td>\n",
       "      <td>9606</td>\n",
       "      <td>9606</td>\n",
       "      <td>Low Throughput</td>\n",
       "      <td>-</td>\n",
       "      <td>-</td>\n",
       "      <td>-</td>\n",
       "      <td>-</td>\n",
       "      <td>-</td>\n",
       "      <td>BIOGRID</td>\n",
       "    </tr>\n",
       "    <tr>\n",
       "      <th>8</th>\n",
       "      <td>663</td>\n",
       "      <td>54464</td>\n",
       "      <td>226</td>\n",
       "      <td>119970</td>\n",
       "      <td>106728</td>\n",
       "      <td>-</td>\n",
       "      <td>-</td>\n",
       "      <td>XRN1</td>\n",
       "      <td>ALDOA</td>\n",
       "      <td>SEP1</td>\n",
       "      <td>...</td>\n",
       "      <td>15231747</td>\n",
       "      <td>9606</td>\n",
       "      <td>9606</td>\n",
       "      <td>High Throughput</td>\n",
       "      <td>-</td>\n",
       "      <td>-</td>\n",
       "      <td>-</td>\n",
       "      <td>-</td>\n",
       "      <td>-</td>\n",
       "      <td>BIOGRID</td>\n",
       "    </tr>\n",
       "  </tbody>\n",
       "</table>\n",
       "<p>5 rows × 24 columns</p>\n",
       "</div>"
      ],
      "text/plain": [
       "  #BioGRID Interaction ID Entrez Gene Interactor A Entrez Gene Interactor B  \\\n",
       "0                     103                     6416                     2318   \n",
       "3                     278                     2624                     5371   \n",
       "6                     612                      377                    23647   \n",
       "7                     617                      377                    27236   \n",
       "8                     663                    54464                      226   \n",
       "\n",
       "  BioGRID ID Interactor A BioGRID ID Interactor B  \\\n",
       "0                  112315                  108607   \n",
       "3                  108894                  111384   \n",
       "6                  106872                  117174   \n",
       "7                  106872                  118084   \n",
       "8                  119970                  106728   \n",
       "\n",
       "  Systematic Name Interactor A Systematic Name Interactor B  \\\n",
       "0                            -                            -   \n",
       "3                            -                            -   \n",
       "6                            -                            -   \n",
       "7                            -                            -   \n",
       "8                            -                            -   \n",
       "\n",
       "  Official Symbol Interactor A Official Symbol Interactor B  \\\n",
       "0                       MAP2K4                         FLNC   \n",
       "3                        GATA2                          PML   \n",
       "6                         ARF3                       ARFIP2   \n",
       "7                         ARF3                       ARFIP1   \n",
       "8                         XRN1                        ALDOA   \n",
       "\n",
       "                               Synonyms Interactor A       ...        \\\n",
       "0  JNKK|JNKK1|MAPKK4|MEK4|MKK4|PRKMK4|SAPKK-1|SAP...       ...         \n",
       "3                           DCML|IMD21|MONOMAC|NFE1B       ...         \n",
       "6                                                  -       ...         \n",
       "7                                                  -       ...         \n",
       "8                                               SEP1       ...         \n",
       "\n",
       "  Pubmed ID Organism Interactor A Organism Interactor B       Throughput  \\\n",
       "0   9006895                  9606                  9606   Low Throughput   \n",
       "3  10938104                  9606                  9606   Low Throughput   \n",
       "6   9038142                  9606                  9606   Low Throughput   \n",
       "7   9038142                  9606                  9606   Low Throughput   \n",
       "8  15231747                  9606                  9606  High Throughput   \n",
       "\n",
       "  Score Modification Phenotypes Qualifications Tags Source Database  \n",
       "0     -            -          -              -    -         BIOGRID  \n",
       "3     -            -          -              -    -         BIOGRID  \n",
       "6     -            -          -              -    -         BIOGRID  \n",
       "7     -            -          -              -    -         BIOGRID  \n",
       "8     -            -          -              -    -         BIOGRID  \n",
       "\n",
       "[5 rows x 24 columns]"
      ]
     },
     "execution_count": 16,
     "metadata": {},
     "output_type": "execute_result"
    }
   ],
   "source": [
    "#list of interactions among not seed genes that interact with at least one seed gene\n",
    "df5 = biogrid[(biogrid['Official Symbol Interactor A'].isin(df4['not seed genes'])) & (biogrid['Official Symbol Interactor B'].isin(df4['not seed genes']))]\n",
    "df5.head()"
   ]
  },
  {
   "cell_type": "code",
   "execution_count": 17,
   "metadata": {},
   "outputs": [
    {
     "data": {
      "text/html": [
       "<div>\n",
       "<style scoped>\n",
       "    .dataframe tbody tr th:only-of-type {\n",
       "        vertical-align: middle;\n",
       "    }\n",
       "\n",
       "    .dataframe tbody tr th {\n",
       "        vertical-align: top;\n",
       "    }\n",
       "\n",
       "    .dataframe thead th {\n",
       "        text-align: right;\n",
       "    }\n",
       "</style>\n",
       "<table border=\"1\" class=\"dataframe\">\n",
       "  <thead>\n",
       "    <tr style=\"text-align: right;\">\n",
       "      <th></th>\n",
       "      <th>#BioGRID Interaction ID</th>\n",
       "      <th>Entrez Gene Interactor A</th>\n",
       "      <th>Entrez Gene Interactor B</th>\n",
       "      <th>BioGRID ID Interactor A</th>\n",
       "      <th>BioGRID ID Interactor B</th>\n",
       "      <th>Systematic Name Interactor A</th>\n",
       "      <th>Systematic Name Interactor B</th>\n",
       "      <th>Official Symbol Interactor A</th>\n",
       "      <th>Official Symbol Interactor B</th>\n",
       "      <th>Synonyms Interactor A</th>\n",
       "      <th>...</th>\n",
       "      <th>Pubmed ID</th>\n",
       "      <th>Organism Interactor A</th>\n",
       "      <th>Organism Interactor B</th>\n",
       "      <th>Throughput</th>\n",
       "      <th>Score</th>\n",
       "      <th>Modification</th>\n",
       "      <th>Phenotypes</th>\n",
       "      <th>Qualifications</th>\n",
       "      <th>Tags</th>\n",
       "      <th>Source Database</th>\n",
       "    </tr>\n",
       "  </thead>\n",
       "  <tbody>\n",
       "    <tr>\n",
       "      <th>4</th>\n",
       "      <td>418</td>\n",
       "      <td>6118</td>\n",
       "      <td>6774</td>\n",
       "      <td>112038</td>\n",
       "      <td>112651</td>\n",
       "      <td>RP4-547C9.3</td>\n",
       "      <td>-</td>\n",
       "      <td>RPA2</td>\n",
       "      <td>STAT3</td>\n",
       "      <td>REPA2|RP-A p32|RP-A p34|RPA32</td>\n",
       "      <td>...</td>\n",
       "      <td>10875894</td>\n",
       "      <td>9606</td>\n",
       "      <td>9606</td>\n",
       "      <td>Low Throughput</td>\n",
       "      <td>-</td>\n",
       "      <td>-</td>\n",
       "      <td>-</td>\n",
       "      <td>-</td>\n",
       "      <td>-</td>\n",
       "      <td>BIOGRID</td>\n",
       "    </tr>\n",
       "    <tr>\n",
       "      <th>83</th>\n",
       "      <td>5818</td>\n",
       "      <td>79039</td>\n",
       "      <td>2099</td>\n",
       "      <td>122503</td>\n",
       "      <td>108403</td>\n",
       "      <td>-</td>\n",
       "      <td>RP1-130E4.1</td>\n",
       "      <td>DDX54</td>\n",
       "      <td>ESR1</td>\n",
       "      <td>DP97</td>\n",
       "      <td>...</td>\n",
       "      <td>12466272</td>\n",
       "      <td>9606</td>\n",
       "      <td>9606</td>\n",
       "      <td>Low Throughput</td>\n",
       "      <td>-</td>\n",
       "      <td>-</td>\n",
       "      <td>-</td>\n",
       "      <td>-</td>\n",
       "      <td>-</td>\n",
       "      <td>BIOGRID</td>\n",
       "    </tr>\n",
       "    <tr>\n",
       "      <th>129</th>\n",
       "      <td>7682</td>\n",
       "      <td>8100</td>\n",
       "      <td>7916</td>\n",
       "      <td>113771</td>\n",
       "      <td>113646</td>\n",
       "      <td>RP11-172H24.2</td>\n",
       "      <td>DADB-70P7.5</td>\n",
       "      <td>IFT88</td>\n",
       "      <td>PRRC2A</td>\n",
       "      <td>D13S1056E|DAF19|TG737|TTC10|hTg737</td>\n",
       "      <td>...</td>\n",
       "      <td>14667819</td>\n",
       "      <td>9606</td>\n",
       "      <td>9606</td>\n",
       "      <td>Low Throughput</td>\n",
       "      <td>-</td>\n",
       "      <td>-</td>\n",
       "      <td>-</td>\n",
       "      <td>-</td>\n",
       "      <td>-</td>\n",
       "      <td>BIOGRID</td>\n",
       "    </tr>\n",
       "    <tr>\n",
       "      <th>139</th>\n",
       "      <td>8485</td>\n",
       "      <td>3480</td>\n",
       "      <td>3667</td>\n",
       "      <td>109701</td>\n",
       "      <td>109874</td>\n",
       "      <td>-</td>\n",
       "      <td>-</td>\n",
       "      <td>IGF1R</td>\n",
       "      <td>IRS1</td>\n",
       "      <td>CD221|IGFIR|IGFR|JTK13</td>\n",
       "      <td>...</td>\n",
       "      <td>7559507</td>\n",
       "      <td>9606</td>\n",
       "      <td>9606</td>\n",
       "      <td>Low Throughput</td>\n",
       "      <td>-</td>\n",
       "      <td>-</td>\n",
       "      <td>-</td>\n",
       "      <td>-</td>\n",
       "      <td>-</td>\n",
       "      <td>BIOGRID</td>\n",
       "    </tr>\n",
       "    <tr>\n",
       "      <th>142</th>\n",
       "      <td>8570</td>\n",
       "      <td>5747</td>\n",
       "      <td>3667</td>\n",
       "      <td>111719</td>\n",
       "      <td>109874</td>\n",
       "      <td>-</td>\n",
       "      <td>-</td>\n",
       "      <td>PTK2</td>\n",
       "      <td>IRS1</td>\n",
       "      <td>FADK|FAK|FAK1|FRNK|PPP1R71|p125FAK|pp125FAK</td>\n",
       "      <td>...</td>\n",
       "      <td>9822703</td>\n",
       "      <td>9606</td>\n",
       "      <td>9606</td>\n",
       "      <td>Low Throughput</td>\n",
       "      <td>-</td>\n",
       "      <td>-</td>\n",
       "      <td>-</td>\n",
       "      <td>-</td>\n",
       "      <td>-</td>\n",
       "      <td>BIOGRID</td>\n",
       "    </tr>\n",
       "  </tbody>\n",
       "</table>\n",
       "<p>5 rows × 24 columns</p>\n",
       "</div>"
      ],
      "text/plain": [
       "    #BioGRID Interaction ID Entrez Gene Interactor A Entrez Gene Interactor B  \\\n",
       "4                       418                     6118                     6774   \n",
       "83                     5818                    79039                     2099   \n",
       "129                    7682                     8100                     7916   \n",
       "139                    8485                     3480                     3667   \n",
       "142                    8570                     5747                     3667   \n",
       "\n",
       "    BioGRID ID Interactor A BioGRID ID Interactor B  \\\n",
       "4                    112038                  112651   \n",
       "83                   122503                  108403   \n",
       "129                  113771                  113646   \n",
       "139                  109701                  109874   \n",
       "142                  111719                  109874   \n",
       "\n",
       "    Systematic Name Interactor A Systematic Name Interactor B  \\\n",
       "4                    RP4-547C9.3                            -   \n",
       "83                             -                  RP1-130E4.1   \n",
       "129                RP11-172H24.2                  DADB-70P7.5   \n",
       "139                            -                            -   \n",
       "142                            -                            -   \n",
       "\n",
       "    Official Symbol Interactor A Official Symbol Interactor B  \\\n",
       "4                           RPA2                        STAT3   \n",
       "83                         DDX54                         ESR1   \n",
       "129                        IFT88                       PRRC2A   \n",
       "139                        IGF1R                         IRS1   \n",
       "142                         PTK2                         IRS1   \n",
       "\n",
       "                           Synonyms Interactor A       ...       Pubmed ID  \\\n",
       "4                  REPA2|RP-A p32|RP-A p34|RPA32       ...        10875894   \n",
       "83                                          DP97       ...        12466272   \n",
       "129           D13S1056E|DAF19|TG737|TTC10|hTg737       ...        14667819   \n",
       "139                       CD221|IGFIR|IGFR|JTK13       ...         7559507   \n",
       "142  FADK|FAK|FAK1|FRNK|PPP1R71|p125FAK|pp125FAK       ...         9822703   \n",
       "\n",
       "    Organism Interactor A Organism Interactor B      Throughput Score  \\\n",
       "4                    9606                  9606  Low Throughput     -   \n",
       "83                   9606                  9606  Low Throughput     -   \n",
       "129                  9606                  9606  Low Throughput     -   \n",
       "139                  9606                  9606  Low Throughput     -   \n",
       "142                  9606                  9606  Low Throughput     -   \n",
       "\n",
       "    Modification Phenotypes Qualifications Tags Source Database  \n",
       "4              -          -              -    -         BIOGRID  \n",
       "83             -          -              -    -         BIOGRID  \n",
       "129            -          -              -    -         BIOGRID  \n",
       "139            -          -              -    -         BIOGRID  \n",
       "142            -          -              -    -         BIOGRID  \n",
       "\n",
       "[5 rows x 24 columns]"
      ]
     },
     "execution_count": 17,
     "metadata": {},
     "output_type": "execute_result"
    }
   ],
   "source": [
    "biogrid_output = df1.append(df5)\n",
    "biogrid_output.head()"
   ]
  },
  {
   "cell_type": "code",
   "execution_count": 18,
   "metadata": {},
   "outputs": [
    {
     "data": {
      "text/plain": [
       "(212465, 24)"
      ]
     },
     "execution_count": 18,
     "metadata": {},
     "output_type": "execute_result"
    }
   ],
   "source": [
    "#info biogrid_output\n",
    "biogrid_output.shape"
   ]
  },
  {
   "cell_type": "code",
   "execution_count": 19,
   "metadata": {},
   "outputs": [],
   "source": [
    "#save in excel format the biogrid output (WITH DUPLICATES) !!IMPORTANT: remove the # to save the below file!!\n",
    "\n",
    "#biogrid_output.to_excel(\"biogrid_output_with_duplicates.xlsx\", index = None, header=True)"
   ]
  },
  {
   "cell_type": "markdown",
   "metadata": {},
   "source": [
    "##### 1.2.a&b) IID Integrated Interactions Database"
   ]
  },
  {
   "cell_type": "code",
   "execution_count": 20,
   "metadata": {},
   "outputs": [
    {
     "data": {
      "text/html": [
       "<div>\n",
       "<style scoped>\n",
       "    .dataframe tbody tr th:only-of-type {\n",
       "        vertical-align: middle;\n",
       "    }\n",
       "\n",
       "    .dataframe tbody tr th {\n",
       "        vertical-align: top;\n",
       "    }\n",
       "\n",
       "    .dataframe thead th {\n",
       "        text-align: right;\n",
       "    }\n",
       "</style>\n",
       "<table border=\"1\" class=\"dataframe\">\n",
       "  <thead>\n",
       "    <tr style=\"text-align: right;\">\n",
       "      <th></th>\n",
       "      <th>uniprot1</th>\n",
       "      <th>uniprot2</th>\n",
       "      <th>symbol1</th>\n",
       "      <th>symbol2</th>\n",
       "      <th>methods</th>\n",
       "      <th>pmids</th>\n",
       "      <th>dbs</th>\n",
       "      <th>evidence type</th>\n",
       "      <th>adipose tissue</th>\n",
       "      <th>adrenal gland</th>\n",
       "      <th>...</th>\n",
       "      <th>arteriosclerosis</th>\n",
       "      <th>lymphocytic leukemia</th>\n",
       "      <th>enzymes</th>\n",
       "      <th>ion channels</th>\n",
       "      <th>receptors</th>\n",
       "      <th>transporters</th>\n",
       "      <th>drug targets</th>\n",
       "      <th>targeting drugs</th>\n",
       "      <th>orthologs are drug targets</th>\n",
       "      <th>drugs targeting orthologs</th>\n",
       "    </tr>\n",
       "  </thead>\n",
       "  <tbody>\n",
       "    <tr>\n",
       "      <th>0</th>\n",
       "      <td>Q9NUX5</td>\n",
       "      <td>Q9NVM4</td>\n",
       "      <td>POT1</td>\n",
       "      <td>PRMT7</td>\n",
       "      <td>bimolecular fluorescence complementation;two h...</td>\n",
       "      <td>21044950</td>\n",
       "      <td>biogrid;intact</td>\n",
       "      <td>exp</td>\n",
       "      <td>0</td>\n",
       "      <td>0</td>\n",
       "      <td>...</td>\n",
       "      <td>0</td>\n",
       "      <td>0</td>\n",
       "      <td>1</td>\n",
       "      <td>0</td>\n",
       "      <td>0</td>\n",
       "      <td>0</td>\n",
       "      <td>0</td>\n",
       "      <td>-</td>\n",
       "      <td>0</td>\n",
       "      <td>-</td>\n",
       "    </tr>\n",
       "    <tr>\n",
       "      <th>1</th>\n",
       "      <td>Q96JY6</td>\n",
       "      <td>Q9NPC6</td>\n",
       "      <td>PDLIM2</td>\n",
       "      <td>MYOZ2</td>\n",
       "      <td>-</td>\n",
       "      <td>21836163</td>\n",
       "      <td>iid-pred</td>\n",
       "      <td>pred</td>\n",
       "      <td>0</td>\n",
       "      <td>1</td>\n",
       "      <td>...</td>\n",
       "      <td>0</td>\n",
       "      <td>0</td>\n",
       "      <td>0</td>\n",
       "      <td>0</td>\n",
       "      <td>0</td>\n",
       "      <td>0</td>\n",
       "      <td>0</td>\n",
       "      <td>-</td>\n",
       "      <td>0</td>\n",
       "      <td>-</td>\n",
       "    </tr>\n",
       "    <tr>\n",
       "      <th>2</th>\n",
       "      <td>Q15414</td>\n",
       "      <td>Q32P51</td>\n",
       "      <td>-</td>\n",
       "      <td>HNRNPA1L2</td>\n",
       "      <td>-</td>\n",
       "      <td>23023127</td>\n",
       "      <td>iid-pred</td>\n",
       "      <td>pred</td>\n",
       "      <td>?</td>\n",
       "      <td>?</td>\n",
       "      <td>...</td>\n",
       "      <td>0</td>\n",
       "      <td>0</td>\n",
       "      <td>0</td>\n",
       "      <td>0</td>\n",
       "      <td>0</td>\n",
       "      <td>0</td>\n",
       "      <td>0</td>\n",
       "      <td>-</td>\n",
       "      <td>0</td>\n",
       "      <td>-</td>\n",
       "    </tr>\n",
       "    <tr>\n",
       "      <th>3</th>\n",
       "      <td>P62633</td>\n",
       "      <td>Q99729</td>\n",
       "      <td>CNBP</td>\n",
       "      <td>HNRNPAB</td>\n",
       "      <td>affinity chromatography technology;anti bait c...</td>\n",
       "      <td>17353931</td>\n",
       "      <td>biogrid;intact</td>\n",
       "      <td>exp</td>\n",
       "      <td>1</td>\n",
       "      <td>1</td>\n",
       "      <td>...</td>\n",
       "      <td>0</td>\n",
       "      <td>0</td>\n",
       "      <td>0</td>\n",
       "      <td>0</td>\n",
       "      <td>0</td>\n",
       "      <td>0</td>\n",
       "      <td>0</td>\n",
       "      <td>-</td>\n",
       "      <td>0</td>\n",
       "      <td>-</td>\n",
       "    </tr>\n",
       "    <tr>\n",
       "      <th>4</th>\n",
       "      <td>P29353</td>\n",
       "      <td>P42685</td>\n",
       "      <td>SHC1</td>\n",
       "      <td>FRK</td>\n",
       "      <td>-</td>\n",
       "      <td>25402006</td>\n",
       "      <td>iid-pred</td>\n",
       "      <td>pred</td>\n",
       "      <td>0</td>\n",
       "      <td>0</td>\n",
       "      <td>...</td>\n",
       "      <td>0</td>\n",
       "      <td>0</td>\n",
       "      <td>1</td>\n",
       "      <td>0</td>\n",
       "      <td>0</td>\n",
       "      <td>0</td>\n",
       "      <td>1</td>\n",
       "      <td>Dasatinib;Regorafenib</td>\n",
       "      <td>0</td>\n",
       "      <td>-</td>\n",
       "    </tr>\n",
       "  </tbody>\n",
       "</table>\n",
       "<p>5 rows × 253 columns</p>\n",
       "</div>"
      ],
      "text/plain": [
       "  uniprot1 uniprot2 symbol1    symbol2  \\\n",
       "0   Q9NUX5   Q9NVM4    POT1      PRMT7   \n",
       "1   Q96JY6   Q9NPC6  PDLIM2      MYOZ2   \n",
       "2   Q15414   Q32P51       -  HNRNPA1L2   \n",
       "3   P62633   Q99729    CNBP    HNRNPAB   \n",
       "4   P29353   P42685    SHC1        FRK   \n",
       "\n",
       "                                             methods     pmids  \\\n",
       "0  bimolecular fluorescence complementation;two h...  21044950   \n",
       "1                                                  -  21836163   \n",
       "2                                                  -  23023127   \n",
       "3  affinity chromatography technology;anti bait c...  17353931   \n",
       "4                                                  -  25402006   \n",
       "\n",
       "              dbs evidence type adipose tissue adrenal gland  \\\n",
       "0  biogrid;intact           exp              0             0   \n",
       "1        iid-pred          pred              0             1   \n",
       "2        iid-pred          pred              ?             ?   \n",
       "3  biogrid;intact           exp              1             1   \n",
       "4        iid-pred          pred              0             0   \n",
       "\n",
       "             ...            arteriosclerosis lymphocytic leukemia enzymes  \\\n",
       "0            ...                           0                    0       1   \n",
       "1            ...                           0                    0       0   \n",
       "2            ...                           0                    0       0   \n",
       "3            ...                           0                    0       0   \n",
       "4            ...                           0                    0       1   \n",
       "\n",
       "  ion channels receptors transporters drug targets        targeting drugs  \\\n",
       "0            0         0            0            0                      -   \n",
       "1            0         0            0            0                      -   \n",
       "2            0         0            0            0                      -   \n",
       "3            0         0            0            0                      -   \n",
       "4            0         0            0            1  Dasatinib;Regorafenib   \n",
       "\n",
       "  orthologs are drug targets drugs targeting orthologs  \n",
       "0                          0                         -  \n",
       "1                          0                         -  \n",
       "2                          0                         -  \n",
       "3                          0                         -  \n",
       "4                          0                         -  \n",
       "\n",
       "[5 rows x 253 columns]"
      ]
     },
     "execution_count": 20,
     "metadata": {},
     "output_type": "execute_result"
    }
   ],
   "source": [
    "#read IID interaction data\n",
    "iid = pd.read_csv('human_annotated_PPIs.txt.gz', compression='gzip', header=0, sep='\\t', error_bad_lines=False)\n",
    "iid.head()"
   ]
  },
  {
   "cell_type": "code",
   "execution_count": 21,
   "metadata": {},
   "outputs": [
    {
     "data": {
      "text/plain": [
       "(975877, 253)"
      ]
     },
     "execution_count": 21,
     "metadata": {},
     "output_type": "execute_result"
    }
   ],
   "source": [
    "#info IID interaction data\n",
    "iid.shape"
   ]
  },
  {
   "cell_type": "code",
   "execution_count": 22,
   "metadata": {},
   "outputs": [
    {
     "data": {
      "text/html": [
       "<div>\n",
       "<style scoped>\n",
       "    .dataframe tbody tr th:only-of-type {\n",
       "        vertical-align: middle;\n",
       "    }\n",
       "\n",
       "    .dataframe tbody tr th {\n",
       "        vertical-align: top;\n",
       "    }\n",
       "\n",
       "    .dataframe thead th {\n",
       "        text-align: right;\n",
       "    }\n",
       "</style>\n",
       "<table border=\"1\" class=\"dataframe\">\n",
       "  <thead>\n",
       "    <tr style=\"text-align: right;\">\n",
       "      <th></th>\n",
       "      <th>uniprot1</th>\n",
       "      <th>uniprot2</th>\n",
       "      <th>symbol1</th>\n",
       "      <th>symbol2</th>\n",
       "      <th>methods</th>\n",
       "      <th>pmids</th>\n",
       "      <th>dbs</th>\n",
       "      <th>evidence type</th>\n",
       "      <th>adipose tissue</th>\n",
       "      <th>adrenal gland</th>\n",
       "      <th>...</th>\n",
       "      <th>arteriosclerosis</th>\n",
       "      <th>lymphocytic leukemia</th>\n",
       "      <th>enzymes</th>\n",
       "      <th>ion channels</th>\n",
       "      <th>receptors</th>\n",
       "      <th>transporters</th>\n",
       "      <th>drug targets</th>\n",
       "      <th>targeting drugs</th>\n",
       "      <th>orthologs are drug targets</th>\n",
       "      <th>drugs targeting orthologs</th>\n",
       "    </tr>\n",
       "  </thead>\n",
       "  <tbody>\n",
       "    <tr>\n",
       "      <th>0</th>\n",
       "      <td>Q9NUX5</td>\n",
       "      <td>Q9NVM4</td>\n",
       "      <td>POT1</td>\n",
       "      <td>PRMT7</td>\n",
       "      <td>bimolecular fluorescence complementation;two h...</td>\n",
       "      <td>21044950</td>\n",
       "      <td>biogrid;intact</td>\n",
       "      <td>exp</td>\n",
       "      <td>0</td>\n",
       "      <td>0</td>\n",
       "      <td>...</td>\n",
       "      <td>0</td>\n",
       "      <td>0</td>\n",
       "      <td>1</td>\n",
       "      <td>0</td>\n",
       "      <td>0</td>\n",
       "      <td>0</td>\n",
       "      <td>0</td>\n",
       "      <td>-</td>\n",
       "      <td>0</td>\n",
       "      <td>-</td>\n",
       "    </tr>\n",
       "    <tr>\n",
       "      <th>3</th>\n",
       "      <td>P62633</td>\n",
       "      <td>Q99729</td>\n",
       "      <td>CNBP</td>\n",
       "      <td>HNRNPAB</td>\n",
       "      <td>affinity chromatography technology;anti bait c...</td>\n",
       "      <td>17353931</td>\n",
       "      <td>biogrid;intact</td>\n",
       "      <td>exp</td>\n",
       "      <td>1</td>\n",
       "      <td>1</td>\n",
       "      <td>...</td>\n",
       "      <td>0</td>\n",
       "      <td>0</td>\n",
       "      <td>0</td>\n",
       "      <td>0</td>\n",
       "      <td>0</td>\n",
       "      <td>0</td>\n",
       "      <td>0</td>\n",
       "      <td>-</td>\n",
       "      <td>0</td>\n",
       "      <td>-</td>\n",
       "    </tr>\n",
       "    <tr>\n",
       "      <th>6</th>\n",
       "      <td>O43715</td>\n",
       "      <td>O95817</td>\n",
       "      <td>TRIAP1</td>\n",
       "      <td>BAG3</td>\n",
       "      <td>affinity chromatography technology</td>\n",
       "      <td>23824909</td>\n",
       "      <td>biogrid</td>\n",
       "      <td>exp</td>\n",
       "      <td>1</td>\n",
       "      <td>1</td>\n",
       "      <td>...</td>\n",
       "      <td>0</td>\n",
       "      <td>0</td>\n",
       "      <td>0</td>\n",
       "      <td>0</td>\n",
       "      <td>0</td>\n",
       "      <td>0</td>\n",
       "      <td>0</td>\n",
       "      <td>-</td>\n",
       "      <td>0</td>\n",
       "      <td>-</td>\n",
       "    </tr>\n",
       "    <tr>\n",
       "      <th>7</th>\n",
       "      <td>Q13285</td>\n",
       "      <td>Q9UKM9</td>\n",
       "      <td>NR5A1</td>\n",
       "      <td>RALY</td>\n",
       "      <td>anti tag coimmunoprecipitation</td>\n",
       "      <td>24635384</td>\n",
       "      <td>intact</td>\n",
       "      <td>exp</td>\n",
       "      <td>0</td>\n",
       "      <td>1</td>\n",
       "      <td>...</td>\n",
       "      <td>0</td>\n",
       "      <td>0</td>\n",
       "      <td>0</td>\n",
       "      <td>0</td>\n",
       "      <td>1</td>\n",
       "      <td>0</td>\n",
       "      <td>1</td>\n",
       "      <td>(2R)-3-{[{[(2S)-2,3-DIHYDROXYPROPYL]OXY}(HYDRO...</td>\n",
       "      <td>0</td>\n",
       "      <td>-</td>\n",
       "    </tr>\n",
       "    <tr>\n",
       "      <th>9</th>\n",
       "      <td>P60174</td>\n",
       "      <td>Q9H0W5</td>\n",
       "      <td>TPI1</td>\n",
       "      <td>CCDC8</td>\n",
       "      <td>affinity chromatography technology</td>\n",
       "      <td>24711643</td>\n",
       "      <td>biogrid</td>\n",
       "      <td>exp</td>\n",
       "      <td>1</td>\n",
       "      <td>1</td>\n",
       "      <td>...</td>\n",
       "      <td>0</td>\n",
       "      <td>0</td>\n",
       "      <td>1</td>\n",
       "      <td>0</td>\n",
       "      <td>0</td>\n",
       "      <td>0</td>\n",
       "      <td>1</td>\n",
       "      <td>[2(Formyl-Hydroxy-Amino)-Ethyl]-Phosphonic Aci...</td>\n",
       "      <td>0</td>\n",
       "      <td>-</td>\n",
       "    </tr>\n",
       "  </tbody>\n",
       "</table>\n",
       "<p>5 rows × 253 columns</p>\n",
       "</div>"
      ],
      "text/plain": [
       "  uniprot1 uniprot2 symbol1  symbol2  \\\n",
       "0   Q9NUX5   Q9NVM4    POT1    PRMT7   \n",
       "3   P62633   Q99729    CNBP  HNRNPAB   \n",
       "6   O43715   O95817  TRIAP1     BAG3   \n",
       "7   Q13285   Q9UKM9   NR5A1     RALY   \n",
       "9   P60174   Q9H0W5    TPI1    CCDC8   \n",
       "\n",
       "                                             methods     pmids  \\\n",
       "0  bimolecular fluorescence complementation;two h...  21044950   \n",
       "3  affinity chromatography technology;anti bait c...  17353931   \n",
       "6                 affinity chromatography technology  23824909   \n",
       "7                     anti tag coimmunoprecipitation  24635384   \n",
       "9                 affinity chromatography technology  24711643   \n",
       "\n",
       "              dbs evidence type adipose tissue adrenal gland  \\\n",
       "0  biogrid;intact           exp              0             0   \n",
       "3  biogrid;intact           exp              1             1   \n",
       "6         biogrid           exp              1             1   \n",
       "7          intact           exp              0             1   \n",
       "9         biogrid           exp              1             1   \n",
       "\n",
       "             ...            arteriosclerosis lymphocytic leukemia enzymes  \\\n",
       "0            ...                           0                    0       1   \n",
       "3            ...                           0                    0       0   \n",
       "6            ...                           0                    0       0   \n",
       "7            ...                           0                    0       0   \n",
       "9            ...                           0                    0       1   \n",
       "\n",
       "  ion channels receptors transporters drug targets  \\\n",
       "0            0         0            0            0   \n",
       "3            0         0            0            0   \n",
       "6            0         0            0            0   \n",
       "7            0         1            0            1   \n",
       "9            0         0            0            1   \n",
       "\n",
       "                                     targeting drugs  \\\n",
       "0                                                  -   \n",
       "3                                                  -   \n",
       "6                                                  -   \n",
       "7  (2R)-3-{[{[(2S)-2,3-DIHYDROXYPROPYL]OXY}(HYDRO...   \n",
       "9  [2(Formyl-Hydroxy-Amino)-Ethyl]-Phosphonic Aci...   \n",
       "\n",
       "  orthologs are drug targets drugs targeting orthologs  \n",
       "0                          0                         -  \n",
       "3                          0                         -  \n",
       "6                          0                         -  \n",
       "7                          0                         -  \n",
       "9                          0                         -  \n",
       "\n",
       "[5 rows x 253 columns]"
      ]
     },
     "execution_count": 22,
     "metadata": {},
     "output_type": "execute_result"
    }
   ],
   "source": [
    "#consider only experimental data (exp/exp;ortho/exp;ortho;pred) in evidence type column\n",
    "iid = iid[iid['evidence type'].str.contains(\"exp\")]\n",
    "iid.head()"
   ]
  },
  {
   "cell_type": "code",
   "execution_count": 23,
   "metadata": {},
   "outputs": [
    {
     "data": {
      "text/plain": [
       "(334315, 253)"
      ]
     },
     "execution_count": 23,
     "metadata": {},
     "output_type": "execute_result"
    }
   ],
   "source": [
    "#info IID interaction data\n",
    "iid.shape"
   ]
  },
  {
   "cell_type": "code",
   "execution_count": 24,
   "metadata": {},
   "outputs": [
    {
     "data": {
      "text/html": [
       "<div>\n",
       "<style scoped>\n",
       "    .dataframe tbody tr th:only-of-type {\n",
       "        vertical-align: middle;\n",
       "    }\n",
       "\n",
       "    .dataframe tbody tr th {\n",
       "        vertical-align: top;\n",
       "    }\n",
       "\n",
       "    .dataframe thead th {\n",
       "        text-align: right;\n",
       "    }\n",
       "</style>\n",
       "<table border=\"1\" class=\"dataframe\">\n",
       "  <thead>\n",
       "    <tr style=\"text-align: right;\">\n",
       "      <th></th>\n",
       "      <th>uniprot1</th>\n",
       "      <th>uniprot2</th>\n",
       "      <th>symbol1</th>\n",
       "      <th>symbol2</th>\n",
       "      <th>methods</th>\n",
       "      <th>pmids</th>\n",
       "      <th>dbs</th>\n",
       "      <th>evidence type</th>\n",
       "      <th>adipose tissue</th>\n",
       "      <th>adrenal gland</th>\n",
       "      <th>...</th>\n",
       "      <th>arteriosclerosis</th>\n",
       "      <th>lymphocytic leukemia</th>\n",
       "      <th>enzymes</th>\n",
       "      <th>ion channels</th>\n",
       "      <th>receptors</th>\n",
       "      <th>transporters</th>\n",
       "      <th>drug targets</th>\n",
       "      <th>targeting drugs</th>\n",
       "      <th>orthologs are drug targets</th>\n",
       "      <th>drugs targeting orthologs</th>\n",
       "    </tr>\n",
       "  </thead>\n",
       "  <tbody>\n",
       "    <tr>\n",
       "      <th>151</th>\n",
       "      <td>P06400</td>\n",
       "      <td>P52757</td>\n",
       "      <td>RB1</td>\n",
       "      <td>CHN2</td>\n",
       "      <td>two hybrid;two hybrid array</td>\n",
       "      <td>25814554</td>\n",
       "      <td>biogrid;intact</td>\n",
       "      <td>exp</td>\n",
       "      <td>1</td>\n",
       "      <td>1</td>\n",
       "      <td>...</td>\n",
       "      <td>0</td>\n",
       "      <td>0</td>\n",
       "      <td>0</td>\n",
       "      <td>0</td>\n",
       "      <td>0</td>\n",
       "      <td>0</td>\n",
       "      <td>1</td>\n",
       "      <td>Insulin Human;Insulin Pork</td>\n",
       "      <td>0</td>\n",
       "      <td>-</td>\n",
       "    </tr>\n",
       "    <tr>\n",
       "      <th>262</th>\n",
       "      <td>P35232</td>\n",
       "      <td>Q00610</td>\n",
       "      <td>PHB</td>\n",
       "      <td>CLTC</td>\n",
       "      <td>biochemical</td>\n",
       "      <td>26344197</td>\n",
       "      <td>biogrid</td>\n",
       "      <td>exp</td>\n",
       "      <td>1</td>\n",
       "      <td>1</td>\n",
       "      <td>...</td>\n",
       "      <td>0</td>\n",
       "      <td>0</td>\n",
       "      <td>0</td>\n",
       "      <td>0</td>\n",
       "      <td>0</td>\n",
       "      <td>0</td>\n",
       "      <td>0</td>\n",
       "      <td>-</td>\n",
       "      <td>0</td>\n",
       "      <td>-</td>\n",
       "    </tr>\n",
       "    <tr>\n",
       "      <th>304</th>\n",
       "      <td>O95070</td>\n",
       "      <td>Q92542</td>\n",
       "      <td>YIF1A</td>\n",
       "      <td>NCSTN</td>\n",
       "      <td>affinity chromatography technology;anti tag co...</td>\n",
       "      <td>26496610</td>\n",
       "      <td>biogrid;intact</td>\n",
       "      <td>exp</td>\n",
       "      <td>1</td>\n",
       "      <td>1</td>\n",
       "      <td>...</td>\n",
       "      <td>0</td>\n",
       "      <td>0</td>\n",
       "      <td>1</td>\n",
       "      <td>0</td>\n",
       "      <td>0</td>\n",
       "      <td>0</td>\n",
       "      <td>0</td>\n",
       "      <td>-</td>\n",
       "      <td>0</td>\n",
       "      <td>-</td>\n",
       "    </tr>\n",
       "    <tr>\n",
       "      <th>347</th>\n",
       "      <td>O60506</td>\n",
       "      <td>P35232</td>\n",
       "      <td>SYNCRIP</td>\n",
       "      <td>PHB</td>\n",
       "      <td>biochemical</td>\n",
       "      <td>22939629</td>\n",
       "      <td>biogrid</td>\n",
       "      <td>exp</td>\n",
       "      <td>1</td>\n",
       "      <td>1</td>\n",
       "      <td>...</td>\n",
       "      <td>0</td>\n",
       "      <td>0</td>\n",
       "      <td>0</td>\n",
       "      <td>0</td>\n",
       "      <td>0</td>\n",
       "      <td>0</td>\n",
       "      <td>0</td>\n",
       "      <td>-</td>\n",
       "      <td>0</td>\n",
       "      <td>-</td>\n",
       "    </tr>\n",
       "    <tr>\n",
       "      <th>532</th>\n",
       "      <td>O00515</td>\n",
       "      <td>P12830</td>\n",
       "      <td>LAD1</td>\n",
       "      <td>CDH1</td>\n",
       "      <td>bioid</td>\n",
       "      <td>25468996</td>\n",
       "      <td>biogrid</td>\n",
       "      <td>exp</td>\n",
       "      <td>1</td>\n",
       "      <td>0</td>\n",
       "      <td>...</td>\n",
       "      <td>0</td>\n",
       "      <td>0</td>\n",
       "      <td>0</td>\n",
       "      <td>0</td>\n",
       "      <td>0</td>\n",
       "      <td>0</td>\n",
       "      <td>0</td>\n",
       "      <td>-</td>\n",
       "      <td>0</td>\n",
       "      <td>-</td>\n",
       "    </tr>\n",
       "  </tbody>\n",
       "</table>\n",
       "<p>5 rows × 253 columns</p>\n",
       "</div>"
      ],
      "text/plain": [
       "    uniprot1 uniprot2  symbol1 symbol2  \\\n",
       "151   P06400   P52757      RB1    CHN2   \n",
       "262   P35232   Q00610      PHB    CLTC   \n",
       "304   O95070   Q92542    YIF1A   NCSTN   \n",
       "347   O60506   P35232  SYNCRIP     PHB   \n",
       "532   O00515   P12830     LAD1    CDH1   \n",
       "\n",
       "                                               methods     pmids  \\\n",
       "151                        two hybrid;two hybrid array  25814554   \n",
       "262                                        biochemical  26344197   \n",
       "304  affinity chromatography technology;anti tag co...  26496610   \n",
       "347                                        biochemical  22939629   \n",
       "532                                              bioid  25468996   \n",
       "\n",
       "                dbs evidence type adipose tissue adrenal gland  \\\n",
       "151  biogrid;intact           exp              1             1   \n",
       "262         biogrid           exp              1             1   \n",
       "304  biogrid;intact           exp              1             1   \n",
       "347         biogrid           exp              1             1   \n",
       "532         biogrid           exp              1             0   \n",
       "\n",
       "               ...            arteriosclerosis lymphocytic leukemia enzymes  \\\n",
       "151            ...                           0                    0       0   \n",
       "262            ...                           0                    0       0   \n",
       "304            ...                           0                    0       1   \n",
       "347            ...                           0                    0       0   \n",
       "532            ...                           0                    0       0   \n",
       "\n",
       "    ion channels receptors transporters drug targets  \\\n",
       "151            0         0            0            1   \n",
       "262            0         0            0            0   \n",
       "304            0         0            0            0   \n",
       "347            0         0            0            0   \n",
       "532            0         0            0            0   \n",
       "\n",
       "                targeting drugs orthologs are drug targets  \\\n",
       "151  Insulin Human;Insulin Pork                          0   \n",
       "262                           -                          0   \n",
       "304                           -                          0   \n",
       "347                           -                          0   \n",
       "532                           -                          0   \n",
       "\n",
       "    drugs targeting orthologs  \n",
       "151                         -  \n",
       "262                         -  \n",
       "304                         -  \n",
       "347                         -  \n",
       "532                         -  \n",
       "\n",
       "[5 rows x 253 columns]"
      ]
     },
     "execution_count": 24,
     "metadata": {},
     "output_type": "execute_result"
    }
   ],
   "source": [
    "#list of the proteins interacting with at least one seed gene\n",
    "tf1 = iid[(iid['symbol1'].isin(seedgene['gene symbol'])) | (iid['symbol2'].isin(seedgene['gene symbol']))]\n",
    "tf1.head()"
   ]
  },
  {
   "cell_type": "code",
   "execution_count": 25,
   "metadata": {},
   "outputs": [],
   "source": [
    "#not seed genes that interact with at least one seed gene in symbol1 column \n",
    "tf2 = tf1['symbol1'][(~tf1['symbol1'].isin(seedgene['gene symbol']))]"
   ]
  },
  {
   "cell_type": "code",
   "execution_count": 26,
   "metadata": {},
   "outputs": [],
   "source": [
    "#not seed genes that interact with at least one seed gene in symbol2 column \n",
    "tf3 = tf1['symbol2'][(~tf1['symbol2'].isin(seedgene['gene symbol']))]"
   ]
  },
  {
   "cell_type": "code",
   "execution_count": 27,
   "metadata": {},
   "outputs": [],
   "source": [
    "#list of all not seed genes that interact with at least one seed gene\n",
    "tf4 = tf2.append(tf3)\n",
    "tf4 = pd.DataFrame(tf4)\n",
    "tf4.columns = ['not seed genes'] #rename column\n",
    "tf4 = tf4.drop_duplicates(subset=['not seed genes']) #drop duplicates"
   ]
  },
  {
   "cell_type": "code",
   "execution_count": 28,
   "metadata": {},
   "outputs": [
    {
     "data": {
      "text/html": [
       "<div>\n",
       "<style scoped>\n",
       "    .dataframe tbody tr th:only-of-type {\n",
       "        vertical-align: middle;\n",
       "    }\n",
       "\n",
       "    .dataframe tbody tr th {\n",
       "        vertical-align: top;\n",
       "    }\n",
       "\n",
       "    .dataframe thead th {\n",
       "        text-align: right;\n",
       "    }\n",
       "</style>\n",
       "<table border=\"1\" class=\"dataframe\">\n",
       "  <thead>\n",
       "    <tr style=\"text-align: right;\">\n",
       "      <th></th>\n",
       "      <th>uniprot1</th>\n",
       "      <th>uniprot2</th>\n",
       "      <th>symbol1</th>\n",
       "      <th>symbol2</th>\n",
       "      <th>methods</th>\n",
       "      <th>pmids</th>\n",
       "      <th>dbs</th>\n",
       "      <th>evidence type</th>\n",
       "      <th>adipose tissue</th>\n",
       "      <th>adrenal gland</th>\n",
       "      <th>...</th>\n",
       "      <th>arteriosclerosis</th>\n",
       "      <th>lymphocytic leukemia</th>\n",
       "      <th>enzymes</th>\n",
       "      <th>ion channels</th>\n",
       "      <th>receptors</th>\n",
       "      <th>transporters</th>\n",
       "      <th>drug targets</th>\n",
       "      <th>targeting drugs</th>\n",
       "      <th>orthologs are drug targets</th>\n",
       "      <th>drugs targeting orthologs</th>\n",
       "    </tr>\n",
       "  </thead>\n",
       "  <tbody>\n",
       "    <tr>\n",
       "      <th>9</th>\n",
       "      <td>P60174</td>\n",
       "      <td>Q9H0W5</td>\n",
       "      <td>TPI1</td>\n",
       "      <td>CCDC8</td>\n",
       "      <td>affinity chromatography technology</td>\n",
       "      <td>24711643</td>\n",
       "      <td>biogrid</td>\n",
       "      <td>exp</td>\n",
       "      <td>1</td>\n",
       "      <td>1</td>\n",
       "      <td>...</td>\n",
       "      <td>0</td>\n",
       "      <td>0</td>\n",
       "      <td>1</td>\n",
       "      <td>0</td>\n",
       "      <td>0</td>\n",
       "      <td>0</td>\n",
       "      <td>1</td>\n",
       "      <td>[2(Formyl-Hydroxy-Amino)-Ethyl]-Phosphonic Aci...</td>\n",
       "      <td>0</td>\n",
       "      <td>-</td>\n",
       "    </tr>\n",
       "    <tr>\n",
       "      <th>11</th>\n",
       "      <td>P11388</td>\n",
       "      <td>Q9H0W5</td>\n",
       "      <td>TOP2A</td>\n",
       "      <td>CCDC8</td>\n",
       "      <td>affinity chromatography technology</td>\n",
       "      <td>24711643</td>\n",
       "      <td>biogrid</td>\n",
       "      <td>exp</td>\n",
       "      <td>0</td>\n",
       "      <td>0</td>\n",
       "      <td>...</td>\n",
       "      <td>0</td>\n",
       "      <td>0</td>\n",
       "      <td>1</td>\n",
       "      <td>0</td>\n",
       "      <td>0</td>\n",
       "      <td>0</td>\n",
       "      <td>1</td>\n",
       "      <td>Dactinomycin</td>\n",
       "      <td>0</td>\n",
       "      <td>-</td>\n",
       "    </tr>\n",
       "    <tr>\n",
       "      <th>18</th>\n",
       "      <td>P24539</td>\n",
       "      <td>Q99816</td>\n",
       "      <td>ATP5F1</td>\n",
       "      <td>TSG101</td>\n",
       "      <td>two hybrid</td>\n",
       "      <td>19549727</td>\n",
       "      <td>intact</td>\n",
       "      <td>exp</td>\n",
       "      <td>1</td>\n",
       "      <td>1</td>\n",
       "      <td>...</td>\n",
       "      <td>0</td>\n",
       "      <td>0</td>\n",
       "      <td>0</td>\n",
       "      <td>0</td>\n",
       "      <td>0</td>\n",
       "      <td>1</td>\n",
       "      <td>0</td>\n",
       "      <td>-</td>\n",
       "      <td>0</td>\n",
       "      <td>-</td>\n",
       "    </tr>\n",
       "    <tr>\n",
       "      <th>31</th>\n",
       "      <td>Q06609</td>\n",
       "      <td>Q06609</td>\n",
       "      <td>RAD51</td>\n",
       "      <td>RAD51</td>\n",
       "      <td>affinity chromatography technology;coimmunopre...</td>\n",
       "      <td>10851248;12442171;14580352;17515903;17515904;1...</td>\n",
       "      <td>biogrid;dip;hprd;iid-ortho;intact</td>\n",
       "      <td>exp;ortho</td>\n",
       "      <td>0</td>\n",
       "      <td>0</td>\n",
       "      <td>...</td>\n",
       "      <td>0</td>\n",
       "      <td>1</td>\n",
       "      <td>1</td>\n",
       "      <td>0</td>\n",
       "      <td>0</td>\n",
       "      <td>0</td>\n",
       "      <td>1</td>\n",
       "      <td>Amuvatinib;Phosphoaminophosphonic Acid-Adenyla...</td>\n",
       "      <td>0</td>\n",
       "      <td>-</td>\n",
       "    </tr>\n",
       "    <tr>\n",
       "      <th>35</th>\n",
       "      <td>P13639</td>\n",
       "      <td>P31943</td>\n",
       "      <td>EEF2</td>\n",
       "      <td>HNRNPH1</td>\n",
       "      <td>biochemical</td>\n",
       "      <td>22939629</td>\n",
       "      <td>biogrid</td>\n",
       "      <td>exp</td>\n",
       "      <td>1</td>\n",
       "      <td>1</td>\n",
       "      <td>...</td>\n",
       "      <td>0</td>\n",
       "      <td>0</td>\n",
       "      <td>1</td>\n",
       "      <td>0</td>\n",
       "      <td>0</td>\n",
       "      <td>0</td>\n",
       "      <td>1</td>\n",
       "      <td>Adenosine-5-Diphosphoribose;Diphthamide;Guanos...</td>\n",
       "      <td>0</td>\n",
       "      <td>-</td>\n",
       "    </tr>\n",
       "  </tbody>\n",
       "</table>\n",
       "<p>5 rows × 253 columns</p>\n",
       "</div>"
      ],
      "text/plain": [
       "   uniprot1 uniprot2 symbol1  symbol2  \\\n",
       "9    P60174   Q9H0W5    TPI1    CCDC8   \n",
       "11   P11388   Q9H0W5   TOP2A    CCDC8   \n",
       "18   P24539   Q99816  ATP5F1   TSG101   \n",
       "31   Q06609   Q06609   RAD51    RAD51   \n",
       "35   P13639   P31943    EEF2  HNRNPH1   \n",
       "\n",
       "                                              methods  \\\n",
       "9                  affinity chromatography technology   \n",
       "11                 affinity chromatography technology   \n",
       "18                                         two hybrid   \n",
       "31  affinity chromatography technology;coimmunopre...   \n",
       "35                                        biochemical   \n",
       "\n",
       "                                                pmids  \\\n",
       "9                                            24711643   \n",
       "11                                           24711643   \n",
       "18                                           19549727   \n",
       "31  10851248;12442171;14580352;17515903;17515904;1...   \n",
       "35                                           22939629   \n",
       "\n",
       "                                  dbs evidence type adipose tissue  \\\n",
       "9                             biogrid           exp              1   \n",
       "11                            biogrid           exp              0   \n",
       "18                             intact           exp              1   \n",
       "31  biogrid;dip;hprd;iid-ortho;intact     exp;ortho              0   \n",
       "35                            biogrid           exp              1   \n",
       "\n",
       "   adrenal gland            ...            arteriosclerosis  \\\n",
       "9              1            ...                           0   \n",
       "11             0            ...                           0   \n",
       "18             1            ...                           0   \n",
       "31             0            ...                           0   \n",
       "35             1            ...                           0   \n",
       "\n",
       "   lymphocytic leukemia enzymes ion channels receptors transporters  \\\n",
       "9                     0       1            0         0            0   \n",
       "11                    0       1            0         0            0   \n",
       "18                    0       0            0         0            1   \n",
       "31                    1       1            0         0            0   \n",
       "35                    0       1            0         0            0   \n",
       "\n",
       "   drug targets                                    targeting drugs  \\\n",
       "9             1  [2(Formyl-Hydroxy-Amino)-Ethyl]-Phosphonic Aci...   \n",
       "11            1                                       Dactinomycin   \n",
       "18            0                                                  -   \n",
       "31            1  Amuvatinib;Phosphoaminophosphonic Acid-Adenyla...   \n",
       "35            1  Adenosine-5-Diphosphoribose;Diphthamide;Guanos...   \n",
       "\n",
       "   orthologs are drug targets drugs targeting orthologs  \n",
       "9                           0                         -  \n",
       "11                          0                         -  \n",
       "18                          0                         -  \n",
       "31                          0                         -  \n",
       "35                          0                         -  \n",
       "\n",
       "[5 rows x 253 columns]"
      ]
     },
     "execution_count": 28,
     "metadata": {},
     "output_type": "execute_result"
    }
   ],
   "source": [
    "#list of interactions among not seed genes that interact with at least one seed gene\n",
    "tf5 = iid[(iid['symbol1'].isin(tf4['not seed genes'])) & (iid['symbol2'].isin(tf4['not seed genes']))]\n",
    "tf5.head()"
   ]
  },
  {
   "cell_type": "code",
   "execution_count": 29,
   "metadata": {},
   "outputs": [
    {
     "data": {
      "text/html": [
       "<div>\n",
       "<style scoped>\n",
       "    .dataframe tbody tr th:only-of-type {\n",
       "        vertical-align: middle;\n",
       "    }\n",
       "\n",
       "    .dataframe tbody tr th {\n",
       "        vertical-align: top;\n",
       "    }\n",
       "\n",
       "    .dataframe thead th {\n",
       "        text-align: right;\n",
       "    }\n",
       "</style>\n",
       "<table border=\"1\" class=\"dataframe\">\n",
       "  <thead>\n",
       "    <tr style=\"text-align: right;\">\n",
       "      <th></th>\n",
       "      <th>uniprot1</th>\n",
       "      <th>uniprot2</th>\n",
       "      <th>symbol1</th>\n",
       "      <th>symbol2</th>\n",
       "      <th>methods</th>\n",
       "      <th>pmids</th>\n",
       "      <th>dbs</th>\n",
       "      <th>evidence type</th>\n",
       "      <th>adipose tissue</th>\n",
       "      <th>adrenal gland</th>\n",
       "      <th>...</th>\n",
       "      <th>arteriosclerosis</th>\n",
       "      <th>lymphocytic leukemia</th>\n",
       "      <th>enzymes</th>\n",
       "      <th>ion channels</th>\n",
       "      <th>receptors</th>\n",
       "      <th>transporters</th>\n",
       "      <th>drug targets</th>\n",
       "      <th>targeting drugs</th>\n",
       "      <th>orthologs are drug targets</th>\n",
       "      <th>drugs targeting orthologs</th>\n",
       "    </tr>\n",
       "  </thead>\n",
       "  <tbody>\n",
       "    <tr>\n",
       "      <th>151</th>\n",
       "      <td>P06400</td>\n",
       "      <td>P52757</td>\n",
       "      <td>RB1</td>\n",
       "      <td>CHN2</td>\n",
       "      <td>two hybrid;two hybrid array</td>\n",
       "      <td>25814554</td>\n",
       "      <td>biogrid;intact</td>\n",
       "      <td>exp</td>\n",
       "      <td>1</td>\n",
       "      <td>1</td>\n",
       "      <td>...</td>\n",
       "      <td>0</td>\n",
       "      <td>0</td>\n",
       "      <td>0</td>\n",
       "      <td>0</td>\n",
       "      <td>0</td>\n",
       "      <td>0</td>\n",
       "      <td>1</td>\n",
       "      <td>Insulin Human;Insulin Pork</td>\n",
       "      <td>0</td>\n",
       "      <td>-</td>\n",
       "    </tr>\n",
       "    <tr>\n",
       "      <th>262</th>\n",
       "      <td>P35232</td>\n",
       "      <td>Q00610</td>\n",
       "      <td>PHB</td>\n",
       "      <td>CLTC</td>\n",
       "      <td>biochemical</td>\n",
       "      <td>26344197</td>\n",
       "      <td>biogrid</td>\n",
       "      <td>exp</td>\n",
       "      <td>1</td>\n",
       "      <td>1</td>\n",
       "      <td>...</td>\n",
       "      <td>0</td>\n",
       "      <td>0</td>\n",
       "      <td>0</td>\n",
       "      <td>0</td>\n",
       "      <td>0</td>\n",
       "      <td>0</td>\n",
       "      <td>0</td>\n",
       "      <td>-</td>\n",
       "      <td>0</td>\n",
       "      <td>-</td>\n",
       "    </tr>\n",
       "    <tr>\n",
       "      <th>304</th>\n",
       "      <td>O95070</td>\n",
       "      <td>Q92542</td>\n",
       "      <td>YIF1A</td>\n",
       "      <td>NCSTN</td>\n",
       "      <td>affinity chromatography technology;anti tag co...</td>\n",
       "      <td>26496610</td>\n",
       "      <td>biogrid;intact</td>\n",
       "      <td>exp</td>\n",
       "      <td>1</td>\n",
       "      <td>1</td>\n",
       "      <td>...</td>\n",
       "      <td>0</td>\n",
       "      <td>0</td>\n",
       "      <td>1</td>\n",
       "      <td>0</td>\n",
       "      <td>0</td>\n",
       "      <td>0</td>\n",
       "      <td>0</td>\n",
       "      <td>-</td>\n",
       "      <td>0</td>\n",
       "      <td>-</td>\n",
       "    </tr>\n",
       "    <tr>\n",
       "      <th>347</th>\n",
       "      <td>O60506</td>\n",
       "      <td>P35232</td>\n",
       "      <td>SYNCRIP</td>\n",
       "      <td>PHB</td>\n",
       "      <td>biochemical</td>\n",
       "      <td>22939629</td>\n",
       "      <td>biogrid</td>\n",
       "      <td>exp</td>\n",
       "      <td>1</td>\n",
       "      <td>1</td>\n",
       "      <td>...</td>\n",
       "      <td>0</td>\n",
       "      <td>0</td>\n",
       "      <td>0</td>\n",
       "      <td>0</td>\n",
       "      <td>0</td>\n",
       "      <td>0</td>\n",
       "      <td>0</td>\n",
       "      <td>-</td>\n",
       "      <td>0</td>\n",
       "      <td>-</td>\n",
       "    </tr>\n",
       "    <tr>\n",
       "      <th>532</th>\n",
       "      <td>O00515</td>\n",
       "      <td>P12830</td>\n",
       "      <td>LAD1</td>\n",
       "      <td>CDH1</td>\n",
       "      <td>bioid</td>\n",
       "      <td>25468996</td>\n",
       "      <td>biogrid</td>\n",
       "      <td>exp</td>\n",
       "      <td>1</td>\n",
       "      <td>0</td>\n",
       "      <td>...</td>\n",
       "      <td>0</td>\n",
       "      <td>0</td>\n",
       "      <td>0</td>\n",
       "      <td>0</td>\n",
       "      <td>0</td>\n",
       "      <td>0</td>\n",
       "      <td>0</td>\n",
       "      <td>-</td>\n",
       "      <td>0</td>\n",
       "      <td>-</td>\n",
       "    </tr>\n",
       "  </tbody>\n",
       "</table>\n",
       "<p>5 rows × 253 columns</p>\n",
       "</div>"
      ],
      "text/plain": [
       "    uniprot1 uniprot2  symbol1 symbol2  \\\n",
       "151   P06400   P52757      RB1    CHN2   \n",
       "262   P35232   Q00610      PHB    CLTC   \n",
       "304   O95070   Q92542    YIF1A   NCSTN   \n",
       "347   O60506   P35232  SYNCRIP     PHB   \n",
       "532   O00515   P12830     LAD1    CDH1   \n",
       "\n",
       "                                               methods     pmids  \\\n",
       "151                        two hybrid;two hybrid array  25814554   \n",
       "262                                        biochemical  26344197   \n",
       "304  affinity chromatography technology;anti tag co...  26496610   \n",
       "347                                        biochemical  22939629   \n",
       "532                                              bioid  25468996   \n",
       "\n",
       "                dbs evidence type adipose tissue adrenal gland  \\\n",
       "151  biogrid;intact           exp              1             1   \n",
       "262         biogrid           exp              1             1   \n",
       "304  biogrid;intact           exp              1             1   \n",
       "347         biogrid           exp              1             1   \n",
       "532         biogrid           exp              1             0   \n",
       "\n",
       "               ...            arteriosclerosis lymphocytic leukemia enzymes  \\\n",
       "151            ...                           0                    0       0   \n",
       "262            ...                           0                    0       0   \n",
       "304            ...                           0                    0       1   \n",
       "347            ...                           0                    0       0   \n",
       "532            ...                           0                    0       0   \n",
       "\n",
       "    ion channels receptors transporters drug targets  \\\n",
       "151            0         0            0            1   \n",
       "262            0         0            0            0   \n",
       "304            0         0            0            0   \n",
       "347            0         0            0            0   \n",
       "532            0         0            0            0   \n",
       "\n",
       "                targeting drugs orthologs are drug targets  \\\n",
       "151  Insulin Human;Insulin Pork                          0   \n",
       "262                           -                          0   \n",
       "304                           -                          0   \n",
       "347                           -                          0   \n",
       "532                           -                          0   \n",
       "\n",
       "    drugs targeting orthologs  \n",
       "151                         -  \n",
       "262                         -  \n",
       "304                         -  \n",
       "347                         -  \n",
       "532                         -  \n",
       "\n",
       "[5 rows x 253 columns]"
      ]
     },
     "execution_count": 29,
     "metadata": {},
     "output_type": "execute_result"
    }
   ],
   "source": [
    "iid_output = tf1.append(tf5)\n",
    "iid_output.head()"
   ]
  },
  {
   "cell_type": "code",
   "execution_count": 30,
   "metadata": {},
   "outputs": [
    {
     "data": {
      "text/plain": [
       "(107893, 253)"
      ]
     },
     "execution_count": 30,
     "metadata": {},
     "output_type": "execute_result"
    }
   ],
   "source": [
    "#info iid_output\n",
    "iid_output.shape"
   ]
  },
  {
   "cell_type": "code",
   "execution_count": 31,
   "metadata": {},
   "outputs": [],
   "source": [
    "#save in excel format the iid output (WITH DUPLICATES) !!IMPORTANT: remove the # to save the below file!!\n",
    "\n",
    "#iid_output.to_excel(\"iid_output_with_duplicates.xlsx\", index = None, header=True)"
   ]
  },
  {
   "cell_type": "markdown",
   "metadata": {},
   "source": [
    "###### Remove duplicates"
   ]
  },
  {
   "cell_type": "code",
   "execution_count": 32,
   "metadata": {},
   "outputs": [
    {
     "data": {
      "text/plain": [
       "66382"
      ]
     },
     "execution_count": 32,
     "metadata": {},
     "output_type": "execute_result"
    }
   ],
   "source": [
    "#check if duplicates and reversed duplicates (e.g. A-B, A-B, B-A) in biogrid output list are present\n",
    "biogrid_output[pd.DataFrame(np.sort(biogrid_output[['Official Symbol Interactor A','Official Symbol Interactor B']], axis=1)).duplicated().values].shape[0]"
   ]
  },
  {
   "cell_type": "code",
   "execution_count": 33,
   "metadata": {},
   "outputs": [
    {
     "data": {
      "text/plain": [
       "1849"
      ]
     },
     "execution_count": 33,
     "metadata": {},
     "output_type": "execute_result"
    }
   ],
   "source": [
    "#check if duplicates and reversed duplicates (e.g. A-B, A-B, B-A) in IID output list are present\n",
    "iid_output[pd.DataFrame(np.sort(iid_output[['symbol1','symbol2']], axis=1)).duplicated().values].shape[0]"
   ]
  },
  {
   "cell_type": "code",
   "execution_count": 34,
   "metadata": {},
   "outputs": [
    {
     "data": {
      "text/html": [
       "<div>\n",
       "<style scoped>\n",
       "    .dataframe tbody tr th:only-of-type {\n",
       "        vertical-align: middle;\n",
       "    }\n",
       "\n",
       "    .dataframe tbody tr th {\n",
       "        vertical-align: top;\n",
       "    }\n",
       "\n",
       "    .dataframe thead th {\n",
       "        text-align: right;\n",
       "    }\n",
       "</style>\n",
       "<table border=\"1\" class=\"dataframe\">\n",
       "  <thead>\n",
       "    <tr style=\"text-align: right;\">\n",
       "      <th></th>\n",
       "      <th>#BioGRID Interaction ID</th>\n",
       "      <th>Entrez Gene Interactor A</th>\n",
       "      <th>Entrez Gene Interactor B</th>\n",
       "      <th>BioGRID ID Interactor A</th>\n",
       "      <th>BioGRID ID Interactor B</th>\n",
       "      <th>Systematic Name Interactor A</th>\n",
       "      <th>Systematic Name Interactor B</th>\n",
       "      <th>Official Symbol Interactor A</th>\n",
       "      <th>Official Symbol Interactor B</th>\n",
       "      <th>Synonyms Interactor A</th>\n",
       "      <th>...</th>\n",
       "      <th>Pubmed ID</th>\n",
       "      <th>Organism Interactor A</th>\n",
       "      <th>Organism Interactor B</th>\n",
       "      <th>Throughput</th>\n",
       "      <th>Score</th>\n",
       "      <th>Modification</th>\n",
       "      <th>Phenotypes</th>\n",
       "      <th>Qualifications</th>\n",
       "      <th>Tags</th>\n",
       "      <th>Source Database</th>\n",
       "    </tr>\n",
       "  </thead>\n",
       "  <tbody>\n",
       "    <tr>\n",
       "      <th>4</th>\n",
       "      <td>418</td>\n",
       "      <td>6118</td>\n",
       "      <td>6774</td>\n",
       "      <td>112038</td>\n",
       "      <td>112651</td>\n",
       "      <td>RP4-547C9.3</td>\n",
       "      <td>-</td>\n",
       "      <td>RPA2</td>\n",
       "      <td>STAT3</td>\n",
       "      <td>REPA2|RP-A p32|RP-A p34|RPA32</td>\n",
       "      <td>...</td>\n",
       "      <td>10875894</td>\n",
       "      <td>9606</td>\n",
       "      <td>9606</td>\n",
       "      <td>Low Throughput</td>\n",
       "      <td>-</td>\n",
       "      <td>-</td>\n",
       "      <td>-</td>\n",
       "      <td>-</td>\n",
       "      <td>-</td>\n",
       "      <td>BIOGRID</td>\n",
       "    </tr>\n",
       "    <tr>\n",
       "      <th>83</th>\n",
       "      <td>5818</td>\n",
       "      <td>79039</td>\n",
       "      <td>2099</td>\n",
       "      <td>122503</td>\n",
       "      <td>108403</td>\n",
       "      <td>-</td>\n",
       "      <td>RP1-130E4.1</td>\n",
       "      <td>DDX54</td>\n",
       "      <td>ESR1</td>\n",
       "      <td>DP97</td>\n",
       "      <td>...</td>\n",
       "      <td>12466272</td>\n",
       "      <td>9606</td>\n",
       "      <td>9606</td>\n",
       "      <td>Low Throughput</td>\n",
       "      <td>-</td>\n",
       "      <td>-</td>\n",
       "      <td>-</td>\n",
       "      <td>-</td>\n",
       "      <td>-</td>\n",
       "      <td>BIOGRID</td>\n",
       "    </tr>\n",
       "    <tr>\n",
       "      <th>129</th>\n",
       "      <td>7682</td>\n",
       "      <td>8100</td>\n",
       "      <td>7916</td>\n",
       "      <td>113771</td>\n",
       "      <td>113646</td>\n",
       "      <td>RP11-172H24.2</td>\n",
       "      <td>DADB-70P7.5</td>\n",
       "      <td>IFT88</td>\n",
       "      <td>PRRC2A</td>\n",
       "      <td>D13S1056E|DAF19|TG737|TTC10|hTg737</td>\n",
       "      <td>...</td>\n",
       "      <td>14667819</td>\n",
       "      <td>9606</td>\n",
       "      <td>9606</td>\n",
       "      <td>Low Throughput</td>\n",
       "      <td>-</td>\n",
       "      <td>-</td>\n",
       "      <td>-</td>\n",
       "      <td>-</td>\n",
       "      <td>-</td>\n",
       "      <td>BIOGRID</td>\n",
       "    </tr>\n",
       "    <tr>\n",
       "      <th>139</th>\n",
       "      <td>8485</td>\n",
       "      <td>3480</td>\n",
       "      <td>3667</td>\n",
       "      <td>109701</td>\n",
       "      <td>109874</td>\n",
       "      <td>-</td>\n",
       "      <td>-</td>\n",
       "      <td>IGF1R</td>\n",
       "      <td>IRS1</td>\n",
       "      <td>CD221|IGFIR|IGFR|JTK13</td>\n",
       "      <td>...</td>\n",
       "      <td>7559507</td>\n",
       "      <td>9606</td>\n",
       "      <td>9606</td>\n",
       "      <td>Low Throughput</td>\n",
       "      <td>-</td>\n",
       "      <td>-</td>\n",
       "      <td>-</td>\n",
       "      <td>-</td>\n",
       "      <td>-</td>\n",
       "      <td>BIOGRID</td>\n",
       "    </tr>\n",
       "    <tr>\n",
       "      <th>142</th>\n",
       "      <td>8570</td>\n",
       "      <td>5747</td>\n",
       "      <td>3667</td>\n",
       "      <td>111719</td>\n",
       "      <td>109874</td>\n",
       "      <td>-</td>\n",
       "      <td>-</td>\n",
       "      <td>PTK2</td>\n",
       "      <td>IRS1</td>\n",
       "      <td>FADK|FAK|FAK1|FRNK|PPP1R71|p125FAK|pp125FAK</td>\n",
       "      <td>...</td>\n",
       "      <td>9822703</td>\n",
       "      <td>9606</td>\n",
       "      <td>9606</td>\n",
       "      <td>Low Throughput</td>\n",
       "      <td>-</td>\n",
       "      <td>-</td>\n",
       "      <td>-</td>\n",
       "      <td>-</td>\n",
       "      <td>-</td>\n",
       "      <td>BIOGRID</td>\n",
       "    </tr>\n",
       "  </tbody>\n",
       "</table>\n",
       "<p>5 rows × 24 columns</p>\n",
       "</div>"
      ],
      "text/plain": [
       "    #BioGRID Interaction ID Entrez Gene Interactor A Entrez Gene Interactor B  \\\n",
       "4                       418                     6118                     6774   \n",
       "83                     5818                    79039                     2099   \n",
       "129                    7682                     8100                     7916   \n",
       "139                    8485                     3480                     3667   \n",
       "142                    8570                     5747                     3667   \n",
       "\n",
       "    BioGRID ID Interactor A BioGRID ID Interactor B  \\\n",
       "4                    112038                  112651   \n",
       "83                   122503                  108403   \n",
       "129                  113771                  113646   \n",
       "139                  109701                  109874   \n",
       "142                  111719                  109874   \n",
       "\n",
       "    Systematic Name Interactor A Systematic Name Interactor B  \\\n",
       "4                    RP4-547C9.3                            -   \n",
       "83                             -                  RP1-130E4.1   \n",
       "129                RP11-172H24.2                  DADB-70P7.5   \n",
       "139                            -                            -   \n",
       "142                            -                            -   \n",
       "\n",
       "    Official Symbol Interactor A Official Symbol Interactor B  \\\n",
       "4                           RPA2                        STAT3   \n",
       "83                         DDX54                         ESR1   \n",
       "129                        IFT88                       PRRC2A   \n",
       "139                        IGF1R                         IRS1   \n",
       "142                         PTK2                         IRS1   \n",
       "\n",
       "                           Synonyms Interactor A       ...       Pubmed ID  \\\n",
       "4                  REPA2|RP-A p32|RP-A p34|RPA32       ...        10875894   \n",
       "83                                          DP97       ...        12466272   \n",
       "129           D13S1056E|DAF19|TG737|TTC10|hTg737       ...        14667819   \n",
       "139                       CD221|IGFIR|IGFR|JTK13       ...         7559507   \n",
       "142  FADK|FAK|FAK1|FRNK|PPP1R71|p125FAK|pp125FAK       ...         9822703   \n",
       "\n",
       "    Organism Interactor A Organism Interactor B      Throughput Score  \\\n",
       "4                    9606                  9606  Low Throughput     -   \n",
       "83                   9606                  9606  Low Throughput     -   \n",
       "129                  9606                  9606  Low Throughput     -   \n",
       "139                  9606                  9606  Low Throughput     -   \n",
       "142                  9606                  9606  Low Throughput     -   \n",
       "\n",
       "    Modification Phenotypes Qualifications Tags Source Database  \n",
       "4              -          -              -    -         BIOGRID  \n",
       "83             -          -              -    -         BIOGRID  \n",
       "129            -          -              -    -         BIOGRID  \n",
       "139            -          -              -    -         BIOGRID  \n",
       "142            -          -              -    -         BIOGRID  \n",
       "\n",
       "[5 rows x 24 columns]"
      ]
     },
     "execution_count": 34,
     "metadata": {},
     "output_type": "execute_result"
    }
   ],
   "source": [
    "#remove duplicates and reversed duplicates in biogrid output list\n",
    "biogrid_results = biogrid_output[~pd.DataFrame(np.sort(biogrid_output[['Official Symbol Interactor A','Official Symbol Interactor B']], axis=1)).duplicated().values]\n",
    "biogrid_results.head()"
   ]
  },
  {
   "cell_type": "code",
   "execution_count": 35,
   "metadata": {},
   "outputs": [
    {
     "data": {
      "text/plain": [
       "(146083, 24)"
      ]
     },
     "execution_count": 35,
     "metadata": {},
     "output_type": "execute_result"
    }
   ],
   "source": [
    "#info biogrid results list\n",
    "biogrid_results.shape"
   ]
  },
  {
   "cell_type": "code",
   "execution_count": 36,
   "metadata": {},
   "outputs": [],
   "source": [
    "#save in excel format the biogrid results (WITHOUT DUPLICATES) !!IMPORTANT: remove the # to save the below file!!\n",
    "\n",
    "#biogrid_results.to_excel(\"1.2.a&b biogrid results.xlsx\", index = None, header=True)"
   ]
  },
  {
   "cell_type": "code",
   "execution_count": 37,
   "metadata": {},
   "outputs": [
    {
     "data": {
      "text/html": [
       "<div>\n",
       "<style scoped>\n",
       "    .dataframe tbody tr th:only-of-type {\n",
       "        vertical-align: middle;\n",
       "    }\n",
       "\n",
       "    .dataframe tbody tr th {\n",
       "        vertical-align: top;\n",
       "    }\n",
       "\n",
       "    .dataframe thead th {\n",
       "        text-align: right;\n",
       "    }\n",
       "</style>\n",
       "<table border=\"1\" class=\"dataframe\">\n",
       "  <thead>\n",
       "    <tr style=\"text-align: right;\">\n",
       "      <th></th>\n",
       "      <th>uniprot1</th>\n",
       "      <th>uniprot2</th>\n",
       "      <th>symbol1</th>\n",
       "      <th>symbol2</th>\n",
       "      <th>methods</th>\n",
       "      <th>pmids</th>\n",
       "      <th>dbs</th>\n",
       "      <th>evidence type</th>\n",
       "      <th>adipose tissue</th>\n",
       "      <th>adrenal gland</th>\n",
       "      <th>...</th>\n",
       "      <th>arteriosclerosis</th>\n",
       "      <th>lymphocytic leukemia</th>\n",
       "      <th>enzymes</th>\n",
       "      <th>ion channels</th>\n",
       "      <th>receptors</th>\n",
       "      <th>transporters</th>\n",
       "      <th>drug targets</th>\n",
       "      <th>targeting drugs</th>\n",
       "      <th>orthologs are drug targets</th>\n",
       "      <th>drugs targeting orthologs</th>\n",
       "    </tr>\n",
       "  </thead>\n",
       "  <tbody>\n",
       "    <tr>\n",
       "      <th>151</th>\n",
       "      <td>P06400</td>\n",
       "      <td>P52757</td>\n",
       "      <td>RB1</td>\n",
       "      <td>CHN2</td>\n",
       "      <td>two hybrid;two hybrid array</td>\n",
       "      <td>25814554</td>\n",
       "      <td>biogrid;intact</td>\n",
       "      <td>exp</td>\n",
       "      <td>1</td>\n",
       "      <td>1</td>\n",
       "      <td>...</td>\n",
       "      <td>0</td>\n",
       "      <td>0</td>\n",
       "      <td>0</td>\n",
       "      <td>0</td>\n",
       "      <td>0</td>\n",
       "      <td>0</td>\n",
       "      <td>1</td>\n",
       "      <td>Insulin Human;Insulin Pork</td>\n",
       "      <td>0</td>\n",
       "      <td>-</td>\n",
       "    </tr>\n",
       "    <tr>\n",
       "      <th>262</th>\n",
       "      <td>P35232</td>\n",
       "      <td>Q00610</td>\n",
       "      <td>PHB</td>\n",
       "      <td>CLTC</td>\n",
       "      <td>biochemical</td>\n",
       "      <td>26344197</td>\n",
       "      <td>biogrid</td>\n",
       "      <td>exp</td>\n",
       "      <td>1</td>\n",
       "      <td>1</td>\n",
       "      <td>...</td>\n",
       "      <td>0</td>\n",
       "      <td>0</td>\n",
       "      <td>0</td>\n",
       "      <td>0</td>\n",
       "      <td>0</td>\n",
       "      <td>0</td>\n",
       "      <td>0</td>\n",
       "      <td>-</td>\n",
       "      <td>0</td>\n",
       "      <td>-</td>\n",
       "    </tr>\n",
       "    <tr>\n",
       "      <th>304</th>\n",
       "      <td>O95070</td>\n",
       "      <td>Q92542</td>\n",
       "      <td>YIF1A</td>\n",
       "      <td>NCSTN</td>\n",
       "      <td>affinity chromatography technology;anti tag co...</td>\n",
       "      <td>26496610</td>\n",
       "      <td>biogrid;intact</td>\n",
       "      <td>exp</td>\n",
       "      <td>1</td>\n",
       "      <td>1</td>\n",
       "      <td>...</td>\n",
       "      <td>0</td>\n",
       "      <td>0</td>\n",
       "      <td>1</td>\n",
       "      <td>0</td>\n",
       "      <td>0</td>\n",
       "      <td>0</td>\n",
       "      <td>0</td>\n",
       "      <td>-</td>\n",
       "      <td>0</td>\n",
       "      <td>-</td>\n",
       "    </tr>\n",
       "    <tr>\n",
       "      <th>347</th>\n",
       "      <td>O60506</td>\n",
       "      <td>P35232</td>\n",
       "      <td>SYNCRIP</td>\n",
       "      <td>PHB</td>\n",
       "      <td>biochemical</td>\n",
       "      <td>22939629</td>\n",
       "      <td>biogrid</td>\n",
       "      <td>exp</td>\n",
       "      <td>1</td>\n",
       "      <td>1</td>\n",
       "      <td>...</td>\n",
       "      <td>0</td>\n",
       "      <td>0</td>\n",
       "      <td>0</td>\n",
       "      <td>0</td>\n",
       "      <td>0</td>\n",
       "      <td>0</td>\n",
       "      <td>0</td>\n",
       "      <td>-</td>\n",
       "      <td>0</td>\n",
       "      <td>-</td>\n",
       "    </tr>\n",
       "    <tr>\n",
       "      <th>532</th>\n",
       "      <td>O00515</td>\n",
       "      <td>P12830</td>\n",
       "      <td>LAD1</td>\n",
       "      <td>CDH1</td>\n",
       "      <td>bioid</td>\n",
       "      <td>25468996</td>\n",
       "      <td>biogrid</td>\n",
       "      <td>exp</td>\n",
       "      <td>1</td>\n",
       "      <td>0</td>\n",
       "      <td>...</td>\n",
       "      <td>0</td>\n",
       "      <td>0</td>\n",
       "      <td>0</td>\n",
       "      <td>0</td>\n",
       "      <td>0</td>\n",
       "      <td>0</td>\n",
       "      <td>0</td>\n",
       "      <td>-</td>\n",
       "      <td>0</td>\n",
       "      <td>-</td>\n",
       "    </tr>\n",
       "  </tbody>\n",
       "</table>\n",
       "<p>5 rows × 253 columns</p>\n",
       "</div>"
      ],
      "text/plain": [
       "    uniprot1 uniprot2  symbol1 symbol2  \\\n",
       "151   P06400   P52757      RB1    CHN2   \n",
       "262   P35232   Q00610      PHB    CLTC   \n",
       "304   O95070   Q92542    YIF1A   NCSTN   \n",
       "347   O60506   P35232  SYNCRIP     PHB   \n",
       "532   O00515   P12830     LAD1    CDH1   \n",
       "\n",
       "                                               methods     pmids  \\\n",
       "151                        two hybrid;two hybrid array  25814554   \n",
       "262                                        biochemical  26344197   \n",
       "304  affinity chromatography technology;anti tag co...  26496610   \n",
       "347                                        biochemical  22939629   \n",
       "532                                              bioid  25468996   \n",
       "\n",
       "                dbs evidence type adipose tissue adrenal gland  \\\n",
       "151  biogrid;intact           exp              1             1   \n",
       "262         biogrid           exp              1             1   \n",
       "304  biogrid;intact           exp              1             1   \n",
       "347         biogrid           exp              1             1   \n",
       "532         biogrid           exp              1             0   \n",
       "\n",
       "               ...            arteriosclerosis lymphocytic leukemia enzymes  \\\n",
       "151            ...                           0                    0       0   \n",
       "262            ...                           0                    0       0   \n",
       "304            ...                           0                    0       1   \n",
       "347            ...                           0                    0       0   \n",
       "532            ...                           0                    0       0   \n",
       "\n",
       "    ion channels receptors transporters drug targets  \\\n",
       "151            0         0            0            1   \n",
       "262            0         0            0            0   \n",
       "304            0         0            0            0   \n",
       "347            0         0            0            0   \n",
       "532            0         0            0            0   \n",
       "\n",
       "                targeting drugs orthologs are drug targets  \\\n",
       "151  Insulin Human;Insulin Pork                          0   \n",
       "262                           -                          0   \n",
       "304                           -                          0   \n",
       "347                           -                          0   \n",
       "532                           -                          0   \n",
       "\n",
       "    drugs targeting orthologs  \n",
       "151                         -  \n",
       "262                         -  \n",
       "304                         -  \n",
       "347                         -  \n",
       "532                         -  \n",
       "\n",
       "[5 rows x 253 columns]"
      ]
     },
     "execution_count": 37,
     "metadata": {},
     "output_type": "execute_result"
    }
   ],
   "source": [
    "#remove duplicates and reversed duplicates in iid output list\n",
    "iid_results = iid_output[~pd.DataFrame(np.sort(iid_output[['symbol1','symbol2']], axis=1)).duplicated().values]\n",
    "iid_results.head()"
   ]
  },
  {
   "cell_type": "code",
   "execution_count": 38,
   "metadata": {},
   "outputs": [
    {
     "data": {
      "text/plain": [
       "(106044, 253)"
      ]
     },
     "execution_count": 38,
     "metadata": {},
     "output_type": "execute_result"
    }
   ],
   "source": [
    "#info iid results list\n",
    "iid_results.shape"
   ]
  },
  {
   "cell_type": "code",
   "execution_count": 39,
   "metadata": {},
   "outputs": [],
   "source": [
    "#save in excel format the iid results (WITHOUT DUPLICATES) !!IMPORTANT: remove the # to save the below file!!\n",
    "\n",
    "#iid_results.to_excel(\"1.2.a&b iid results.xlsx\", index = None, header=True)"
   ]
  },
  {
   "cell_type": "markdown",
   "metadata": {},
   "source": [
    "##### 1.2.c) Summarize the main results in a table "
   ]
  },
  {
   "cell_type": "markdown",
   "metadata": {},
   "source": [
    "a) n° of seed genes found in each different DBs (some seed genes may be missing in the DBs)"
   ]
  },
  {
   "cell_type": "code",
   "execution_count": 40,
   "metadata": {
    "scrolled": true
   },
   "outputs": [],
   "source": [
    "#list of all the seed genes\n",
    "list_seedgene = seedgene['gene symbol'].tolist()"
   ]
  },
  {
   "cell_type": "code",
   "execution_count": 41,
   "metadata": {},
   "outputs": [],
   "source": [
    "#count n° of seed genes\n",
    "def n_seedgenes(dataframe, listvalues):\n",
    "    resultdict = {}\n",
    "    # Iterate over the list of elements one by one\n",
    "    for i in listvalues:\n",
    "        # Check if the element exists in dataframe values\n",
    "        if i in dataframe.values:\n",
    "            resultdict[i] = True\n",
    "        else:\n",
    "            pass\n",
    "    # Returns a dictionary of values & the length       \n",
    "    return len(resultdict.keys())"
   ]
  },
  {
   "cell_type": "code",
   "execution_count": 42,
   "metadata": {},
   "outputs": [
    {
     "data": {
      "text/plain": [
       "81"
      ]
     },
     "execution_count": 42,
     "metadata": {},
     "output_type": "execute_result"
    }
   ],
   "source": [
    "#count n° of seed genes in biogrid results table\n",
    "seedgene_biogrid = n_seedgenes(biogrid_results, list_seedgene)\n",
    "seedgene_biogrid"
   ]
  },
  {
   "cell_type": "code",
   "execution_count": 43,
   "metadata": {},
   "outputs": [
    {
     "data": {
      "text/plain": [
       "82"
      ]
     },
     "execution_count": 43,
     "metadata": {},
     "output_type": "execute_result"
    }
   ],
   "source": [
    "#count n° of seed genes in iid results table\n",
    "seedgene_iid = n_seedgenes(iid_results, list_seedgene)\n",
    "seedgene_iid"
   ]
  },
  {
   "cell_type": "code",
   "execution_count": 44,
   "metadata": {},
   "outputs": [
    {
     "data": {
      "text/html": [
       "<div>\n",
       "<style scoped>\n",
       "    .dataframe tbody tr th:only-of-type {\n",
       "        vertical-align: middle;\n",
       "    }\n",
       "\n",
       "    .dataframe tbody tr th {\n",
       "        vertical-align: top;\n",
       "    }\n",
       "\n",
       "    .dataframe thead th {\n",
       "        text-align: right;\n",
       "    }\n",
       "</style>\n",
       "<table border=\"1\" class=\"dataframe\">\n",
       "  <thead>\n",
       "    <tr style=\"text-align: right;\">\n",
       "      <th></th>\n",
       "      <th>Biogrid</th>\n",
       "      <th>IID</th>\n",
       "    </tr>\n",
       "  </thead>\n",
       "  <tbody>\n",
       "    <tr>\n",
       "      <th>n° of seed genes</th>\n",
       "      <td>81</td>\n",
       "      <td>82</td>\n",
       "    </tr>\n",
       "  </tbody>\n",
       "</table>\n",
       "</div>"
      ],
      "text/plain": [
       "                  Biogrid  IID\n",
       "n° of seed genes       81   82"
      ]
     },
     "execution_count": 44,
     "metadata": {},
     "output_type": "execute_result"
    }
   ],
   "source": [
    "n_seedgene = pd.DataFrame([(seedgene_biogrid, seedgene_iid)], index=['n° of seed genes'], columns=['Biogrid', 'IID'])\n",
    "n_seedgene"
   ]
  },
  {
   "cell_type": "markdown",
   "metadata": {},
   "source": [
    "b) total n° of interacting proteins, including seed genes, for each DB"
   ]
  },
  {
   "cell_type": "code",
   "execution_count": 45,
   "metadata": {},
   "outputs": [
    {
     "data": {
      "text/plain": [
       "4464"
      ]
     },
     "execution_count": 45,
     "metadata": {},
     "output_type": "execute_result"
    }
   ],
   "source": [
    "#count total n° of interacting proteins in biogrid results table\n",
    "interacting_proteins_biogrid = len(pd.unique(biogrid_results[['Official Symbol Interactor A', 'Official Symbol Interactor B']].values.ravel()))\n",
    "interacting_proteins_biogrid"
   ]
  },
  {
   "cell_type": "code",
   "execution_count": 46,
   "metadata": {},
   "outputs": [
    {
     "data": {
      "text/plain": [
       "3887"
      ]
     },
     "execution_count": 46,
     "metadata": {},
     "output_type": "execute_result"
    }
   ],
   "source": [
    "#count total n° of interacting proteins in iid results table\n",
    "interacting_proteins_iid = len(pd.unique(iid_results[['symbol1', 'symbol2']].values.ravel()))\n",
    "interacting_proteins_iid"
   ]
  },
  {
   "cell_type": "code",
   "execution_count": 47,
   "metadata": {},
   "outputs": [
    {
     "data": {
      "text/html": [
       "<div>\n",
       "<style scoped>\n",
       "    .dataframe tbody tr th:only-of-type {\n",
       "        vertical-align: middle;\n",
       "    }\n",
       "\n",
       "    .dataframe tbody tr th {\n",
       "        vertical-align: top;\n",
       "    }\n",
       "\n",
       "    .dataframe thead th {\n",
       "        text-align: right;\n",
       "    }\n",
       "</style>\n",
       "<table border=\"1\" class=\"dataframe\">\n",
       "  <thead>\n",
       "    <tr style=\"text-align: right;\">\n",
       "      <th></th>\n",
       "      <th>Biogrid</th>\n",
       "      <th>IID</th>\n",
       "    </tr>\n",
       "  </thead>\n",
       "  <tbody>\n",
       "    <tr>\n",
       "      <th>n° of interacting proteins</th>\n",
       "      <td>4464</td>\n",
       "      <td>3887</td>\n",
       "    </tr>\n",
       "  </tbody>\n",
       "</table>\n",
       "</div>"
      ],
      "text/plain": [
       "                            Biogrid   IID\n",
       "n° of interacting proteins     4464  3887"
      ]
     },
     "execution_count": 47,
     "metadata": {},
     "output_type": "execute_result"
    }
   ],
   "source": [
    "n_interacting_proteins = pd.DataFrame([(interacting_proteins_biogrid, interacting_proteins_iid)], index=['n° of interacting proteins'], columns=['Biogrid', 'IID'])\n",
    "n_interacting_proteins"
   ]
  },
  {
   "cell_type": "markdown",
   "metadata": {},
   "source": [
    "c) total n° of interactions found in each DB"
   ]
  },
  {
   "cell_type": "code",
   "execution_count": 48,
   "metadata": {},
   "outputs": [
    {
     "data": {
      "text/plain": [
       "146083"
      ]
     },
     "execution_count": 48,
     "metadata": {},
     "output_type": "execute_result"
    }
   ],
   "source": [
    "#count total n° of interactions in biogrid results table\n",
    "interactions_biogrid = biogrid_results.shape[0]\n",
    "interactions_biogrid"
   ]
  },
  {
   "cell_type": "code",
   "execution_count": 49,
   "metadata": {},
   "outputs": [
    {
     "data": {
      "text/plain": [
       "106044"
      ]
     },
     "execution_count": 49,
     "metadata": {},
     "output_type": "execute_result"
    }
   ],
   "source": [
    "#count total n° of interactions in iid results table\n",
    "interactions_iid = iid_results.shape[0]\n",
    "interactions_iid"
   ]
  },
  {
   "cell_type": "code",
   "execution_count": 50,
   "metadata": {},
   "outputs": [
    {
     "data": {
      "text/html": [
       "<div>\n",
       "<style scoped>\n",
       "    .dataframe tbody tr th:only-of-type {\n",
       "        vertical-align: middle;\n",
       "    }\n",
       "\n",
       "    .dataframe tbody tr th {\n",
       "        vertical-align: top;\n",
       "    }\n",
       "\n",
       "    .dataframe thead th {\n",
       "        text-align: right;\n",
       "    }\n",
       "</style>\n",
       "<table border=\"1\" class=\"dataframe\">\n",
       "  <thead>\n",
       "    <tr style=\"text-align: right;\">\n",
       "      <th></th>\n",
       "      <th>Biogrid</th>\n",
       "      <th>IID</th>\n",
       "    </tr>\n",
       "  </thead>\n",
       "  <tbody>\n",
       "    <tr>\n",
       "      <th>n° of interactions</th>\n",
       "      <td>146083</td>\n",
       "      <td>106044</td>\n",
       "    </tr>\n",
       "  </tbody>\n",
       "</table>\n",
       "</div>"
      ],
      "text/plain": [
       "                    Biogrid     IID\n",
       "n° of interactions   146083  106044"
      ]
     },
     "execution_count": 50,
     "metadata": {},
     "output_type": "execute_result"
    }
   ],
   "source": [
    "n_interactions = pd.DataFrame([(interactions_biogrid, interactions_iid)], index=['n° of interactions'], columns=['Biogrid', 'IID'])\n",
    "n_interactions"
   ]
  },
  {
   "cell_type": "code",
   "execution_count": 51,
   "metadata": {},
   "outputs": [
    {
     "data": {
      "text/html": [
       "<div>\n",
       "<style scoped>\n",
       "    .dataframe tbody tr th:only-of-type {\n",
       "        vertical-align: middle;\n",
       "    }\n",
       "\n",
       "    .dataframe tbody tr th {\n",
       "        vertical-align: top;\n",
       "    }\n",
       "\n",
       "    .dataframe thead th {\n",
       "        text-align: right;\n",
       "    }\n",
       "</style>\n",
       "<table border=\"1\" class=\"dataframe\">\n",
       "  <thead>\n",
       "    <tr style=\"text-align: right;\">\n",
       "      <th></th>\n",
       "      <th>Biogrid</th>\n",
       "      <th>IID</th>\n",
       "    </tr>\n",
       "  </thead>\n",
       "  <tbody>\n",
       "    <tr>\n",
       "      <th>n° of seed genes</th>\n",
       "      <td>81</td>\n",
       "      <td>82</td>\n",
       "    </tr>\n",
       "    <tr>\n",
       "      <th>n° of interacting proteins</th>\n",
       "      <td>4464</td>\n",
       "      <td>3887</td>\n",
       "    </tr>\n",
       "    <tr>\n",
       "      <th>n° of interactions</th>\n",
       "      <td>146083</td>\n",
       "      <td>106044</td>\n",
       "    </tr>\n",
       "  </tbody>\n",
       "</table>\n",
       "</div>"
      ],
      "text/plain": [
       "                            Biogrid     IID\n",
       "n° of seed genes                 81      82\n",
       "n° of interacting proteins     4464    3887\n",
       "n° of interactions           146083  106044"
      ]
     },
     "execution_count": 51,
     "metadata": {},
     "output_type": "execute_result"
    }
   ],
   "source": [
    "table_summary = n_seedgene.append([n_interacting_proteins, n_interactions])\n",
    "table_summary"
   ]
  },
  {
   "cell_type": "code",
   "execution_count": 52,
   "metadata": {},
   "outputs": [],
   "source": [
    "#save in excel format the table summary !!IMPORTANT: remove the # to save the below file!!\n",
    "\n",
    "#table_summary.to_excel(\"1.2.c table summary.xlsx\", header=True)"
   ]
  },
  {
   "cell_type": "markdown",
   "metadata": {},
   "source": [
    "### 1.3) Arrange interaction data"
   ]
  },
  {
   "cell_type": "markdown",
   "metadata": {},
   "source": [
    "In point 1.3, we have to build three tables specifying the Uniprot AC for each gene symbol. But, in the 'biogrid_results' dataframe, the Uniprot ACs are not present. So, we decided to build a list of all human Uniprot ACs and their respective gene symbols from the 'human_annotated_PPIs' database, in which we have all these information. For gene symbols without Uniprot AC, we added it manually."
   ]
  },
  {
   "cell_type": "code",
   "execution_count": 53,
   "metadata": {},
   "outputs": [],
   "source": [
    "#create a copy of iid dataframe\n",
    "uniprotAC = iid.copy()"
   ]
  },
  {
   "cell_type": "code",
   "execution_count": 54,
   "metadata": {},
   "outputs": [
    {
     "data": {
      "text/plain": [
       "(334315, 253)"
      ]
     },
     "execution_count": 54,
     "metadata": {},
     "output_type": "execute_result"
    }
   ],
   "source": [
    "#info uniprotAC \n",
    "uniprotAC.shape"
   ]
  },
  {
   "cell_type": "code",
   "execution_count": 55,
   "metadata": {},
   "outputs": [],
   "source": [
    "#select 'symbol1' and 'uniprot1' columns\n",
    "uniprotAC_c1 = uniprotAC[['symbol1', 'uniprot1']] #select only 'symbol1' and 'uniprot1' columns\n",
    "uniprotAC_c1.columns = ['gene', 'uniprot'] #rename columns "
   ]
  },
  {
   "cell_type": "code",
   "execution_count": 56,
   "metadata": {},
   "outputs": [],
   "source": [
    "#select 'symbol2' and 'uniprot2' columns\n",
    "uniprotAC_c2 = uniprotAC[['symbol2', 'uniprot2']] #select only 'symbol2' and 'uniprot2' columns\n",
    "uniprotAC_c2.columns = ['gene', 'uniprot'] #rename columns "
   ]
  },
  {
   "cell_type": "code",
   "execution_count": 57,
   "metadata": {},
   "outputs": [],
   "source": [
    "#append uniprotAC_c2 to uniprotAC_c1\n",
    "uniprotAC = uniprotAC_c1.append(uniprotAC_c2)"
   ]
  },
  {
   "cell_type": "code",
   "execution_count": 58,
   "metadata": {},
   "outputs": [
    {
     "data": {
      "text/plain": [
       "(668630, 2)"
      ]
     },
     "execution_count": 58,
     "metadata": {},
     "output_type": "execute_result"
    }
   ],
   "source": [
    "#info uniprotAC \n",
    "uniprotAC.shape"
   ]
  },
  {
   "cell_type": "code",
   "execution_count": 59,
   "metadata": {},
   "outputs": [
    {
     "data": {
      "text/html": [
       "<div>\n",
       "<style scoped>\n",
       "    .dataframe tbody tr th:only-of-type {\n",
       "        vertical-align: middle;\n",
       "    }\n",
       "\n",
       "    .dataframe tbody tr th {\n",
       "        vertical-align: top;\n",
       "    }\n",
       "\n",
       "    .dataframe thead th {\n",
       "        text-align: right;\n",
       "    }\n",
       "</style>\n",
       "<table border=\"1\" class=\"dataframe\">\n",
       "  <thead>\n",
       "    <tr style=\"text-align: right;\">\n",
       "      <th></th>\n",
       "      <th>gene</th>\n",
       "      <th>uniprot</th>\n",
       "    </tr>\n",
       "  </thead>\n",
       "  <tbody>\n",
       "    <tr>\n",
       "      <th>0</th>\n",
       "      <td>POT1</td>\n",
       "      <td>Q9NUX5</td>\n",
       "    </tr>\n",
       "    <tr>\n",
       "      <th>3</th>\n",
       "      <td>CNBP</td>\n",
       "      <td>P62633</td>\n",
       "    </tr>\n",
       "    <tr>\n",
       "      <th>6</th>\n",
       "      <td>TRIAP1</td>\n",
       "      <td>O43715</td>\n",
       "    </tr>\n",
       "    <tr>\n",
       "      <th>7</th>\n",
       "      <td>NR5A1</td>\n",
       "      <td>Q13285</td>\n",
       "    </tr>\n",
       "    <tr>\n",
       "      <th>9</th>\n",
       "      <td>TPI1</td>\n",
       "      <td>P60174</td>\n",
       "    </tr>\n",
       "  </tbody>\n",
       "</table>\n",
       "</div>"
      ],
      "text/plain": [
       "     gene uniprot\n",
       "0    POT1  Q9NUX5\n",
       "3    CNBP  P62633\n",
       "6  TRIAP1  O43715\n",
       "7   NR5A1  Q13285\n",
       "9    TPI1  P60174"
      ]
     },
     "execution_count": 59,
     "metadata": {},
     "output_type": "execute_result"
    }
   ],
   "source": [
    "#drop duplicates\n",
    "uniprotAC = uniprotAC.drop_duplicates(subset=['gene', 'uniprot'])\n",
    "uniprotAC.head()"
   ]
  },
  {
   "cell_type": "code",
   "execution_count": 60,
   "metadata": {},
   "outputs": [
    {
     "data": {
      "text/plain": [
       "(17776, 2)"
      ]
     },
     "execution_count": 60,
     "metadata": {},
     "output_type": "execute_result"
    }
   ],
   "source": [
    "#info uniprotAC \n",
    "uniprotAC.shape"
   ]
  },
  {
   "cell_type": "markdown",
   "metadata": {},
   "source": [
    "Some gene symbols can have more than one Uniprot AC. This is because some Uniprot AC are not reviewed Swissprot data. So, we have to collect only the gene symbol and its respective reviewed Uniprot AC."
   ]
  },
  {
   "cell_type": "code",
   "execution_count": 61,
   "metadata": {},
   "outputs": [],
   "source": [
    "#check if different Uniprot ACs for the same gene symbol are present \n",
    "different_uniprotAC = uniprotAC[uniprotAC.duplicated(['gene'], keep=False)]"
   ]
  },
  {
   "cell_type": "code",
   "execution_count": 62,
   "metadata": {},
   "outputs": [
    {
     "data": {
      "text/plain": [
       "(407, 2)"
      ]
     },
     "execution_count": 62,
     "metadata": {},
     "output_type": "execute_result"
    }
   ],
   "source": [
    "#info different_uniprotAC \n",
    "different_uniprotAC.shape"
   ]
  },
  {
   "cell_type": "code",
   "execution_count": 63,
   "metadata": {},
   "outputs": [
    {
     "data": {
      "text/plain": [
       "['BRCA1',\n",
       " 'EEF2',\n",
       " 'MYC',\n",
       " 'RPS27A',\n",
       " 'ILF3',\n",
       " 'TMPO',\n",
       " 'HNF4G',\n",
       " 'MOCS2',\n",
       " 'UBE3A',\n",
       " 'RABGAP1L',\n",
       " 'FHL2',\n",
       " 'HLA-C',\n",
       " 'DMD',\n",
       " 'RPS3A',\n",
       " 'RTL8C',\n",
       " 'FN1',\n",
       " 'MET',\n",
       " 'dystrophin',\n",
       " 'TIMM50',\n",
       " 'GNAS',\n",
       " 'RPSA',\n",
       " 'CFTR',\n",
       " 'NRXN1',\n",
       " 'BRD1',\n",
       " 'HLA-B',\n",
       " 'NOTCH1',\n",
       " 'HLA-A',\n",
       " 'SRI',\n",
       " 'TSHR',\n",
       " 'PML',\n",
       " 'ITGB4',\n",
       " 'HBB',\n",
       " 'LMNA',\n",
       " 'MAP4',\n",
       " 'TJP1',\n",
       " 'FGFR3',\n",
       " 'HLA-DRB1',\n",
       " 'CDKN2A',\n",
       " 'PRNP',\n",
       " 'NUP98',\n",
       " 'NACA',\n",
       " 'TOP2B',\n",
       " 'MYO1B',\n",
       " 'STAT3',\n",
       " 'ACAN',\n",
       " 'DDX27',\n",
       " 'FAU',\n",
       " 'ARNT',\n",
       " 'CASC4',\n",
       " 'BCR/ABL fusion',\n",
       " 'MYLK',\n",
       " 'POLR1D',\n",
       " 'CDC37',\n",
       " 'LST1',\n",
       " 'PTMA',\n",
       " 'Uncharacterized protein',\n",
       " 'ITGB3',\n",
       " 'MECOM',\n",
       " 'CHTF8',\n",
       " 'TOR1AIP2',\n",
       " 'DUSP13',\n",
       " 'RAB34',\n",
       " 'CDK5',\n",
       " 'CCDC88A',\n",
       " 'AKAP7',\n",
       " 'SYT-SSX1',\n",
       " 'EPN2',\n",
       " 'EPM2A',\n",
       " 'DISC1',\n",
       " 'SLC35E1',\n",
       " 'Tubulin beta chain',\n",
       " 'SYT-SSX2',\n",
       " 'SNRPB',\n",
       " 'CUX1',\n",
       " 'C12orf10',\n",
       " 'ARHGEF7',\n",
       " 'C19orf2',\n",
       " 'HLA-DRB3',\n",
       " 'HLA-DQB1',\n",
       " 'ZFP64',\n",
       " 'PTPN20',\n",
       " 'NRXN3',\n",
       " 'PKP4',\n",
       " 'Integrin beta',\n",
       " 'ORMDL3',\n",
       " 'IL10',\n",
       " 'IGL@',\n",
       " 'HLA-DMA',\n",
       " 'CHN1',\n",
       " 'TCL6',\n",
       " 'CALCA',\n",
       " 'KIAA0232',\n",
       " 'ZNF365',\n",
       " 'RPP21',\n",
       " 'RAB6B',\n",
       " 'TSPO',\n",
       " 'CLEC4M',\n",
       " 'HNRPA1',\n",
       " 'BBC3',\n",
       " 'NRXN2',\n",
       " 'Dolichyl-diphosphooligosaccharide--protein glycosyltransferase subunit 1',\n",
       " 'EXD3',\n",
       " 'ZNF451',\n",
       " 'C6orf142',\n",
       " 'T-complex protein 1 subunit delta',\n",
       " 'TRA@',\n",
       " '-',\n",
       " 'Androgen receptor',\n",
       " 'ZNF287',\n",
       " 'ERVK-10']"
      ]
     },
     "execution_count": 63,
     "metadata": {},
     "output_type": "execute_result"
    }
   ],
   "source": [
    "#list of all the genes that have more than one Uniprot AC (without duplicates)\n",
    "list_different_uniprotAC = different_uniprotAC['gene'].tolist() #convert to list\n",
    "list_different_uniprotAC = list(dict.fromkeys(list_different_uniprotAC)) #drop duplicates\n",
    "list_different_uniprotAC"
   ]
  },
  {
   "cell_type": "code",
   "execution_count": 64,
   "metadata": {},
   "outputs": [],
   "source": [
    "#list of all the possible genes that have more than one Uniprot AC in a specific dataframe\n",
    "def n_different_uniprotAC(dataframe, listvalues):\n",
    "    resultdict = {}\n",
    "    # Iterate over the list of elements one by one\n",
    "    for i in listvalues:\n",
    "        # Check if the element exists in dataframe values\n",
    "        if i in dataframe.values:\n",
    "            resultdict[i] = True\n",
    "        else:\n",
    "            pass\n",
    "    # Returns a dictionary of values      \n",
    "    return resultdict.keys()"
   ]
  },
  {
   "cell_type": "markdown",
   "metadata": {},
   "source": [
    "##### 1.3.a) Seed genes interactome: interactions that involve seed genes only, from all DBs"
   ]
  },
  {
   "cell_type": "code",
   "execution_count": 65,
   "metadata": {},
   "outputs": [
    {
     "data": {
      "text/html": [
       "<div>\n",
       "<style scoped>\n",
       "    .dataframe tbody tr th:only-of-type {\n",
       "        vertical-align: middle;\n",
       "    }\n",
       "\n",
       "    .dataframe tbody tr th {\n",
       "        vertical-align: top;\n",
       "    }\n",
       "\n",
       "    .dataframe thead th {\n",
       "        text-align: right;\n",
       "    }\n",
       "</style>\n",
       "<table border=\"1\" class=\"dataframe\">\n",
       "  <thead>\n",
       "    <tr style=\"text-align: right;\">\n",
       "      <th></th>\n",
       "      <th>interactor A gene symbol</th>\n",
       "      <th>interactor B gene symbol</th>\n",
       "      <th>database source</th>\n",
       "    </tr>\n",
       "  </thead>\n",
       "  <tbody>\n",
       "    <tr>\n",
       "      <th>143</th>\n",
       "      <td>MAPK8</td>\n",
       "      <td>IRS1</td>\n",
       "      <td>BIOGRID</td>\n",
       "    </tr>\n",
       "    <tr>\n",
       "      <th>3897</th>\n",
       "      <td>ACY1</td>\n",
       "      <td>ACY1</td>\n",
       "      <td>BIOGRID</td>\n",
       "    </tr>\n",
       "    <tr>\n",
       "      <th>4046</th>\n",
       "      <td>GSTA4</td>\n",
       "      <td>GSTA4</td>\n",
       "      <td>BIOGRID</td>\n",
       "    </tr>\n",
       "    <tr>\n",
       "      <th>7408</th>\n",
       "      <td>ABL1</td>\n",
       "      <td>ABL1</td>\n",
       "      <td>BIOGRID</td>\n",
       "    </tr>\n",
       "    <tr>\n",
       "      <th>7759</th>\n",
       "      <td>CDH1</td>\n",
       "      <td>CDH1</td>\n",
       "      <td>BIOGRID</td>\n",
       "    </tr>\n",
       "  </tbody>\n",
       "</table>\n",
       "</div>"
      ],
      "text/plain": [
       "     interactor A gene symbol interactor B gene symbol database source\n",
       "143                     MAPK8                     IRS1         BIOGRID\n",
       "3897                     ACY1                     ACY1         BIOGRID\n",
       "4046                    GSTA4                    GSTA4         BIOGRID\n",
       "7408                     ABL1                     ABL1         BIOGRID\n",
       "7759                     CDH1                     CDH1         BIOGRID"
      ]
     },
     "execution_count": 65,
     "metadata": {},
     "output_type": "execute_result"
    }
   ],
   "source": [
    "#consider interactions that involve seed genes only from biogrid results table\n",
    "sgi_biogrid = biogrid_results[(biogrid_results['Official Symbol Interactor A'].isin(seedgene['gene symbol'])) & (biogrid_results['Official Symbol Interactor B'].isin(seedgene['gene symbol']))]\n",
    "sgi_biogrid = sgi_biogrid[['Official Symbol Interactor A', 'Official Symbol Interactor B', 'Source Database']]\n",
    "sgi_biogrid.columns = ['interactor A gene symbol', 'interactor B gene symbol', 'database source']\n",
    "sgi_biogrid.head()"
   ]
  },
  {
   "cell_type": "code",
   "execution_count": 66,
   "metadata": {},
   "outputs": [
    {
     "data": {
      "text/plain": [
       "(100, 3)"
      ]
     },
     "execution_count": 66,
     "metadata": {},
     "output_type": "execute_result"
    }
   ],
   "source": [
    "#info seed genes interactome from biogrid results table\n",
    "sgi_biogrid.shape"
   ]
  },
  {
   "cell_type": "code",
   "execution_count": 67,
   "metadata": {},
   "outputs": [
    {
     "data": {
      "text/html": [
       "<div>\n",
       "<style scoped>\n",
       "    .dataframe tbody tr th:only-of-type {\n",
       "        vertical-align: middle;\n",
       "    }\n",
       "\n",
       "    .dataframe tbody tr th {\n",
       "        vertical-align: top;\n",
       "    }\n",
       "\n",
       "    .dataframe thead th {\n",
       "        text-align: right;\n",
       "    }\n",
       "</style>\n",
       "<table border=\"1\" class=\"dataframe\">\n",
       "  <thead>\n",
       "    <tr style=\"text-align: right;\">\n",
       "      <th></th>\n",
       "      <th>interactor A gene symbol</th>\n",
       "      <th>interactor B gene symbol</th>\n",
       "      <th>database source</th>\n",
       "    </tr>\n",
       "  </thead>\n",
       "  <tbody>\n",
       "    <tr>\n",
       "      <th>1618</th>\n",
       "      <td>ANXA4</td>\n",
       "      <td>CDH1</td>\n",
       "      <td>IID</td>\n",
       "    </tr>\n",
       "    <tr>\n",
       "      <th>11404</th>\n",
       "      <td>CCND1</td>\n",
       "      <td>STAT3</td>\n",
       "      <td>IID</td>\n",
       "    </tr>\n",
       "    <tr>\n",
       "      <th>20197</th>\n",
       "      <td>VEGFA</td>\n",
       "      <td>AKT1</td>\n",
       "      <td>IID</td>\n",
       "    </tr>\n",
       "    <tr>\n",
       "      <th>20843</th>\n",
       "      <td>IL6</td>\n",
       "      <td>IL6</td>\n",
       "      <td>IID</td>\n",
       "    </tr>\n",
       "    <tr>\n",
       "      <th>53204</th>\n",
       "      <td>CDH1</td>\n",
       "      <td>SIRPA</td>\n",
       "      <td>IID</td>\n",
       "    </tr>\n",
       "  </tbody>\n",
       "</table>\n",
       "</div>"
      ],
      "text/plain": [
       "      interactor A gene symbol interactor B gene symbol database source\n",
       "1618                     ANXA4                     CDH1             IID\n",
       "11404                    CCND1                    STAT3             IID\n",
       "20197                    VEGFA                     AKT1             IID\n",
       "20843                      IL6                      IL6             IID\n",
       "53204                     CDH1                    SIRPA             IID"
      ]
     },
     "execution_count": 67,
     "metadata": {},
     "output_type": "execute_result"
    }
   ],
   "source": [
    "#consider interactions that involve seed genes only from iid results table\n",
    "sgi_iid = iid_results[(iid_results['symbol1'].isin(seedgene['gene symbol'])) & (iid_results['symbol2'].isin(seedgene['gene symbol']))]\n",
    "sgi_iid = sgi_iid[['symbol1', 'symbol2']]\n",
    "sgi_iid = sgi_iid.assign(Dataset='IID')\n",
    "sgi_iid.columns = ['interactor A gene symbol', 'interactor B gene symbol', 'database source']\n",
    "sgi_iid.head()"
   ]
  },
  {
   "cell_type": "code",
   "execution_count": 68,
   "metadata": {},
   "outputs": [
    {
     "data": {
      "text/plain": [
       "(116, 3)"
      ]
     },
     "execution_count": 68,
     "metadata": {},
     "output_type": "execute_result"
    }
   ],
   "source": [
    "#info seed genes interactome from iid results table\n",
    "sgi_iid.shape"
   ]
  },
  {
   "cell_type": "code",
   "execution_count": 69,
   "metadata": {},
   "outputs": [],
   "source": [
    "#assign both database sources (BIOGRID; IID) to interactions that are both in Biogrid and in IID\n",
    "sgi = sgi_biogrid.append(sgi_iid) #append sgi_iid to sgi_biogrid\n",
    "sgi_not_duplicates = sgi[~pd.DataFrame(np.sort(sgi[['interactor A gene symbol', 'interactor B gene symbol']], axis=1)).duplicated(keep=False).values] #all not duplicates\n",
    "sgi_duplicates = sgi[pd.DataFrame(np.sort(sgi[['interactor A gene symbol', 'interactor B gene symbol']], axis=1)).duplicated(keep=False).values] #all duplicates\n",
    "sgi_duplicates2 = sgi_duplicates.copy()\n",
    "sgi_duplicates2['database source'] = 'BIOGRID; IID' #rename values\n",
    "sgi = sgi_not_duplicates.append(sgi_duplicates2) #append sgi_duplicates2 to sgi_not_duplicates"
   ]
  },
  {
   "cell_type": "code",
   "execution_count": 70,
   "metadata": {},
   "outputs": [
    {
     "data": {
      "text/html": [
       "<div>\n",
       "<style scoped>\n",
       "    .dataframe tbody tr th:only-of-type {\n",
       "        vertical-align: middle;\n",
       "    }\n",
       "\n",
       "    .dataframe tbody tr th {\n",
       "        vertical-align: top;\n",
       "    }\n",
       "\n",
       "    .dataframe thead th {\n",
       "        text-align: right;\n",
       "    }\n",
       "</style>\n",
       "<table border=\"1\" class=\"dataframe\">\n",
       "  <thead>\n",
       "    <tr style=\"text-align: right;\">\n",
       "      <th></th>\n",
       "      <th>interactor A gene symbol</th>\n",
       "      <th>interactor B gene symbol</th>\n",
       "      <th>database source</th>\n",
       "    </tr>\n",
       "  </thead>\n",
       "  <tbody>\n",
       "    <tr>\n",
       "      <th>419235</th>\n",
       "      <td>MDM2</td>\n",
       "      <td>VEGFA</td>\n",
       "      <td>BIOGRID</td>\n",
       "    </tr>\n",
       "    <tr>\n",
       "      <th>428155</th>\n",
       "      <td>CDKN2A</td>\n",
       "      <td>CDKN2A</td>\n",
       "      <td>BIOGRID</td>\n",
       "    </tr>\n",
       "    <tr>\n",
       "      <th>431832</th>\n",
       "      <td>CDKN2A</td>\n",
       "      <td>AKT1</td>\n",
       "      <td>BIOGRID</td>\n",
       "    </tr>\n",
       "    <tr>\n",
       "      <th>496962</th>\n",
       "      <td>SIRPA</td>\n",
       "      <td>AKT1</td>\n",
       "      <td>BIOGRID</td>\n",
       "    </tr>\n",
       "    <tr>\n",
       "      <th>496980</th>\n",
       "      <td>SIRPA</td>\n",
       "      <td>FTH1</td>\n",
       "      <td>BIOGRID</td>\n",
       "    </tr>\n",
       "  </tbody>\n",
       "</table>\n",
       "</div>"
      ],
      "text/plain": [
       "       interactor A gene symbol interactor B gene symbol database source\n",
       "419235                     MDM2                    VEGFA         BIOGRID\n",
       "428155                   CDKN2A                   CDKN2A         BIOGRID\n",
       "431832                   CDKN2A                     AKT1         BIOGRID\n",
       "496962                    SIRPA                     AKT1         BIOGRID\n",
       "496980                    SIRPA                     FTH1         BIOGRID"
      ]
     },
     "execution_count": 70,
     "metadata": {},
     "output_type": "execute_result"
    }
   ],
   "source": [
    "#remove duplicates and reversed duplicates in sgi table\n",
    "sgi = sgi[~pd.DataFrame(np.sort(sgi[['interactor A gene symbol', 'interactor B gene symbol']], axis=1)).duplicated().values]\n",
    "sgi.head()"
   ]
  },
  {
   "cell_type": "code",
   "execution_count": 71,
   "metadata": {},
   "outputs": [
    {
     "data": {
      "text/plain": [
       "(135, 3)"
      ]
     },
     "execution_count": 71,
     "metadata": {},
     "output_type": "execute_result"
    }
   ],
   "source": [
    "#info seed genes interactome from all DBs\n",
    "sgi.shape"
   ]
  },
  {
   "cell_type": "markdown",
   "metadata": {},
   "source": [
    "Add 'interactor A Uniprot AC' and 'interactor B Uniprot AC' columns in SGI table."
   ]
  },
  {
   "cell_type": "code",
   "execution_count": 72,
   "metadata": {},
   "outputs": [
    {
     "data": {
      "text/plain": [
       "dict_keys(['CDKN2A', 'STAT3'])"
      ]
     },
     "execution_count": 72,
     "metadata": {},
     "output_type": "execute_result"
    }
   ],
   "source": [
    "#list of all the genes that have more than one Uniprot AC in SGI dataframe\n",
    "different_uniprotAC_SGI = n_different_uniprotAC(sgi, list_different_uniprotAC)\n",
    "different_uniprotAC_SGI"
   ]
  },
  {
   "cell_type": "code",
   "execution_count": 73,
   "metadata": {},
   "outputs": [],
   "source": [
    "#insert the exact Uniprot AC for CDKN2A and STAT3 genes checking from Uniprot website\n",
    "uniprotAC2 = uniprotAC.copy()\n",
    "uniprotAC2.loc[uniprotAC2['gene'] == 'CDKN2A', 'uniprot'] = 'P42771'\n",
    "uniprotAC2.loc[uniprotAC2['gene'] == 'STAT3', 'uniprot'] = 'P40763'"
   ]
  },
  {
   "cell_type": "code",
   "execution_count": 74,
   "metadata": {},
   "outputs": [],
   "source": [
    "#drop CDKN2A and STAT3 genes duplicates in uniprotAC table\n",
    "uniprotAC = uniprotAC2.drop_duplicates(subset=['gene', 'uniprot'])"
   ]
  },
  {
   "cell_type": "code",
   "execution_count": 75,
   "metadata": {},
   "outputs": [
    {
     "data": {
      "text/html": [
       "<div>\n",
       "<style scoped>\n",
       "    .dataframe tbody tr th:only-of-type {\n",
       "        vertical-align: middle;\n",
       "    }\n",
       "\n",
       "    .dataframe tbody tr th {\n",
       "        vertical-align: top;\n",
       "    }\n",
       "\n",
       "    .dataframe thead th {\n",
       "        text-align: right;\n",
       "    }\n",
       "</style>\n",
       "<table border=\"1\" class=\"dataframe\">\n",
       "  <thead>\n",
       "    <tr style=\"text-align: right;\">\n",
       "      <th></th>\n",
       "      <th>interactor A gene symbol</th>\n",
       "      <th>interactor B gene symbol</th>\n",
       "      <th>interactor A Uniprot AC</th>\n",
       "      <th>interactor B Uniprot AC</th>\n",
       "      <th>database source</th>\n",
       "    </tr>\n",
       "  </thead>\n",
       "  <tbody>\n",
       "    <tr>\n",
       "      <th>0</th>\n",
       "      <td>MDM2</td>\n",
       "      <td>VEGFA</td>\n",
       "      <td>Q00987</td>\n",
       "      <td>P15692</td>\n",
       "      <td>BIOGRID</td>\n",
       "    </tr>\n",
       "    <tr>\n",
       "      <th>1</th>\n",
       "      <td>CDKN2A</td>\n",
       "      <td>CDKN2A</td>\n",
       "      <td>P42771</td>\n",
       "      <td>P42771</td>\n",
       "      <td>BIOGRID</td>\n",
       "    </tr>\n",
       "    <tr>\n",
       "      <th>2</th>\n",
       "      <td>CDKN2A</td>\n",
       "      <td>AKT1</td>\n",
       "      <td>P42771</td>\n",
       "      <td>P31749</td>\n",
       "      <td>BIOGRID</td>\n",
       "    </tr>\n",
       "    <tr>\n",
       "      <th>3</th>\n",
       "      <td>SIRPA</td>\n",
       "      <td>AKT1</td>\n",
       "      <td>P78324</td>\n",
       "      <td>P31749</td>\n",
       "      <td>BIOGRID</td>\n",
       "    </tr>\n",
       "    <tr>\n",
       "      <th>4</th>\n",
       "      <td>SIRPA</td>\n",
       "      <td>FTH1</td>\n",
       "      <td>P78324</td>\n",
       "      <td>P02794</td>\n",
       "      <td>BIOGRID</td>\n",
       "    </tr>\n",
       "  </tbody>\n",
       "</table>\n",
       "</div>"
      ],
      "text/plain": [
       "  interactor A gene symbol interactor B gene symbol interactor A Uniprot AC  \\\n",
       "0                     MDM2                    VEGFA                  Q00987   \n",
       "1                   CDKN2A                   CDKN2A                  P42771   \n",
       "2                   CDKN2A                     AKT1                  P42771   \n",
       "3                    SIRPA                     AKT1                  P78324   \n",
       "4                    SIRPA                     FTH1                  P78324   \n",
       "\n",
       "  interactor B Uniprot AC database source  \n",
       "0                  P15692         BIOGRID  \n",
       "1                  P42771         BIOGRID  \n",
       "2                  P31749         BIOGRID  \n",
       "3                  P31749         BIOGRID  \n",
       "4                  P02794         BIOGRID  "
      ]
     },
     "execution_count": 75,
     "metadata": {},
     "output_type": "execute_result"
    }
   ],
   "source": [
    "#Add 'interactor A Uniprot AC' and 'interactor B Uniprot AC' columns in SGI table\n",
    "sgi = sgi.reset_index(drop=True) #reset index of SGI table\n",
    "sgi = sgi.assign(uniprot_A=sgi.merge(uniprotAC,left_on='interactor A gene symbol',right_on='gene', how='left').uniprot, uniprot_B=sgi.merge(uniprotAC,left_on='interactor B gene symbol',right_on='gene', how='left').uniprot)\n",
    "sgi.rename(columns={'uniprot_A':'interactor A Uniprot AC', 'uniprot_B':'interactor B Uniprot AC'}, inplace=True) #rename columns\n",
    "sgi = sgi[['interactor A gene symbol', 'interactor B gene symbol', 'interactor A Uniprot AC', 'interactor B Uniprot AC', 'database source']] #rearrange columns\n",
    "sgi.head()"
   ]
  },
  {
   "cell_type": "code",
   "execution_count": 76,
   "metadata": {},
   "outputs": [
    {
     "name": "stdout",
     "output_type": "stream",
     "text": [
      "interactor A gene symbol    False\n",
      "interactor B gene symbol    False\n",
      "interactor A Uniprot AC     False\n",
      "interactor B Uniprot AC     False\n",
      "database source             False\n",
      "dtype: bool\n"
     ]
    }
   ],
   "source": [
    "#check if NaN values in interactor A Uniprot AC and interactor B Uniprot AC columns are present\n",
    "print(sgi.isnull().any())"
   ]
  },
  {
   "cell_type": "code",
   "execution_count": 77,
   "metadata": {},
   "outputs": [
    {
     "data": {
      "text/plain": [
       "(135, 5)"
      ]
     },
     "execution_count": 77,
     "metadata": {},
     "output_type": "execute_result"
    }
   ],
   "source": [
    "#info seed genes interactome from all DBs\n",
    "sgi.shape"
   ]
  },
  {
   "cell_type": "code",
   "execution_count": 78,
   "metadata": {},
   "outputs": [],
   "source": [
    "#save in excel format the SGI table !!IMPORTANT: remove the # to save the below file!!\n",
    "\n",
    "#sgi.to_excel(\"1.3.a SGI.xlsx\", index = None, header=True)"
   ]
  },
  {
   "cell_type": "markdown",
   "metadata": {},
   "source": [
    "##### 1.3.b) Union interactome: all proteins interacting with at least one seed gene, from all DBs"
   ]
  },
  {
   "cell_type": "code",
   "execution_count": 79,
   "metadata": {},
   "outputs": [
    {
     "data": {
      "text/html": [
       "<div>\n",
       "<style scoped>\n",
       "    .dataframe tbody tr th:only-of-type {\n",
       "        vertical-align: middle;\n",
       "    }\n",
       "\n",
       "    .dataframe tbody tr th {\n",
       "        vertical-align: top;\n",
       "    }\n",
       "\n",
       "    .dataframe thead th {\n",
       "        text-align: right;\n",
       "    }\n",
       "</style>\n",
       "<table border=\"1\" class=\"dataframe\">\n",
       "  <thead>\n",
       "    <tr style=\"text-align: right;\">\n",
       "      <th></th>\n",
       "      <th>interactor A gene symbol</th>\n",
       "      <th>interactor B gene symbol</th>\n",
       "      <th>database source</th>\n",
       "    </tr>\n",
       "  </thead>\n",
       "  <tbody>\n",
       "    <tr>\n",
       "      <th>4</th>\n",
       "      <td>RPA2</td>\n",
       "      <td>STAT3</td>\n",
       "      <td>BIOGRID</td>\n",
       "    </tr>\n",
       "    <tr>\n",
       "      <th>83</th>\n",
       "      <td>DDX54</td>\n",
       "      <td>ESR1</td>\n",
       "      <td>BIOGRID</td>\n",
       "    </tr>\n",
       "    <tr>\n",
       "      <th>129</th>\n",
       "      <td>IFT88</td>\n",
       "      <td>PRRC2A</td>\n",
       "      <td>BIOGRID</td>\n",
       "    </tr>\n",
       "    <tr>\n",
       "      <th>139</th>\n",
       "      <td>IGF1R</td>\n",
       "      <td>IRS1</td>\n",
       "      <td>BIOGRID</td>\n",
       "    </tr>\n",
       "    <tr>\n",
       "      <th>142</th>\n",
       "      <td>PTK2</td>\n",
       "      <td>IRS1</td>\n",
       "      <td>BIOGRID</td>\n",
       "    </tr>\n",
       "  </tbody>\n",
       "</table>\n",
       "</div>"
      ],
      "text/plain": [
       "    interactor A gene symbol interactor B gene symbol database source\n",
       "4                       RPA2                    STAT3         BIOGRID\n",
       "83                     DDX54                     ESR1         BIOGRID\n",
       "129                    IFT88                   PRRC2A         BIOGRID\n",
       "139                    IGF1R                     IRS1         BIOGRID\n",
       "142                     PTK2                     IRS1         BIOGRID"
      ]
     },
     "execution_count": 79,
     "metadata": {},
     "output_type": "execute_result"
    }
   ],
   "source": [
    "#consider proteins interacting with at least one seed gene from biogrid results table (e.g. seed-seed; seed-notseed; notseed-notseed)\n",
    "u_biogrid = biogrid_results.copy()\n",
    "u_biogrid = u_biogrid[['Official Symbol Interactor A', 'Official Symbol Interactor B', 'Source Database']]\n",
    "u_biogrid.columns = ['interactor A gene symbol', 'interactor B gene symbol', 'database source']\n",
    "u_biogrid.head()"
   ]
  },
  {
   "cell_type": "code",
   "execution_count": 80,
   "metadata": {},
   "outputs": [
    {
     "data": {
      "text/plain": [
       "(146083, 3)"
      ]
     },
     "execution_count": 80,
     "metadata": {},
     "output_type": "execute_result"
    }
   ],
   "source": [
    "#info union interactome from biogrid results table\n",
    "u_biogrid.shape"
   ]
  },
  {
   "cell_type": "code",
   "execution_count": 81,
   "metadata": {},
   "outputs": [
    {
     "data": {
      "text/html": [
       "<div>\n",
       "<style scoped>\n",
       "    .dataframe tbody tr th:only-of-type {\n",
       "        vertical-align: middle;\n",
       "    }\n",
       "\n",
       "    .dataframe tbody tr th {\n",
       "        vertical-align: top;\n",
       "    }\n",
       "\n",
       "    .dataframe thead th {\n",
       "        text-align: right;\n",
       "    }\n",
       "</style>\n",
       "<table border=\"1\" class=\"dataframe\">\n",
       "  <thead>\n",
       "    <tr style=\"text-align: right;\">\n",
       "      <th></th>\n",
       "      <th>interactor A gene symbol</th>\n",
       "      <th>interactor B gene symbol</th>\n",
       "      <th>database source</th>\n",
       "    </tr>\n",
       "  </thead>\n",
       "  <tbody>\n",
       "    <tr>\n",
       "      <th>151</th>\n",
       "      <td>RB1</td>\n",
       "      <td>CHN2</td>\n",
       "      <td>IID</td>\n",
       "    </tr>\n",
       "    <tr>\n",
       "      <th>262</th>\n",
       "      <td>PHB</td>\n",
       "      <td>CLTC</td>\n",
       "      <td>IID</td>\n",
       "    </tr>\n",
       "    <tr>\n",
       "      <th>304</th>\n",
       "      <td>YIF1A</td>\n",
       "      <td>NCSTN</td>\n",
       "      <td>IID</td>\n",
       "    </tr>\n",
       "    <tr>\n",
       "      <th>347</th>\n",
       "      <td>SYNCRIP</td>\n",
       "      <td>PHB</td>\n",
       "      <td>IID</td>\n",
       "    </tr>\n",
       "    <tr>\n",
       "      <th>532</th>\n",
       "      <td>LAD1</td>\n",
       "      <td>CDH1</td>\n",
       "      <td>IID</td>\n",
       "    </tr>\n",
       "  </tbody>\n",
       "</table>\n",
       "</div>"
      ],
      "text/plain": [
       "    interactor A gene symbol interactor B gene symbol database source\n",
       "151                      RB1                     CHN2             IID\n",
       "262                      PHB                     CLTC             IID\n",
       "304                    YIF1A                    NCSTN             IID\n",
       "347                  SYNCRIP                      PHB             IID\n",
       "532                     LAD1                     CDH1             IID"
      ]
     },
     "execution_count": 81,
     "metadata": {},
     "output_type": "execute_result"
    }
   ],
   "source": [
    "#consider proteins interacting with at least one seed gene from iid results table (e.g. seed-seed; seed-notseed; notseed-notseed) \n",
    "u_iid = iid_results.copy()\n",
    "u_iid = u_iid[['symbol1', 'symbol2']]\n",
    "u_iid = u_iid.assign(Dataset='IID')\n",
    "u_iid.columns = ['interactor A gene symbol', 'interactor B gene symbol', 'database source']\n",
    "u_iid.head()"
   ]
  },
  {
   "cell_type": "code",
   "execution_count": 82,
   "metadata": {},
   "outputs": [
    {
     "data": {
      "text/plain": [
       "(106044, 3)"
      ]
     },
     "execution_count": 82,
     "metadata": {},
     "output_type": "execute_result"
    }
   ],
   "source": [
    "#info union interactome from iid results table\n",
    "u_iid.shape"
   ]
  },
  {
   "cell_type": "code",
   "execution_count": 83,
   "metadata": {},
   "outputs": [],
   "source": [
    "#assign both database sources (BIOGRID; IID) to interactions that are both in Biogrid and in IID\n",
    "u = u_biogrid.append(u_iid) #append u_iid to u_biogrid\n",
    "u_not_duplicates = u[~pd.DataFrame(np.sort(u[['interactor A gene symbol', 'interactor B gene symbol']], axis=1)).duplicated(keep=False).values] #all not duplicates\n",
    "u_duplicates = u[pd.DataFrame(np.sort(u[['interactor A gene symbol', 'interactor B gene symbol']], axis=1)).duplicated(keep=False).values] #all duplicates\n",
    "u_duplicates2 = u_duplicates.copy()\n",
    "u_duplicates2['database source'] = 'BIOGRID; IID' #rename values\n",
    "u = u_not_duplicates.append(u_duplicates2) #append u_duplicates2 to u_not_duplicates"
   ]
  },
  {
   "cell_type": "code",
   "execution_count": 84,
   "metadata": {},
   "outputs": [
    {
     "data": {
      "text/html": [
       "<div>\n",
       "<style scoped>\n",
       "    .dataframe tbody tr th:only-of-type {\n",
       "        vertical-align: middle;\n",
       "    }\n",
       "\n",
       "    .dataframe tbody tr th {\n",
       "        vertical-align: top;\n",
       "    }\n",
       "\n",
       "    .dataframe thead th {\n",
       "        text-align: right;\n",
       "    }\n",
       "</style>\n",
       "<table border=\"1\" class=\"dataframe\">\n",
       "  <thead>\n",
       "    <tr style=\"text-align: right;\">\n",
       "      <th></th>\n",
       "      <th>interactor A gene symbol</th>\n",
       "      <th>interactor B gene symbol</th>\n",
       "      <th>database source</th>\n",
       "    </tr>\n",
       "  </thead>\n",
       "  <tbody>\n",
       "    <tr>\n",
       "      <th>4435</th>\n",
       "      <td>ZAK</td>\n",
       "      <td>MAP2K7</td>\n",
       "      <td>BIOGRID</td>\n",
       "    </tr>\n",
       "    <tr>\n",
       "      <th>17495</th>\n",
       "      <td>MAPK9</td>\n",
       "      <td>KIAA1377</td>\n",
       "      <td>BIOGRID</td>\n",
       "    </tr>\n",
       "    <tr>\n",
       "      <th>17767</th>\n",
       "      <td>ALDH2</td>\n",
       "      <td>C14orf1</td>\n",
       "      <td>BIOGRID</td>\n",
       "    </tr>\n",
       "    <tr>\n",
       "      <th>17855</th>\n",
       "      <td>GSTO1</td>\n",
       "      <td>KIAA1377</td>\n",
       "      <td>BIOGRID</td>\n",
       "    </tr>\n",
       "    <tr>\n",
       "      <th>20762</th>\n",
       "      <td>MAPK8</td>\n",
       "      <td>IKBKAP</td>\n",
       "      <td>BIOGRID</td>\n",
       "    </tr>\n",
       "  </tbody>\n",
       "</table>\n",
       "</div>"
      ],
      "text/plain": [
       "      interactor A gene symbol interactor B gene symbol database source\n",
       "4435                       ZAK                   MAP2K7         BIOGRID\n",
       "17495                    MAPK9                 KIAA1377         BIOGRID\n",
       "17767                    ALDH2                  C14orf1         BIOGRID\n",
       "17855                    GSTO1                 KIAA1377         BIOGRID\n",
       "20762                    MAPK8                   IKBKAP         BIOGRID"
      ]
     },
     "execution_count": 84,
     "metadata": {},
     "output_type": "execute_result"
    }
   ],
   "source": [
    "#remove duplicates and reversed duplicates in u table\n",
    "u = u[~pd.DataFrame(np.sort(u[['interactor A gene symbol', 'interactor B gene symbol']], axis=1)).duplicated().values]\n",
    "u.head()"
   ]
  },
  {
   "cell_type": "code",
   "execution_count": 85,
   "metadata": {},
   "outputs": [
    {
     "data": {
      "text/plain": [
       "(178809, 3)"
      ]
     },
     "execution_count": 85,
     "metadata": {},
     "output_type": "execute_result"
    }
   ],
   "source": [
    "#info union interactome from all DBs\n",
    "u.shape"
   ]
  },
  {
   "cell_type": "markdown",
   "metadata": {},
   "source": [
    "Add 'interactor A Uniprot AC' and 'interactor B Uniprot AC' columns in U table."
   ]
  },
  {
   "cell_type": "code",
   "execution_count": 86,
   "metadata": {},
   "outputs": [
    {
     "data": {
      "text/plain": [
       "dict_keys(['BRCA1', 'EEF2', 'MYC', 'RPS27A', 'ILF3', 'TMPO', 'UBE3A', 'FHL2', 'HLA-C', 'DMD', 'RPS3A', 'RTL8C', 'FN1', 'MET', 'TIMM50', 'GNAS', 'RPSA', 'CFTR', 'HLA-B', 'NOTCH1', 'HLA-A', 'SRI', 'TSHR', 'PML', 'HBB', 'LMNA', 'MAP4', 'TJP1', 'FGFR3', 'CDKN2A', 'NUP98', 'NACA', 'MYO1B', 'STAT3', 'ARNT', 'MYLK', 'CDC37', 'PTMA', 'Uncharacterized protein', 'ITGB3', 'CHTF8', 'TOR1AIP2', 'DUSP13', 'RAB34', 'CDK5', 'CCDC88A', 'SYT-SSX1', 'EPN2', 'EPM2A', 'DISC1', 'SYT-SSX2', 'SNRPB', 'PKP4', 'IL10', 'CHN1', 'RPP21'])"
      ]
     },
     "execution_count": 86,
     "metadata": {},
     "output_type": "execute_result"
    }
   ],
   "source": [
    "#list of all the genes that have more than one Uniprot AC in U dataframe\n",
    "different_uniprotAC_U = n_different_uniprotAC(u, list_different_uniprotAC)\n",
    "different_uniprotAC_U"
   ]
  },
  {
   "cell_type": "code",
   "execution_count": 87,
   "metadata": {},
   "outputs": [],
   "source": [
    "#insert the exact Uniprot AC for the above genes checking from Uniprot website (except for CDKN2A and STAT3 genes, that have already been modified)\n",
    "uniprotAC3 = uniprotAC.copy()\n",
    "uniprotAC3.loc[uniprotAC3['gene'] == 'BRCA1', 'uniprot'] = 'P38398'\n",
    "uniprotAC3.loc[uniprotAC3['gene'] == 'EEF2', 'uniprot'] = 'P13639'\n",
    "uniprotAC3.loc[uniprotAC3['gene'] == 'MYC', 'uniprot'] = 'P01106'\n",
    "uniprotAC3.loc[uniprotAC3['gene'] == 'RPS27A', 'uniprot'] = 'P62979'\n",
    "uniprotAC3.loc[uniprotAC3['gene'] == 'ILF3', 'uniprot'] = 'Q12906'\n",
    "uniprotAC3.loc[uniprotAC3['gene'] == 'TMPO', 'uniprot'] = 'P42166'\n",
    "uniprotAC3.loc[uniprotAC3['gene'] == 'UBE3A', 'uniprot'] = 'Q05086'\n",
    "uniprotAC3.loc[uniprotAC3['gene'] == 'FHL2', 'uniprot'] = 'Q14192'\n",
    "uniprotAC3.loc[uniprotAC3['gene'] == 'HLA-C', 'uniprot'] = 'P10321'\n",
    "uniprotAC3.loc[uniprotAC3['gene'] == 'DMD', 'uniprot'] = 'P11532'\n",
    "uniprotAC3.loc[uniprotAC3['gene'] == 'RPS3A', 'uniprot'] = 'P61247'\n",
    "uniprotAC3.loc[uniprotAC3['gene'] == 'RTL8C', 'uniprot'] = 'A6ZKI3'\n",
    "uniprotAC3.loc[uniprotAC3['gene'] == 'FN1', 'uniprot'] = 'P02751'\n",
    "uniprotAC3.loc[uniprotAC3['gene'] == 'MET', 'uniprot'] = 'P08581'\n",
    "uniprotAC3.loc[uniprotAC3['gene'] == 'TIMM50', 'uniprot'] = 'Q3ZCQ8'\n",
    "uniprotAC3.loc[uniprotAC3['gene'] == 'GNAS', 'uniprot'] = 'O95467'\n",
    "uniprotAC3.loc[uniprotAC3['gene'] == 'RPSA', 'uniprot'] = 'P08865'\n",
    "uniprotAC3.loc[uniprotAC3['gene'] == 'CFTR', 'uniprot'] = 'P13569'\n",
    "uniprotAC3.loc[uniprotAC3['gene'] == 'HLA-B', 'uniprot'] = 'P01889'\n",
    "uniprotAC3.loc[uniprotAC3['gene'] == 'NOTCH1', 'uniprot'] = 'P46531'\n",
    "uniprotAC3.loc[uniprotAC3['gene'] == 'HLA-A', 'uniprot'] = 'P04439'\n",
    "uniprotAC3.loc[uniprotAC3['gene'] == 'SRI', 'uniprot'] = 'P30626'\n",
    "uniprotAC3.loc[uniprotAC3['gene'] == 'TSHR', 'uniprot'] = 'P16473'\n",
    "uniprotAC3.loc[uniprotAC3['gene'] == 'PML', 'uniprot'] = 'P29590'\n",
    "uniprotAC3.loc[uniprotAC3['gene'] == 'HBB', 'uniprot'] = 'P68871'\n",
    "uniprotAC3.loc[uniprotAC3['gene'] == 'LMNA', 'uniprot'] = 'P02545'\n",
    "uniprotAC3.loc[uniprotAC3['gene'] == 'MAP4', 'uniprot'] = 'P27816'\n",
    "uniprotAC3.loc[uniprotAC3['gene'] == 'TJP1', 'uniprot'] = 'Q07157'\n",
    "uniprotAC3.loc[uniprotAC3['gene'] == 'FGFR3', 'uniprot'] = 'P22607'\n",
    "uniprotAC3.loc[uniprotAC3['gene'] == 'NUP98', 'uniprot'] = 'P52948'\n",
    "uniprotAC3.loc[uniprotAC3['gene'] == 'NACA', 'uniprot'] = 'E9PAV3'\n",
    "uniprotAC3.loc[uniprotAC3['gene'] == 'MYO1B', 'uniprot'] = 'O43795'\n",
    "uniprotAC3.loc[uniprotAC3['gene'] == 'ARNT', 'uniprot'] = 'P27540'\n",
    "uniprotAC3.loc[uniprotAC3['gene'] == 'MYLK', 'uniprot'] = 'Q15746'\n",
    "uniprotAC3.loc[uniprotAC3['gene'] == 'CDC37', 'uniprot'] = 'Q16543'\n",
    "uniprotAC3.loc[uniprotAC3['gene'] == 'PTMA', 'uniprot'] = 'P06454'\n",
    "uniprotAC3.loc[uniprotAC3['gene'] == 'ITGB3', 'uniprot'] = 'P05106'\n",
    "uniprotAC3.loc[uniprotAC3['gene'] == 'CHTF8', 'uniprot'] = 'P0CG13'\n",
    "uniprotAC3.loc[uniprotAC3['gene'] == 'TOR1AIP2', 'uniprot'] = 'Q8NFQ8'\n",
    "uniprotAC3.loc[uniprotAC3['gene'] == 'DUSP13', 'uniprot'] = 'Q6B8I1'\n",
    "uniprotAC3.loc[uniprotAC3['gene'] == 'RAB34', 'uniprot'] = 'P0DI83'\n",
    "uniprotAC3.loc[uniprotAC3['gene'] == 'CDK5', 'uniprot'] = 'Q00535'\n",
    "uniprotAC3.loc[uniprotAC3['gene'] == 'CCDC88A', 'uniprot'] = 'Q3V6T2'\n",
    "uniprotAC3.loc[uniprotAC3['gene'] == 'EPN2', 'uniprot'] = 'O95208'\n",
    "uniprotAC3.loc[uniprotAC3['gene'] == 'EPM2A', 'uniprot'] = 'B3EWF7'\n",
    "uniprotAC3.loc[uniprotAC3['gene'] == 'DISC1', 'uniprot'] = 'Q9NRI5'\n",
    "uniprotAC3.loc[uniprotAC3['gene'] == 'SNRPB', 'uniprot'] = 'P14678'\n",
    "uniprotAC3.loc[uniprotAC3['gene'] == 'PKP4', 'uniprot'] = 'Q99569'\n",
    "uniprotAC3.loc[uniprotAC3['gene'] == 'IL10', 'uniprot'] = 'P22301'\n",
    "uniprotAC3.loc[uniprotAC3['gene'] == 'CHN1', 'uniprot'] = 'P15882'\n",
    "uniprotAC3.loc[uniprotAC3['gene'] == 'RPP21', 'uniprot'] = 'Q9H633'"
   ]
  },
  {
   "cell_type": "code",
   "execution_count": 88,
   "metadata": {},
   "outputs": [],
   "source": [
    "#remove rows with wrong or unreviewed Uniprot AC\n",
    "searchfor = ['Uncharacterized protein', 'SYT-SSX1', 'SYT-SSX2']\n",
    "uniprotAC3 = uniprotAC3[~uniprotAC3['gene'].str.contains('|'.join(searchfor))]"
   ]
  },
  {
   "cell_type": "code",
   "execution_count": 89,
   "metadata": {},
   "outputs": [],
   "source": [
    "#drop above genes duplicates in uniprotAC table\n",
    "uniprotAC = uniprotAC3.drop_duplicates(subset=['gene', 'uniprot'])"
   ]
  },
  {
   "cell_type": "code",
   "execution_count": 90,
   "metadata": {},
   "outputs": [
    {
     "data": {
      "text/html": [
       "<div>\n",
       "<style scoped>\n",
       "    .dataframe tbody tr th:only-of-type {\n",
       "        vertical-align: middle;\n",
       "    }\n",
       "\n",
       "    .dataframe tbody tr th {\n",
       "        vertical-align: top;\n",
       "    }\n",
       "\n",
       "    .dataframe thead th {\n",
       "        text-align: right;\n",
       "    }\n",
       "</style>\n",
       "<table border=\"1\" class=\"dataframe\">\n",
       "  <thead>\n",
       "    <tr style=\"text-align: right;\">\n",
       "      <th></th>\n",
       "      <th>interactor A gene symbol</th>\n",
       "      <th>interactor B gene symbol</th>\n",
       "      <th>interactor A Uniprot AC</th>\n",
       "      <th>interactor B Uniprot AC</th>\n",
       "      <th>database source</th>\n",
       "    </tr>\n",
       "  </thead>\n",
       "  <tbody>\n",
       "    <tr>\n",
       "      <th>0</th>\n",
       "      <td>ZAK</td>\n",
       "      <td>MAP2K7</td>\n",
       "      <td>NaN</td>\n",
       "      <td>O14733</td>\n",
       "      <td>BIOGRID</td>\n",
       "    </tr>\n",
       "    <tr>\n",
       "      <th>1</th>\n",
       "      <td>MAPK9</td>\n",
       "      <td>KIAA1377</td>\n",
       "      <td>P45984</td>\n",
       "      <td>NaN</td>\n",
       "      <td>BIOGRID</td>\n",
       "    </tr>\n",
       "    <tr>\n",
       "      <th>2</th>\n",
       "      <td>ALDH2</td>\n",
       "      <td>C14orf1</td>\n",
       "      <td>P05091</td>\n",
       "      <td>NaN</td>\n",
       "      <td>BIOGRID</td>\n",
       "    </tr>\n",
       "    <tr>\n",
       "      <th>3</th>\n",
       "      <td>GSTO1</td>\n",
       "      <td>KIAA1377</td>\n",
       "      <td>P78417</td>\n",
       "      <td>NaN</td>\n",
       "      <td>BIOGRID</td>\n",
       "    </tr>\n",
       "    <tr>\n",
       "      <th>4</th>\n",
       "      <td>MAPK8</td>\n",
       "      <td>IKBKAP</td>\n",
       "      <td>P45983</td>\n",
       "      <td>NaN</td>\n",
       "      <td>BIOGRID</td>\n",
       "    </tr>\n",
       "  </tbody>\n",
       "</table>\n",
       "</div>"
      ],
      "text/plain": [
       "  interactor A gene symbol interactor B gene symbol interactor A Uniprot AC  \\\n",
       "0                      ZAK                   MAP2K7                     NaN   \n",
       "1                    MAPK9                 KIAA1377                  P45984   \n",
       "2                    ALDH2                  C14orf1                  P05091   \n",
       "3                    GSTO1                 KIAA1377                  P78417   \n",
       "4                    MAPK8                   IKBKAP                  P45983   \n",
       "\n",
       "  interactor B Uniprot AC database source  \n",
       "0                  O14733         BIOGRID  \n",
       "1                     NaN         BIOGRID  \n",
       "2                     NaN         BIOGRID  \n",
       "3                     NaN         BIOGRID  \n",
       "4                     NaN         BIOGRID  "
      ]
     },
     "execution_count": 90,
     "metadata": {},
     "output_type": "execute_result"
    }
   ],
   "source": [
    "#Add 'interactor A Uniprot AC' and 'interactor B Uniprot AC' columns in U table\n",
    "u = u.reset_index(drop=True) #reset index of U table\n",
    "u = u.assign(uniprot_A=u.merge(uniprotAC,left_on='interactor A gene symbol',right_on='gene', how='left').uniprot, uniprot_B=u.merge(uniprotAC,left_on='interactor B gene symbol',right_on='gene', how='left').uniprot)\n",
    "u.rename(columns={'uniprot_A':'interactor A Uniprot AC', 'uniprot_B':'interactor B Uniprot AC'}, inplace=True) #rename columns\n",
    "u = u[['interactor A gene symbol', 'interactor B gene symbol', 'interactor A Uniprot AC', 'interactor B Uniprot AC', 'database source']] #rearrange columns\n",
    "u.head()"
   ]
  },
  {
   "cell_type": "code",
   "execution_count": 91,
   "metadata": {},
   "outputs": [
    {
     "name": "stdout",
     "output_type": "stream",
     "text": [
      "interactor A gene symbol    False\n",
      "interactor B gene symbol    False\n",
      "interactor A Uniprot AC      True\n",
      "interactor B Uniprot AC      True\n",
      "database source             False\n",
      "dtype: bool\n"
     ]
    }
   ],
   "source": [
    "#check if NaN values in interactor A Uniprot AC and interactor B Uniprot AC columns are present\n",
    "print(u.isnull().any())"
   ]
  },
  {
   "cell_type": "code",
   "execution_count": 92,
   "metadata": {},
   "outputs": [
    {
     "data": {
      "text/plain": [
       "(178809, 5)"
      ]
     },
     "execution_count": 92,
     "metadata": {},
     "output_type": "execute_result"
    }
   ],
   "source": [
    "#info union interactome from all DBs\n",
    "u.shape"
   ]
  },
  {
   "cell_type": "markdown",
   "metadata": {},
   "source": [
    "We decided to drop the NaN values because they refer to 'previous gene symbols'. Observing these genes in the dataframe, we notice that they are already present in the dataframe with the right and approved nomenclature. "
   ]
  },
  {
   "cell_type": "code",
   "execution_count": 93,
   "metadata": {},
   "outputs": [
    {
     "data": {
      "text/html": [
       "<div>\n",
       "<style scoped>\n",
       "    .dataframe tbody tr th:only-of-type {\n",
       "        vertical-align: middle;\n",
       "    }\n",
       "\n",
       "    .dataframe tbody tr th {\n",
       "        vertical-align: top;\n",
       "    }\n",
       "\n",
       "    .dataframe thead th {\n",
       "        text-align: right;\n",
       "    }\n",
       "</style>\n",
       "<table border=\"1\" class=\"dataframe\">\n",
       "  <thead>\n",
       "    <tr style=\"text-align: right;\">\n",
       "      <th></th>\n",
       "      <th>interactor A gene symbol</th>\n",
       "      <th>interactor B gene symbol</th>\n",
       "      <th>interactor A Uniprot AC</th>\n",
       "      <th>interactor B Uniprot AC</th>\n",
       "      <th>database source</th>\n",
       "    </tr>\n",
       "  </thead>\n",
       "  <tbody>\n",
       "    <tr>\n",
       "      <th>5</th>\n",
       "      <td>HRAS</td>\n",
       "      <td>MLLT4</td>\n",
       "      <td>P01112</td>\n",
       "      <td>Q96C95</td>\n",
       "      <td>BIOGRID</td>\n",
       "    </tr>\n",
       "    <tr>\n",
       "      <th>49</th>\n",
       "      <td>CFL1</td>\n",
       "      <td>NME1-NME2</td>\n",
       "      <td>P23528</td>\n",
       "      <td>Q32Q12</td>\n",
       "      <td>BIOGRID</td>\n",
       "    </tr>\n",
       "    <tr>\n",
       "      <th>65</th>\n",
       "      <td>CDH1</td>\n",
       "      <td>MLLT4</td>\n",
       "      <td>P12830</td>\n",
       "      <td>Q96C95</td>\n",
       "      <td>BIOGRID</td>\n",
       "    </tr>\n",
       "    <tr>\n",
       "      <th>92</th>\n",
       "      <td>DCAF4L2</td>\n",
       "      <td>GSTP1</td>\n",
       "      <td>Q8NA75</td>\n",
       "      <td>P09211</td>\n",
       "      <td>BIOGRID</td>\n",
       "    </tr>\n",
       "    <tr>\n",
       "      <th>93</th>\n",
       "      <td>DCAF4L2</td>\n",
       "      <td>CFL1</td>\n",
       "      <td>Q8NA75</td>\n",
       "      <td>P23528</td>\n",
       "      <td>BIOGRID</td>\n",
       "    </tr>\n",
       "  </tbody>\n",
       "</table>\n",
       "</div>"
      ],
      "text/plain": [
       "   interactor A gene symbol interactor B gene symbol interactor A Uniprot AC  \\\n",
       "5                      HRAS                    MLLT4                  P01112   \n",
       "49                     CFL1                NME1-NME2                  P23528   \n",
       "65                     CDH1                    MLLT4                  P12830   \n",
       "92                  DCAF4L2                    GSTP1                  Q8NA75   \n",
       "93                  DCAF4L2                     CFL1                  Q8NA75   \n",
       "\n",
       "   interactor B Uniprot AC database source  \n",
       "5                   Q96C95         BIOGRID  \n",
       "49                  Q32Q12         BIOGRID  \n",
       "65                  Q96C95         BIOGRID  \n",
       "92                  P09211         BIOGRID  \n",
       "93                  P23528         BIOGRID  "
      ]
     },
     "execution_count": 93,
     "metadata": {},
     "output_type": "execute_result"
    }
   ],
   "source": [
    "#drop rows with NaN values and drop duplicates\n",
    "u = u[~u.isna().any(axis=1)]\n",
    "u.head()"
   ]
  },
  {
   "cell_type": "code",
   "execution_count": 94,
   "metadata": {},
   "outputs": [
    {
     "name": "stdout",
     "output_type": "stream",
     "text": [
      "interactor A gene symbol    False\n",
      "interactor B gene symbol    False\n",
      "interactor A Uniprot AC     False\n",
      "interactor B Uniprot AC     False\n",
      "database source             False\n",
      "dtype: bool\n"
     ]
    }
   ],
   "source": [
    "#check if NaN values in interactor A Uniprot AC and interactor B Uniprot AC columns are present\n",
    "print(u.isnull().any())"
   ]
  },
  {
   "cell_type": "code",
   "execution_count": 95,
   "metadata": {},
   "outputs": [
    {
     "data": {
      "text/plain": [
       "(172052, 5)"
      ]
     },
     "execution_count": 95,
     "metadata": {},
     "output_type": "execute_result"
    }
   ],
   "source": [
    "#info union interactome from all DBs\n",
    "u.shape"
   ]
  },
  {
   "cell_type": "code",
   "execution_count": 96,
   "metadata": {},
   "outputs": [],
   "source": [
    "#save in excel format the U table !!IMPORTANT: remove the # to save the below file!!\n",
    "\n",
    "#u.to_excel(\"1.3.b U.xlsx\", index = None, header=True)"
   ]
  },
  {
   "cell_type": "markdown",
   "metadata": {},
   "source": [
    "##### 1.3.c) Intersection interactome: all proteins interacting with at least one seed gene confirmed by both DBs"
   ]
  },
  {
   "cell_type": "code",
   "execution_count": 97,
   "metadata": {},
   "outputs": [
    {
     "data": {
      "text/html": [
       "<div>\n",
       "<style scoped>\n",
       "    .dataframe tbody tr th:only-of-type {\n",
       "        vertical-align: middle;\n",
       "    }\n",
       "\n",
       "    .dataframe tbody tr th {\n",
       "        vertical-align: top;\n",
       "    }\n",
       "\n",
       "    .dataframe thead th {\n",
       "        text-align: right;\n",
       "    }\n",
       "</style>\n",
       "<table border=\"1\" class=\"dataframe\">\n",
       "  <thead>\n",
       "    <tr style=\"text-align: right;\">\n",
       "      <th></th>\n",
       "      <th>interactor A gene symbol</th>\n",
       "      <th>interactor B gene symbol</th>\n",
       "    </tr>\n",
       "  </thead>\n",
       "  <tbody>\n",
       "    <tr>\n",
       "      <th>4</th>\n",
       "      <td>RPA2</td>\n",
       "      <td>STAT3</td>\n",
       "    </tr>\n",
       "    <tr>\n",
       "      <th>83</th>\n",
       "      <td>DDX54</td>\n",
       "      <td>ESR1</td>\n",
       "    </tr>\n",
       "    <tr>\n",
       "      <th>129</th>\n",
       "      <td>IFT88</td>\n",
       "      <td>PRRC2A</td>\n",
       "    </tr>\n",
       "    <tr>\n",
       "      <th>139</th>\n",
       "      <td>IGF1R</td>\n",
       "      <td>IRS1</td>\n",
       "    </tr>\n",
       "    <tr>\n",
       "      <th>142</th>\n",
       "      <td>PTK2</td>\n",
       "      <td>IRS1</td>\n",
       "    </tr>\n",
       "  </tbody>\n",
       "</table>\n",
       "</div>"
      ],
      "text/plain": [
       "    interactor A gene symbol interactor B gene symbol\n",
       "4                       RPA2                    STAT3\n",
       "83                     DDX54                     ESR1\n",
       "129                    IFT88                   PRRC2A\n",
       "139                    IGF1R                     IRS1\n",
       "142                     PTK2                     IRS1"
      ]
     },
     "execution_count": 97,
     "metadata": {},
     "output_type": "execute_result"
    }
   ],
   "source": [
    "#consider proteins interacting with at least one seed gene from biogrid results table (e.g. seed-seed; seed-notseed; notseed-notseed) \n",
    "i_biogrid = biogrid_results.copy()\n",
    "i_biogrid = i_biogrid[['Official Symbol Interactor A', 'Official Symbol Interactor B']]\n",
    "i_biogrid.columns = ['interactor A gene symbol', 'interactor B gene symbol']\n",
    "i_biogrid.head()"
   ]
  },
  {
   "cell_type": "code",
   "execution_count": 98,
   "metadata": {},
   "outputs": [
    {
     "data": {
      "text/plain": [
       "(146083, 2)"
      ]
     },
     "execution_count": 98,
     "metadata": {},
     "output_type": "execute_result"
    }
   ],
   "source": [
    "#info intersection interactome from biogrid results table\n",
    "i_biogrid.shape"
   ]
  },
  {
   "cell_type": "code",
   "execution_count": 99,
   "metadata": {},
   "outputs": [
    {
     "data": {
      "text/html": [
       "<div>\n",
       "<style scoped>\n",
       "    .dataframe tbody tr th:only-of-type {\n",
       "        vertical-align: middle;\n",
       "    }\n",
       "\n",
       "    .dataframe tbody tr th {\n",
       "        vertical-align: top;\n",
       "    }\n",
       "\n",
       "    .dataframe thead th {\n",
       "        text-align: right;\n",
       "    }\n",
       "</style>\n",
       "<table border=\"1\" class=\"dataframe\">\n",
       "  <thead>\n",
       "    <tr style=\"text-align: right;\">\n",
       "      <th></th>\n",
       "      <th>interactor A gene symbol</th>\n",
       "      <th>interactor B gene symbol</th>\n",
       "    </tr>\n",
       "  </thead>\n",
       "  <tbody>\n",
       "    <tr>\n",
       "      <th>151</th>\n",
       "      <td>RB1</td>\n",
       "      <td>CHN2</td>\n",
       "    </tr>\n",
       "    <tr>\n",
       "      <th>262</th>\n",
       "      <td>PHB</td>\n",
       "      <td>CLTC</td>\n",
       "    </tr>\n",
       "    <tr>\n",
       "      <th>304</th>\n",
       "      <td>YIF1A</td>\n",
       "      <td>NCSTN</td>\n",
       "    </tr>\n",
       "    <tr>\n",
       "      <th>347</th>\n",
       "      <td>SYNCRIP</td>\n",
       "      <td>PHB</td>\n",
       "    </tr>\n",
       "    <tr>\n",
       "      <th>532</th>\n",
       "      <td>LAD1</td>\n",
       "      <td>CDH1</td>\n",
       "    </tr>\n",
       "  </tbody>\n",
       "</table>\n",
       "</div>"
      ],
      "text/plain": [
       "    interactor A gene symbol interactor B gene symbol\n",
       "151                      RB1                     CHN2\n",
       "262                      PHB                     CLTC\n",
       "304                    YIF1A                    NCSTN\n",
       "347                  SYNCRIP                      PHB\n",
       "532                     LAD1                     CDH1"
      ]
     },
     "execution_count": 99,
     "metadata": {},
     "output_type": "execute_result"
    }
   ],
   "source": [
    "#consider proteins interacting with at least one seed gene from iid results table (e.g. seed-seed; seed-notseed; notseed-notseed)\n",
    "i_iid = iid_results.copy()\n",
    "i_iid = i_iid[['symbol1', 'symbol2']]\n",
    "i_iid.columns = ['interactor A gene symbol', 'interactor B gene symbol']\n",
    "i_iid.head()"
   ]
  },
  {
   "cell_type": "code",
   "execution_count": 100,
   "metadata": {},
   "outputs": [
    {
     "data": {
      "text/plain": [
       "(106044, 2)"
      ]
     },
     "execution_count": 100,
     "metadata": {},
     "output_type": "execute_result"
    }
   ],
   "source": [
    "#info intersection interactome from iid results table\n",
    "i_iid.shape"
   ]
  },
  {
   "cell_type": "code",
   "execution_count": 101,
   "metadata": {},
   "outputs": [],
   "source": [
    "#create a list of dataframes (biogrid_results and iid_results)\n",
    "dfs = [i_biogrid, i_iid]"
   ]
  },
  {
   "cell_type": "code",
   "execution_count": 102,
   "metadata": {},
   "outputs": [],
   "source": [
    "#sorting per rows with removing duplicates \n",
    "sort_dfs = [pd.DataFrame(np.sort(x.values, axis=1), columns=x.columns).drop_duplicates() for x in dfs]"
   ]
  },
  {
   "cell_type": "code",
   "execution_count": 103,
   "metadata": {},
   "outputs": [
    {
     "data": {
      "text/html": [
       "<div>\n",
       "<style scoped>\n",
       "    .dataframe tbody tr th:only-of-type {\n",
       "        vertical-align: middle;\n",
       "    }\n",
       "\n",
       "    .dataframe tbody tr th {\n",
       "        vertical-align: top;\n",
       "    }\n",
       "\n",
       "    .dataframe thead th {\n",
       "        text-align: right;\n",
       "    }\n",
       "</style>\n",
       "<table border=\"1\" class=\"dataframe\">\n",
       "  <thead>\n",
       "    <tr style=\"text-align: right;\">\n",
       "      <th></th>\n",
       "      <th>interactor A gene symbol</th>\n",
       "      <th>interactor B gene symbol</th>\n",
       "    </tr>\n",
       "  </thead>\n",
       "  <tbody>\n",
       "    <tr>\n",
       "      <th>0</th>\n",
       "      <td>RPA2</td>\n",
       "      <td>STAT3</td>\n",
       "    </tr>\n",
       "    <tr>\n",
       "      <th>1</th>\n",
       "      <td>DDX54</td>\n",
       "      <td>ESR1</td>\n",
       "    </tr>\n",
       "    <tr>\n",
       "      <th>2</th>\n",
       "      <td>IFT88</td>\n",
       "      <td>PRRC2A</td>\n",
       "    </tr>\n",
       "    <tr>\n",
       "      <th>3</th>\n",
       "      <td>IGF1R</td>\n",
       "      <td>IRS1</td>\n",
       "    </tr>\n",
       "    <tr>\n",
       "      <th>4</th>\n",
       "      <td>IRS1</td>\n",
       "      <td>PTK2</td>\n",
       "    </tr>\n",
       "  </tbody>\n",
       "</table>\n",
       "</div>"
      ],
      "text/plain": [
       "  interactor A gene symbol interactor B gene symbol\n",
       "0                     RPA2                    STAT3\n",
       "1                    DDX54                     ESR1\n",
       "2                    IFT88                   PRRC2A\n",
       "3                    IGF1R                     IRS1\n",
       "4                     IRS1                     PTK2"
      ]
     },
     "execution_count": 103,
     "metadata": {},
     "output_type": "execute_result"
    }
   ],
   "source": [
    "#print intersection interactome confirmed by both DBs\n",
    "from functools import reduce\n",
    "\n",
    "i = reduce(lambda left,right: pd.merge(left,right), sort_dfs)\n",
    "i.head()"
   ]
  },
  {
   "cell_type": "code",
   "execution_count": 104,
   "metadata": {},
   "outputs": [
    {
     "data": {
      "text/plain": [
       "(73318, 2)"
      ]
     },
     "execution_count": 104,
     "metadata": {},
     "output_type": "execute_result"
    }
   ],
   "source": [
    "#info intersection interactome confirmed by both DBs\n",
    "i.shape"
   ]
  },
  {
   "cell_type": "markdown",
   "metadata": {},
   "source": [
    "Add 'interactor A Uniprot AC' and 'interactor B Uniprot AC' columns in I table."
   ]
  },
  {
   "cell_type": "code",
   "execution_count": 105,
   "metadata": {},
   "outputs": [
    {
     "data": {
      "text/plain": [
       "dict_keys(['BRCA1', 'EEF2', 'MYC', 'RPS27A', 'ILF3', 'TMPO', 'UBE3A', 'FHL2', 'HLA-C', 'RPS3A', 'FN1', 'MET', 'GNAS', 'CFTR', 'NOTCH1', 'HLA-A', 'SRI', 'TSHR', 'PML', 'HBB', 'LMNA', 'MAP4', 'TJP1', 'FGFR3', 'CDKN2A', 'NUP98', 'NACA', 'MYO1B', 'STAT3', 'CDC37', 'PTMA', 'ITGB3', 'CHTF8', 'DUSP13', 'RAB34', 'CDK5', 'CCDC88A', 'EPN2', 'EPM2A', 'DISC1', 'SNRPB', 'PKP4', 'CHN1'])"
      ]
     },
     "execution_count": 105,
     "metadata": {},
     "output_type": "execute_result"
    }
   ],
   "source": [
    "#list of all the genes that have more than one Uniprot AC in I dataframe\n",
    "different_uniprotAC_I = n_different_uniprotAC(i, list_different_uniprotAC)\n",
    "different_uniprotAC_I"
   ]
  },
  {
   "cell_type": "markdown",
   "metadata": {},
   "source": [
    "The above genes, that have more than one Uniprot AC in I dataframe, have already been modified in the point 1.3.b. So, we can skip this step."
   ]
  },
  {
   "cell_type": "code",
   "execution_count": 106,
   "metadata": {},
   "outputs": [
    {
     "data": {
      "text/html": [
       "<div>\n",
       "<style scoped>\n",
       "    .dataframe tbody tr th:only-of-type {\n",
       "        vertical-align: middle;\n",
       "    }\n",
       "\n",
       "    .dataframe tbody tr th {\n",
       "        vertical-align: top;\n",
       "    }\n",
       "\n",
       "    .dataframe thead th {\n",
       "        text-align: right;\n",
       "    }\n",
       "</style>\n",
       "<table border=\"1\" class=\"dataframe\">\n",
       "  <thead>\n",
       "    <tr style=\"text-align: right;\">\n",
       "      <th></th>\n",
       "      <th>interactor A gene symbol</th>\n",
       "      <th>interactor B gene symbol</th>\n",
       "      <th>interactor A Uniprot AC</th>\n",
       "      <th>interactor B Uniprot AC</th>\n",
       "    </tr>\n",
       "  </thead>\n",
       "  <tbody>\n",
       "    <tr>\n",
       "      <th>0</th>\n",
       "      <td>RPA2</td>\n",
       "      <td>STAT3</td>\n",
       "      <td>P15927</td>\n",
       "      <td>P40763</td>\n",
       "    </tr>\n",
       "    <tr>\n",
       "      <th>1</th>\n",
       "      <td>DDX54</td>\n",
       "      <td>ESR1</td>\n",
       "      <td>Q8TDD1</td>\n",
       "      <td>P03372</td>\n",
       "    </tr>\n",
       "    <tr>\n",
       "      <th>2</th>\n",
       "      <td>IFT88</td>\n",
       "      <td>PRRC2A</td>\n",
       "      <td>Q13099</td>\n",
       "      <td>P48634</td>\n",
       "    </tr>\n",
       "    <tr>\n",
       "      <th>3</th>\n",
       "      <td>IGF1R</td>\n",
       "      <td>IRS1</td>\n",
       "      <td>P08069</td>\n",
       "      <td>P35568</td>\n",
       "    </tr>\n",
       "    <tr>\n",
       "      <th>4</th>\n",
       "      <td>IRS1</td>\n",
       "      <td>PTK2</td>\n",
       "      <td>P35568</td>\n",
       "      <td>Q05397</td>\n",
       "    </tr>\n",
       "  </tbody>\n",
       "</table>\n",
       "</div>"
      ],
      "text/plain": [
       "  interactor A gene symbol interactor B gene symbol interactor A Uniprot AC  \\\n",
       "0                     RPA2                    STAT3                  P15927   \n",
       "1                    DDX54                     ESR1                  Q8TDD1   \n",
       "2                    IFT88                   PRRC2A                  Q13099   \n",
       "3                    IGF1R                     IRS1                  P08069   \n",
       "4                     IRS1                     PTK2                  P35568   \n",
       "\n",
       "  interactor B Uniprot AC  \n",
       "0                  P40763  \n",
       "1                  P03372  \n",
       "2                  P48634  \n",
       "3                  P35568  \n",
       "4                  Q05397  "
      ]
     },
     "execution_count": 106,
     "metadata": {},
     "output_type": "execute_result"
    }
   ],
   "source": [
    "#Add 'interactor A Uniprot AC' and 'interactor B Uniprot AC' columns in I table\n",
    "i = i.reset_index(drop=True) #reset index of I table\n",
    "i = i.assign(uniprot_A=i.merge(uniprotAC,left_on='interactor A gene symbol',right_on='gene', how='left').uniprot, uniprot_B=i.merge(uniprotAC,left_on='interactor B gene symbol',right_on='gene', how='left').uniprot)\n",
    "i.rename(columns={'uniprot_A':'interactor A Uniprot AC', 'uniprot_B':'interactor B Uniprot AC'}, inplace=True) #rename columns\n",
    "i.head()"
   ]
  },
  {
   "cell_type": "code",
   "execution_count": 107,
   "metadata": {},
   "outputs": [
    {
     "name": "stdout",
     "output_type": "stream",
     "text": [
      "interactor A gene symbol    False\n",
      "interactor B gene symbol    False\n",
      "interactor A Uniprot AC     False\n",
      "interactor B Uniprot AC     False\n",
      "dtype: bool\n"
     ]
    }
   ],
   "source": [
    "#check if NaN values in interactor A Uniprot AC and interactor B Uniprot AC columns are present\n",
    "print(i.isnull().any())"
   ]
  },
  {
   "cell_type": "code",
   "execution_count": 108,
   "metadata": {},
   "outputs": [
    {
     "data": {
      "text/plain": [
       "(73318, 4)"
      ]
     },
     "execution_count": 108,
     "metadata": {},
     "output_type": "execute_result"
    }
   ],
   "source": [
    "#info intersection interactome confirmed by both DBs\n",
    "i.shape"
   ]
  },
  {
   "cell_type": "code",
   "execution_count": 109,
   "metadata": {},
   "outputs": [],
   "source": [
    "#save in excel format the I table !!IMPORTANT: remove the # to save the below file!!\n",
    "\n",
    "#i.to_excel(\"1.3.c I.xlsx\", index = None, header=True)"
   ]
  },
  {
   "cell_type": "code",
   "execution_count": null,
   "metadata": {},
   "outputs": [],
   "source": []
  },
  {
   "cell_type": "code",
   "execution_count": null,
   "metadata": {},
   "outputs": [],
   "source": []
  },
  {
   "cell_type": "markdown",
   "metadata": {},
   "source": [
    "# 2) Part 2 – Data analysis "
   ]
  },
  {
   "cell_type": "markdown",
   "metadata": {},
   "source": [
    "\n",
    "### 2.1) Calculate the main network measures for SGI, I and U"
   ]
  },
  {
   "cell_type": "markdown",
   "metadata": {},
   "source": [
    "a) Calculate the following global (i.e. concerning the whole network and not the single nodes)\n",
    "measures of SGI, U and I (only if no. of nodes >20):\n",
    "• No. of nodes and no. of links\n",
    "• No. of connected components\n",
    "• No. of isolated nodes\n",
    "• Average path length\n",
    "• Average degree\n",
    "• Average clustering coefficient\n",
    "• Network diameter & radius\n",
    "• Centralization"
   ]
  },
  {
   "cell_type": "code",
   "execution_count": 4,
   "metadata": {},
   "outputs": [],
   "source": [
    "import networkx as nx\n",
    "import pandas as pd\n",
    "import numpy as np\n",
    "from tqdm import tqdm\n",
    "from matplotlib import pyplot as plt\n",
    "#!pip install markov-clustering\n",
    "from markov_clustering import mcl\n",
    "import random\n",
    "from scipy.stats import hypergeom\n",
    "import markov_clustering as m_cl\n",
    "import igraph\n",
    "from igraph import *\n",
    "from igraph import Graph as ig\n",
    "import louvain\n",
    "from collections import defaultdict\n",
    "np.random.seed(1861402)"
   ]
  },
  {
   "cell_type": "code",
   "execution_count": 5,
   "metadata": {},
   "outputs": [],
   "source": [
    "sgi_data=pd.read_excel('1.3.a SGI.xlsx')\n",
    "G = nx.Graph()   \n",
    "G.add_edges_from([(row['interactor A gene symbol'] ,row['interactor B gene symbol'] )for idx,row in sgi_data.iterrows()])\n",
    "\n",
    "\n",
    "u_data=pd.read_excel('1.3.b U.xlsx')\n",
    "G_u = nx.Graph()   \n",
    "G_u.add_edges_from([(row['interactor A gene symbol'] ,row['interactor B gene symbol'] )for idx,row in u_data.iterrows()])\n",
    "\n",
    "\n",
    "i_data=pd.read_excel('1.3.c I.xlsx')\n",
    "G_i = nx.Graph()   # or DiGraph, MultiGraph, MultiDiGraph, etc\n",
    "G_i.add_edges_from([(row['interactor A gene symbol'] ,row['interactor B gene symbol'] )for idx,row in i_data.iterrows()])"
   ]
  },
  {
   "cell_type": "markdown",
   "metadata": {},
   "source": [
    "As we an see from the results above LCC is actually the whole U and I graph because it is a connected graph.\n",
    "Therefore the global measures will be the same for LCC and the whole graph for U and I, respectively."
   ]
  },
  {
   "cell_type": "code",
   "execution_count": null,
   "metadata": {},
   "outputs": [],
   "source": [
    "def NetworkMetrics(G):\n",
    "\n",
    "    num_nodes=len(nx.nodes(G))\n",
    "    #print(\"1\")\n",
    "    conn_comp=nx.number_connected_components(G)\n",
    "    #print(\"2\")\n",
    "    isol_nodes=len(list(nx.isolates(G))) #len([v for k, v in nx.degree(G) if v==0])\n",
    "\n",
    "    all_avg=0  #avg_path_len\n",
    "    eccentricites_G=[] #eccentricites of the Graph\n",
    "    for n in tqdm(list(nx.shortest_path_length(G))):\n",
    "        l=n[1].items()\n",
    "        all_avg+=np.average([v for k,v in l])\n",
    "        ecc=max([v for k,v in l])\n",
    "        if ecc>0: #in case of disconnected components\n",
    "            eccentricites_G.append(ecc)\n",
    "    #print(\"3\")\n",
    "    all_avg/=len(G.nodes)\n",
    "    all_avg\n",
    "\n",
    "    avg_degree=sum([v for k,v in nx.degree(G)])/len(G.nodes)\n",
    "    avg_cl=nx.average_clustering(G)\n",
    "    '''\n",
    "    net_d=0 #network diameter\n",
    "    for n in list(nx.shortest_path_length(G)):\n",
    "        l=n[1].items()\n",
    "        mx_nd=max([v for k,v in l])\n",
    "        if net_d<mx_nd:\n",
    "            net_d=mx_nd\n",
    "            \n",
    "            \n",
    "    #Once the shortest path length from every node to all other nodes is calculated\n",
    "    #the diameter is the longest of all the calculated path lengths.\n",
    "    '''\n",
    "    num_n = float(len(G.nodes()))\n",
    "    net_diameter=max(eccentricites_G)  \n",
    "    net_radius=min(eccentricites_G)\n",
    "    d = nx.density(G)\n",
    "    degs = list(G.degree(G.nodes))\n",
    "    vals=[]\n",
    "    for k,v in degs:\n",
    "        vals.append(v)\n",
    "    mm=max(vals)\n",
    "    cent = (num_n/(num_n-2))*(mm/(num_n-1)-d)\n",
    "    print('• No. of nodes and no. of links: ',num_nodes, '  ', len(G.edges()))\n",
    "    print('• No. of connected components: ',conn_comp)\n",
    "    print('• No. of isolated nodes: ',isol_nodes)\n",
    "    print('• Average path length: ',np.round(all_avg,3))\n",
    "    print('• Average degree: ',np.round(avg_degree,3))\n",
    "    print('• Average clustering coefficient: ',np.round(avg_cl,3))\n",
    "    print('• Network diameter & radius: ',net_diameter,' & ',net_radius)\n",
    "    print('• Centralization: ',cent)\n",
    "    results = [num_nodes,len(G.edges()),conn_comp,isol_nodes,np.round(all_avg,3),\n",
    "               np.round(avg_degree,3),np.round(avg_cl,3),\n",
    "              net_diameter,net_radius,cent]\n",
    "    results = pd.DataFrame(results).T\n",
    "    results.columns = ['No. of nodes','no. of links','No. of connected components',\n",
    "                     'No. of isolated nodes','Average path length','Average degree',\n",
    "                     'Average clustering coefficient','Network diameter','Network radius','Centralization']\n",
    "    return results.T\n",
    "    \n",
    "def localNetworkMetrics(G):\n",
    "    '''\n",
    "    Return dataframe of calculated local Metrics for network:\n",
    "        • Node degree\n",
    "        • Betweenness centrality\n",
    "        • Eigenvector centrality\n",
    "        • Closeness centrality\n",
    "        • ratio Betweenness/Node degree\n",
    "    '''\n",
    "    res_dict={}\n",
    "    nd=dict(G.degree())\n",
    "    bc=nx.betweenness_centrality(G)\n",
    "    ec=nx.eigenvector_centrality(G)\n",
    "    cc=nx.closeness_centrality(G)\n",
    "    for node in tqdm(G.nodes()):\n",
    "        res_dict[node]=[nd[node]]\n",
    "        res_dict[node].append(bc[node])\n",
    "        res_dict[node].append(ec[node])\n",
    "        res_dict[node].append(cc[node])\n",
    "        res_dict[node].append(bc[node]/nd[node])\n",
    "    res_df=pd.DataFrame.from_dict(res_dict,orient='index',columns=['Node degree','Betweenness centrality',\\\n",
    "                                                                   'Eigenvector centrality','Closeness centrality',\\\n",
    "                                                                   'Betweenness/Node degree']) \n",
    "    return res_df"
   ]
  },
  {
   "cell_type": "code",
   "execution_count": 332,
   "metadata": {},
   "outputs": [
    {
     "name": "stderr",
     "output_type": "stream",
     "text": [
      "100%|██████████| 66/66 [00:00<00:00, 19513.89it/s]"
     ]
    },
    {
     "name": "stdout",
     "output_type": "stream",
     "text": [
      "• No. of nodes and no. of links:  66    135\n",
      "• No. of connected components:  14\n",
      "• No. of isolated nodes:  0\n",
      "• Average path length:  2.671\n",
      "• Average degree:  4.091\n",
      "• Average clustering coefficient:  0.114\n",
      "• Network diameter & radius:  7  &  1\n",
      "• Centralization:  0.17307692307692307\n"
     ]
    },
    {
     "name": "stderr",
     "output_type": "stream",
     "text": [
      "\n"
     ]
    }
   ],
   "source": [
    "if len(G.nodes())>=20:\n",
    "    df_sgi=NetworkMetrics(G)"
   ]
  },
  {
   "cell_type": "code",
   "execution_count": 337,
   "metadata": {},
   "outputs": [],
   "source": [
    "df_sgi.to_csv(\"2.1a_sgi.csv\")"
   ]
  },
  {
   "cell_type": "code",
   "execution_count": 338,
   "metadata": {},
   "outputs": [
    {
     "name": "stderr",
     "output_type": "stream",
     "text": [
      "100%|██████████| 3252/3252 [00:01<00:00, 2146.10it/s]\n"
     ]
    },
    {
     "name": "stdout",
     "output_type": "stream",
     "text": [
      "• No. of nodes and no. of links:  3252    73318\n",
      "• No. of connected components:  1\n",
      "• No. of isolated nodes:  0\n",
      "• Average path length:  2.531\n",
      "• Average degree:  45.091\n",
      "• Average clustering coefficient:  0.16\n",
      "• Network diameter & radius:  6  &  4\n",
      "• Centralization:  0.25328064737477224\n",
      "Name: \n",
      "Type: Graph\n",
      "Number of nodes: 3252\n",
      "Number of edges: 73318\n",
      "Average degree:  45.0910\n"
     ]
    }
   ],
   "source": [
    "#print(nx.info(G_u))\n",
    "#NetworkMetrics(G_u)\n",
    "#print(nx.info(G_u))\n",
    "df_int = NetworkMetrics(G_i)\n",
    "print(nx.info(G_i))"
   ]
  },
  {
   "cell_type": "code",
   "execution_count": 340,
   "metadata": {},
   "outputs": [],
   "source": [
    "df_int.to_csv(\"2.1a_int.csv\")"
   ]
  },
  {
   "cell_type": "code",
   "execution_count": 341,
   "metadata": {},
   "outputs": [
    {
     "name": "stderr",
     "output_type": "stream",
     "text": [
      "100%|██████████| 4975/4975 [00:04<00:00, 1110.56it/s]\n"
     ]
    },
    {
     "name": "stdout",
     "output_type": "stream",
     "text": [
      "• No. of nodes and no. of links:  4975    172052\n",
      "• No. of connected components:  1\n",
      "• No. of isolated nodes:  0\n",
      "• Average path length:  2.42\n",
      "• Average degree:  69.167\n",
      "• Average clustering coefficient:  0.182\n",
      "• Network diameter & radius:  5  &  3\n",
      "• Centralization:  0.24694957110980714\n",
      "Name: \n",
      "Type: Graph\n",
      "Number of nodes: 4975\n",
      "Number of edges: 172052\n",
      "Average degree:  69.1666\n"
     ]
    }
   ],
   "source": [
    "df_u = NetworkMetrics(G_u)\n",
    "print(nx.info(G_u))"
   ]
  },
  {
   "cell_type": "code",
   "execution_count": 343,
   "metadata": {},
   "outputs": [],
   "source": [
    "df_u.to_csv(\"2.1a_u.csv\")"
   ]
  },
  {
   "cell_type": "code",
   "execution_count": 344,
   "metadata": {},
   "outputs": [
    {
     "name": "stderr",
     "output_type": "stream",
     "text": [
      "100%|██████████| 66/66 [00:00<00:00, 103912.94it/s]\n",
      "100%|██████████| 4975/4975 [00:00<00:00, 131456.79it/s]\n",
      "100%|██████████| 3252/3252 [00:00<00:00, 891087.52it/s]\n"
     ]
    }
   ],
   "source": [
    "res_df=localNetworkMetrics(G)\n",
    "res_df.to_csv('r.csv' )\n",
    "\n",
    "res_df=localNetworkMetrics(G_u)\n",
    "res_df.to_csv('localNetworkMetricsU.csv' )\n",
    "\n",
    "res_df=localNetworkMetrics(G_i)\n",
    "res_df.to_csv('localNetworkMetricsI.csv' )"
   ]
  },
  {
   "cell_type": "code",
   "execution_count": null,
   "metadata": {},
   "outputs": [],
   "source": [
    "len(max([comp for comp in nx.connected_components(G_u)]))\n",
    "print(nx.info(G_u))\n",
    "print(nx.info(G_u.subgraph(max(nx.connected_components(G_u)))))\n",
    "print(nx.info(G_u.subgraph(max(nx.connected_components(G_u)))))\n",
    "#nx.is_connected(G_u)\n",
    "#nx.is_connected(G_i)\n",
    "nx.connected_component_subgraphs(G, copy=True)"
   ]
  },
  {
   "cell_type": "markdown",
   "metadata": {},
   "source": [
    "## 2.2) Apply clustering methods for disease modules discovery\n",
    "\n",
    "Cluster I-LCC and U-LCC using the MCL algorithm to get the modules.\n",
    "Once you have clustered the networks, find modules with no. of nodes >= 10 in which seed\n",
    "genes are statistically overrepresented (p<0.05) by applying a hypergeometric test: such\n",
    "modules will be the “putative disease modules”.\n",
    "Store the results for both U-LCC and I-LCC in tables including in each row: clustering\n",
    "algorithm used, module ID, no. of seed genes in the module, total no. of genes in each\n",
    "module, seed gene IDs, all gene IDs in the module, p-value."
   ]
  },
  {
   "cell_type": "code",
   "execution_count": 10,
   "metadata": {},
   "outputs": [],
   "source": [
    "def clustering(G):\n",
    "    '''\n",
    "    This method returns list of clusters where each element of the list \n",
    "    is a list of genes belonging to that cluster;\n",
    "    \n",
    "    '''\n",
    "    adj_matrix = nx.to_numpy_matrix(G)\n",
    "    res = mcl.run_mcl(adj_matrix)#,inflation=13)\n",
    "    clusters = mcl.get_clusters(res)\n",
    "\n",
    "    #find modules with no. of nodes >= 10\n",
    "    clusters=[cl for cl in clusters if len(cl)>=10]\n",
    "    \n",
    "    mapped_clusters=[]\n",
    "    for cl in clusters:\n",
    "        mapped_clusters.append([list(G.nodes())[i] for i in cl])\n",
    "    return mapped_clusters"
   ]
  },
  {
   "cell_type": "code",
   "execution_count": 11,
   "metadata": {},
   "outputs": [],
   "source": [
    "clusters=clustering(G)"
   ]
  },
  {
   "cell_type": "code",
   "execution_count": 12,
   "metadata": {},
   "outputs": [
    {
     "data": {
      "text/plain": [
       "[['ACTC1',\n",
       "  'PEBP1',\n",
       "  'PHB',\n",
       "  'CFL1',\n",
       "  'NOP16',\n",
       "  'EXOSC2',\n",
       "  'CPS1',\n",
       "  'SOD2',\n",
       "  'ALDH2',\n",
       "  'CHN2',\n",
       "  'MGMT']]"
      ]
     },
     "execution_count": 12,
     "metadata": {},
     "output_type": "execute_result"
    }
   ],
   "source": [
    "clusters"
   ]
  },
  {
   "cell_type": "markdown",
   "metadata": {},
   "source": [
    "### Hypergeometric test\n",
    "\n",
    "\n",
    "Once you have clustered the networks, find modules with no. of nodes >= 10 in which seed\n",
    "genes are statistically overrepresented (p<0.05) by applying a hypergeometric test: such\n",
    "modules will be the “putative disease modules”."
   ]
  },
  {
   "cell_type": "code",
   "execution_count": 9,
   "metadata": {},
   "outputs": [],
   "source": [
    "seed_genes=list(pd.read_excel('1.1.b&c DisGeNet dataset.xlsx')['gene symbol'].values)"
   ]
  },
  {
   "cell_type": "markdown",
   "metadata": {},
   "source": [
    "    \n",
    "x - number of successes\n",
    "M - size of population\n",
    "n - n is the number of successes in the population \n",
    "N - sample size (cluster-module in our case)\n"
   ]
  },
  {
   "cell_type": "code",
   "execution_count": 10,
   "metadata": {},
   "outputs": [],
   "source": [
    "def hyperGeomTest(G,clusters,m_ids,alg):\n",
    "\n",
    "    '''\n",
    "    Performing hypergeometric test to the clusters which have more than 10 elements.\n",
    "    \n",
    "    This method retunrs table of results after the hypergeometric test.\n",
    "    '''\n",
    "    res_dict=defaultdict(list)\n",
    "    \n",
    "    putative_dis_cl=[]\n",
    "    M = len(G.nodes)\n",
    "    n = len(set(seed_genes).intersection(set(G.nodes)))\n",
    " \n",
    "    for idx,cl in enumerate(clusters):\n",
    "        x = len(set(seed_genes).intersection(set(cl)))\n",
    "        N = len(cl)\n",
    "        pv=hypergeom.sf(x-1,M, n, N)\n",
    " \n",
    "      \n",
    "        if pv <=0.05:\n",
    "            print('putative disease modules:\\n')\n",
    "            print(pv)\n",
    "            putative_dis_cl.append(cl)\n",
    "            \n",
    "            \n",
    "        res_dict['Algorithm'].append(alg)\n",
    "        res_dict['Module ID'].append(m_ids[idx])\n",
    "        res_dict['no. of seed genes'].append(len(x))\n",
    "        res_dict['total no. of genes in each module'].append(len(cl))\n",
    "        res_dict['all seed genes'].append(set(seed_genes).intersection(set(cl)))\n",
    "        res_dict['all genes in each module'].append(cl)\n",
    "        res_dict['p-value'].append(pv)\n",
    "            \n",
    "    res_df=pd.DataFrame.from_dict(res_dict)\n",
    "    res_df=res_df.sort_values(['p-value'])\n",
    "    \n",
    "    return putative_dis_cl,res_df"
   ]
  },
  {
   "cell_type": "code",
   "execution_count": 11,
   "metadata": {},
   "outputs": [],
   "source": [
    "def callmeMB(gr):\n",
    "    i_g = ig(directed=False)\n",
    "    i_g.add_vertices(list(gr.nodes()))\n",
    "    i_g.add_edges(gr.edges())\n",
    "    i_g.vs[\"name\"] = list(gr.nodes())\n",
    "    \n",
    "    count_dict=defaultdict(int)\n",
    "    cl = louvain.find_partition(i_g, louvain.ModularityVertexPartition)\n",
    "\n",
    "    \n",
    "    res=dict(zip(i_g.vs[\"name\"],cl.membership))\n",
    "    for k,v in res.items():\n",
    "        count_dict[v]+=1\n",
    "    count_dict2=defaultdict(list)\n",
    "    for k,v in res.items():\n",
    "        count_dict2[v].append(k)\n",
    " \n",
    "\n",
    "    x='*'*35\n",
    "    print(x,'\\n','NUMBER OF COMMUNITIES','---------->',len(count_dict2.keys()),'\\n',x)\n",
    "  #  print('Composition of the communities ',count_dict2)\n",
    " \n",
    "    return count_dict2"
   ]
  },
  {
   "cell_type": "code",
   "execution_count": 26,
   "metadata": {},
   "outputs": [
    {
     "name": "stdout",
     "output_type": "stream",
     "text": [
      "*********************************** \n",
      " NUMBER OF COMMUNITIES ----------> 9 \n",
      " ***********************************\n",
      "putative disease modules:\n",
      "\n",
      "0.04547716637399925\n"
     ]
    }
   ],
   "source": [
    "def saveUnionFile():\n",
    "    '''\n",
    "    Save results from clustering (Union) to .csv file (MCL, Louvain algorithm)\n",
    "    '''\n",
    "    res_df_i=pd.DataFrame()\n",
    "    cluster_dict=callmeMB(G_i)\n",
    "    acc_cl_i={k:v for k,v in cluster_dict.items() if len(v)>=10}\n",
    "    putative_dis_cl_i,res_df_i1=hyperGeomTest(G_i,list(acc_cl_i.values()),list(acc_cl_i.keys()),'louvain')\n",
    "    res_df_i=res_df_i1\n",
    "    clusters_i=clustering(G_i)\n",
    "    x,res_df_i2=hyperGeomTest(G_i,clusters_i,list(range(len(clusters_i))),'MCL')\n",
    "\n",
    "\n",
    "    res_df_i=res_df_i.append(res_df_i2)\n",
    "    res_df_i.to_csv('intersection_clustering.csv')"
   ]
  },
  {
   "cell_type": "code",
   "execution_count": 32,
   "metadata": {},
   "outputs": [
    {
     "name": "stdout",
     "output_type": "stream",
     "text": [
      "*********************************** \n",
      " NUMBER OF COMMUNITIES ----------> 9 \n",
      " ***********************************\n",
      "putative disease modules:\n",
      "\n",
      "0.021932044883346283\n",
      "putative disease modules:\n",
      "\n",
      "0.0038879111651569653\n"
     ]
    }
   ],
   "source": [
    "def saveIntersectionFile():\n",
    "    '''\n",
    "    Save results from clustering (Union) to .csv file (MCL, Louvain algorithm)\n",
    "    '''\n",
    "    res_df_u=pd.DataFrame()\n",
    "    cluster_dict_u=callmeMB(G_u)\n",
    "    acc_cl_u={k:v for k,v in cluster_dict_u.items() if len(v)>=10}\n",
    "    putative_dis_cl_u,res_df_u1=hyperGeomTest(G_u,list(acc_cl_u.values()),list(acc_cl_u.keys()),'louvain')\n",
    "    res_df_u=res_df_u1\n",
    "\n",
    "    clusters_u=clustering(G_u)\n",
    "    x,res_df_u2=hyperGeomTest(G_u,clusters_u,list(range(len(clusters_u))),'MCL')\n",
    "\n",
    "\n",
    "    res_df_u=res_df_u.append(res_df_u2)\n",
    "    res_df_u.to_csv('union_clustering.csv')"
   ]
  },
  {
   "cell_type": "code",
   "execution_count": 2,
   "metadata": {},
   "outputs": [],
   "source": [
    "def saveUnionDisModEnrichR():\n",
    "    '''\n",
    "    Save genes from putative disease module (Union) to .txt file for enrichment analysis (Louvain algorithm)\n",
    "    '''\n",
    "    u0=pd.DataFrame()\n",
    "    rf['union 0']=pd.Series(res_df_u[res_df_u['p-value']<0.05]['all genes in each module'].values[0])\n",
    "    rf['union 0'].to_csv('union_0.txt',header=False,index=False)\n",
    "\n",
    "    u1=pd.Series(res_df_u[res_df_u['p-value']<0.05]['all genes in each module'].values[1])\n",
    "    u1.to_csv('union_1.txt',header=False,index=False)"
   ]
  },
  {
   "cell_type": "code",
   "execution_count": 3,
   "metadata": {},
   "outputs": [],
   "source": [
    "def saveInterscetionDisModEnrichR():\n",
    "    '''\n",
    "    Save genes from putative disease module (Inersection) to .txt file for enrichment analysis (Louvain algorithm)\n",
    "    '''\n",
    "    i0=pd.Series(res_df_i[res_df_i['p-value']<0.05]['all genes in each module'].values[0])\n",
    "    i0.to_csv('intersection_0.txt',header=False,index=False)\n"
   ]
  },
  {
   "cell_type": "code",
   "execution_count": 90,
   "metadata": {},
   "outputs": [],
   "source": [
    "# we also checked if modules created by cytoscape give putative disease modules "
   ]
  },
  {
   "cell_type": "code",
   "execution_count": 21,
   "metadata": {},
   "outputs": [
    {
     "data": {
      "text/html": [
       "<div>\n",
       "<style scoped>\n",
       "    .dataframe tbody tr th:only-of-type {\n",
       "        vertical-align: middle;\n",
       "    }\n",
       "\n",
       "    .dataframe tbody tr th {\n",
       "        vertical-align: top;\n",
       "    }\n",
       "\n",
       "    .dataframe thead th {\n",
       "        text-align: right;\n",
       "    }\n",
       "</style>\n",
       "<table border=\"1\" class=\"dataframe\">\n",
       "  <thead>\n",
       "    <tr style=\"text-align: right;\">\n",
       "      <th></th>\n",
       "      <th>SUID</th>\n",
       "      <th>__mclCluster</th>\n",
       "      <th>name</th>\n",
       "      <th>selected</th>\n",
       "      <th>shared name</th>\n",
       "    </tr>\n",
       "  </thead>\n",
       "  <tbody>\n",
       "    <tr>\n",
       "      <th>0</th>\n",
       "      <td>72</td>\n",
       "      <td>134.0</td>\n",
       "      <td>RPA2</td>\n",
       "      <td>False</td>\n",
       "      <td>RPA2</td>\n",
       "    </tr>\n",
       "  </tbody>\n",
       "</table>\n",
       "</div>"
      ],
      "text/plain": [
       "   SUID  __mclCluster  name  selected shared name\n",
       "0    72         134.0  RPA2     False        RPA2"
      ]
     },
     "execution_count": 21,
     "metadata": {},
     "output_type": "execute_result"
    }
   ],
   "source": [
    "df=pd.read_csv('cyto_cl.csv')\n",
    "df=df.dropna()"
   ]
  },
  {
   "cell_type": "code",
   "execution_count": 54,
   "metadata": {},
   "outputs": [],
   "source": [
    "keys=np.unique(df['__mclCluster'].values)\n",
    "\n",
    "cl_dict=defaultdict(list)\n",
    "for idx,row in df.iterrows():\n",
    "   # print(row['name'])\n",
    "   cl_dict[row['__mclCluster']].append(row['name'])"
   ]
  },
  {
   "cell_type": "code",
   "execution_count": 59,
   "metadata": {},
   "outputs": [],
   "source": [
    "c=list(cl_dict.values())"
   ]
  },
  {
   "cell_type": "code",
   "execution_count": 63,
   "metadata": {},
   "outputs": [],
   "source": [
    "x,res_df_u2=hyperGeomTest(G,c,list(range(len(c))),'MCL')"
   ]
  },
  {
   "cell_type": "code",
   "execution_count": 67,
   "metadata": {},
   "outputs": [
    {
     "data": {
      "text/html": [
       "<div>\n",
       "<style scoped>\n",
       "    .dataframe tbody tr th:only-of-type {\n",
       "        vertical-align: middle;\n",
       "    }\n",
       "\n",
       "    .dataframe tbody tr th {\n",
       "        vertical-align: top;\n",
       "    }\n",
       "\n",
       "    .dataframe thead th {\n",
       "        text-align: right;\n",
       "    }\n",
       "</style>\n",
       "<table border=\"1\" class=\"dataframe\">\n",
       "  <thead>\n",
       "    <tr style=\"text-align: right;\">\n",
       "      <th></th>\n",
       "      <th>Algorithm</th>\n",
       "      <th>Module ID</th>\n",
       "      <th>no. of seed genes</th>\n",
       "      <th>total no. of genes in each module</th>\n",
       "      <th>all seed genes</th>\n",
       "      <th>all genes in each module</th>\n",
       "      <th>p-value</th>\n",
       "    </tr>\n",
       "  </thead>\n",
       "  <tbody>\n",
       "  </tbody>\n",
       "</table>\n",
       "</div>"
      ],
      "text/plain": [
       "Empty DataFrame\n",
       "Columns: [Algorithm, Module ID, no. of seed genes, total no. of genes in each module, all seed genes, all genes in each module, p-value]\n",
       "Index: []"
      ]
     },
     "execution_count": 67,
     "metadata": {},
     "output_type": "execute_result"
    }
   ],
   "source": [
    "res_df_u2[res_df_u2['p-value']<=0.05]"
   ]
  },
  {
   "cell_type": "markdown",
   "metadata": {},
   "source": [
    "### Draw clustering"
   ]
  },
  {
   "cell_type": "markdown",
   "metadata": {},
   "source": [
    "**Checking if it works for SGI network!**"
   ]
  },
  {
   "cell_type": "code",
   "execution_count": 91,
   "metadata": {},
   "outputs": [],
   "source": [
    "def Drawclustering(G,clusters,title):\n",
    "    title=title\n",
    "    number_of_colors = len(clusters)\n",
    "    palette = [\"#\"+''.join([random.choice('0123456789ABCDEF') for j in range(6)])\n",
    "                 for i in range(number_of_colors)]\n",
    "    color_dict={}\n",
    "    sub_nodes=[]\n",
    "    for idx,cl in enumerate(clusters):\n",
    "        color=palette[idx]\n",
    "        for node in cl:\n",
    "            if node in G.nodes():\n",
    "                color_dict[node]=color\n",
    "                sub_nodes.append(node)\n",
    "        color_map=[color_dict[k] for k in sub_nodes]\n",
    "\n",
    "    plt.figure(3,figsize=(9,9))\n",
    "    plt.title(title)\n",
    "    \n",
    "    nx.draw(G.subgraph(sub_nodes),node_color=color_map,with_labels=True,node_size=450)\n",
    "    plt.savefig('images/'+title+'.png')"
   ]
  },
  {
   "cell_type": "code",
   "execution_count": 92,
   "metadata": {},
   "outputs": [
    {
     "data": {
      "image/png": "[encoded data removed]",
      "text/plain": [
       "<Figure size 648x648 with 1 Axes>"
      ]
     },
     "metadata": {},
     "output_type": "display_data"
    }
   ],
   "source": [
    "clusters=clustering(G)\n",
    "Drawclustering(G,clusters,'Clustering')"
   ]
  },
  {
   "cell_type": "code",
   "execution_count": 97,
   "metadata": {},
   "outputs": [
    {
     "data": {
      "image/png": "[encoded data removed]",
      "text/plain": [
       "<Figure size 1440x1440 with 1 Axes>"
      ]
     },
     "metadata": {},
     "output_type": "display_data"
    }
   ],
   "source": [
    "adj_matrix = nx.to_numpy_matrix(G)\n",
    "res = m_cl.run_mcl(adj_matrix)\n",
    "clusters = m_cl.get_clusters(res)\n",
    "\n",
    "plt.figure(figsize=(20,20))\n",
    "\n",
    "m_cl.draw_graph(adj_matrix, clusters, node_size=189, with_labels=False, edge_color=\"blue\")\n"
   ]
  },
  {
   "cell_type": "markdown",
   "metadata": {},
   "source": [
    "**Clustering for I network!**"
   ]
  },
  {
   "cell_type": "code",
   "execution_count": 98,
   "metadata": {},
   "outputs": [
    {
     "data": {
      "image/png": "[encoded data removed]",
      "text/plain": [
       "<Figure size 1440x1440 with 1 Axes>"
      ]
     },
     "metadata": {},
     "output_type": "display_data"
    }
   ],
   "source": [
    "adj_matrix = nx.to_numpy_matrix(G_i)\n",
    "res = m_cl.run_mcl(adj_matrix)\n",
    "clusters = m_cl.get_clusters(res)\n",
    "\n",
    "plt.figure(figsize=(20,20))\n",
    "\n",
    "m_cl.draw_graph(adj_matrix, clusters, node_size=189, with_labels=False, edge_color=\"blue\")\n"
   ]
  },
  {
   "cell_type": "code",
   "execution_count": null,
   "metadata": {},
   "outputs": [],
   "source": []
  },
  {
   "cell_type": "code",
   "execution_count": null,
   "metadata": {},
   "outputs": [],
   "source": []
  }
 ],
 "metadata": {
  "kernelspec": {
   "display_name": "Python 3",
   "language": "python",
   "name": "python3"
  },
  "language_info": {
   "codemirror_mode": {
    "name": "ipython",
    "version": 3
   },
   "file_extension": ".py",
   "mimetype": "text/x-python",
   "name": "python",
   "nbconvert_exporter": "python",
   "pygments_lexer": "ipython3",
   "version": "3.7.1"
  }
 },
 "nbformat": 4,
 "nbformat_minor": 2
}
