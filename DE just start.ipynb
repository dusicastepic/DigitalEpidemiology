{
 "cells": [
  {
   "cell_type": "markdown",
   "metadata": {},
   "source": [
    "# Analysis of gene expression data"
   ]
  },
  {
   "cell_type": "markdown",
   "metadata": {},
   "source": [
    "# I Data Retrieval\n",
    "Data Retrieval was done using the RScript!\n",
    "\n",
    "- Download Data (Thyroid cancer data)  \n"
   ]
  },
  {
   "cell_type": "code",
   "execution_count": 1,
   "metadata": {},
   "outputs": [],
   "source": [
    "from pyunpack import Archive\n",
    "import glob,os\n",
    "import pandas as pd\n",
    "import numpy as np\n",
    "import matplotlib.pyplot as plt\n",
    "\n",
    "from collections import defaultdict"
   ]
  },
  {
   "cell_type": "code",
   "execution_count": 23,
   "metadata": {},
   "outputs": [],
   "source": [
    "genes_C_id=pd.read_csv(\"TCGA-THCA/TCGA-THCA_rna_genes_C.txt\",header=None)\n",
    "genes_C_id.columns=['gene']\n",
    "genes_N_id=pd.read_csv(\"TCGA-THCA/TCGA-THCA_rna_genes_N.txt\",header=None)\n",
    "genes_N_id.columns=['gene'] #they should both have same gene name column? :) ---remove one dataframe\n",
    "\n",
    "\n",
    "patients_C=pd.read_csv(\"TCGA-THCA/TCGA-THCA_rna_patients_C.txt\",header=None)\n",
    "patients_C.columns=['patients']\n",
    "patients_N=pd.read_csv(\"TCGA-THCA/TCGA-THCA_rna_patients_N.txt\",header=None)\n",
    "patients_N.columns=['patients']\n",
    "\n",
    "genes_C=pd.read_csv(\"TCGA-THCA/TCGA-THCA_rna_expr_data_C.txt\",sep=' ')\n",
    "\n",
    "\n",
    "genes_N=pd.read_csv(\"TCGA-THCA/TCGA-THCA_rna_expr_data_N.txt\",sep=' ')\n"
   ]
  },
  {
   "cell_type": "markdown",
   "metadata": {},
   "source": [
    "# II  \n",
    " "
   ]
  },
  {
   "cell_type": "markdown",
   "metadata": {},
   "source": [
    "# Differentially expressed genes\n",
    "\n",
    "## Which genes are differentially expressed?\n",
    "\n",
    "\n",
    "**Fold Change**\n",
    "A first criterion can be to identify the genes whose expression in the two\n",
    "groups of samples considered varies by a certain proportion (doubles,\n",
    "halves, ...)\n",
    "\n",
    "𝑓𝑜𝑙𝑑𝑐ℎ𝑎𝑛𝑔𝑒=$𝑙𝑜𝑔_2\\frac{𝐸𝑥𝑝𝑟𝑐𝑜𝑛𝑑1}{𝐸𝑥𝑝𝑟𝑐𝑜𝑛𝑑2}$=2\n",
    "\n",
    "\n",
    "Condition 1 - Normal\n",
    "\n",
    "Condition 2 - Cancer"
   ]
  },
  {
   "cell_type": "markdown",
   "metadata": {},
   "source": [
    "\n",
    "DOUBTS:\n",
    "\n",
    "       -NEGATIVE VALUES??\n",
    " \n",
    " \n",
    "      -log of zero gives inf\n"
   ]
  },
  {
   "cell_type": "code",
   "execution_count": 52,
   "metadata": {},
   "outputs": [
    {
     "data": {
      "text/plain": [
       "ENSG00000000003    3.044875\n",
       "ENSG00000000005    2.115433\n",
       "ENSG00000000419    2.903912\n",
       "ENSG00000000457    2.859956\n",
       "ENSG00000000460    3.297684\n",
       "                     ...   \n",
       "ENSG00000281904    3.144141\n",
       "ENSG00000281909    2.933345\n",
       "ENSG00000281910    4.467060\n",
       "ENSG00000281912    2.336616\n",
       "ENSG00000281920    3.948017\n",
       "Length: 46962, dtype: float64"
      ]
     },
     "execution_count": 52,
     "metadata": {},
     "output_type": "execute_result"
    }
   ],
   "source": [
    "fold_df=np.log2(genes_C.sum(axis=1)/genes_N.sum(axis=1))\n",
    "fold_df[fold_df>2]"
   ]
  },
  {
   "cell_type": "code",
   "execution_count": 65,
   "metadata": {},
   "outputs": [
    {
     "data": {
      "text/plain": [
       "2.321928094887362"
      ]
     },
     "execution_count": 65,
     "metadata": {},
     "output_type": "execute_result"
    }
   ],
   "source": [
    "np.log2(505/101)"
   ]
  },
  {
   "cell_type": "code",
   "execution_count": 70,
   "metadata": {},
   "outputs": [
    {
     "data": {
      "text/html": [
       "<div>\n",
       "<style scoped>\n",
       "    .dataframe tbody tr th:only-of-type {\n",
       "        vertical-align: middle;\n",
       "    }\n",
       "\n",
       "    .dataframe tbody tr th {\n",
       "        vertical-align: top;\n",
       "    }\n",
       "\n",
       "    .dataframe thead th {\n",
       "        text-align: right;\n",
       "    }\n",
       "</style>\n",
       "<table border=\"1\" class=\"dataframe\">\n",
       "  <thead>\n",
       "    <tr style=\"text-align: right;\">\n",
       "      <th></th>\n",
       "      <th>fold_value</th>\n",
       "    </tr>\n",
       "  </thead>\n",
       "  <tbody>\n",
       "    <tr>\n",
       "      <th>ENSG00000147256</th>\n",
       "      <td>11.717796</td>\n",
       "    </tr>\n",
       "    <tr>\n",
       "      <th>ENSG00000122852</th>\n",
       "      <td>11.647417</td>\n",
       "    </tr>\n",
       "    <tr>\n",
       "      <th>ENSG00000198261</th>\n",
       "      <td>11.348668</td>\n",
       "    </tr>\n",
       "    <tr>\n",
       "      <th>ENSG00000206072</th>\n",
       "      <td>11.249732</td>\n",
       "    </tr>\n",
       "    <tr>\n",
       "      <th>ENSG00000156076</th>\n",
       "      <td>11.103655</td>\n",
       "    </tr>\n",
       "    <tr>\n",
       "      <th>...</th>\n",
       "      <td>...</td>\n",
       "    </tr>\n",
       "    <tr>\n",
       "      <th>ENSG00000222544</th>\n",
       "      <td>-2.890598</td>\n",
       "    </tr>\n",
       "    <tr>\n",
       "      <th>ENSG00000238707</th>\n",
       "      <td>-3.081601</td>\n",
       "    </tr>\n",
       "    <tr>\n",
       "      <th>ENSG00000222394</th>\n",
       "      <td>-3.159527</td>\n",
       "    </tr>\n",
       "    <tr>\n",
       "      <th>ENSG00000242339</th>\n",
       "      <td>-3.217455</td>\n",
       "    </tr>\n",
       "    <tr>\n",
       "      <th>ENSG00000224931</th>\n",
       "      <td>-7.344297</td>\n",
       "    </tr>\n",
       "  </tbody>\n",
       "</table>\n",
       "<p>50371 rows × 1 columns</p>\n",
       "</div>"
      ],
      "text/plain": [
       "                 fold_value\n",
       "ENSG00000147256   11.717796\n",
       "ENSG00000122852   11.647417\n",
       "ENSG00000198261   11.348668\n",
       "ENSG00000206072   11.249732\n",
       "ENSG00000156076   11.103655\n",
       "...                     ...\n",
       "ENSG00000222544   -2.890598\n",
       "ENSG00000238707   -3.081601\n",
       "ENSG00000222394   -3.159527\n",
       "ENSG00000242339   -3.217455\n",
       "ENSG00000224931   -7.344297\n",
       "\n",
       "[50371 rows x 1 columns]"
      ]
     },
     "execution_count": 70,
     "metadata": {},
     "output_type": "execute_result"
    }
   ],
   "source": [
    "fold_sort_df=pd.DataFrame(fold_df)\n",
    "fold_sort_df.columns=['fold_value']\n",
    "\n",
    "\n",
    "#drop nan and inf\n",
    "fold_sort_df.dropna(inplace=True)\n",
    "fold_sort_df=fold_sort_df[(fold_sort_df.fold_value!=np.inf) & (fold_sort_df.fold_value!=-np.inf)]\n",
    "fold_sort_df.sort_values(['fold_value'],ascending=False)"
   ]
  },
  {
   "cell_type": "markdown",
   "metadata": {},
   "source": [
    "## Statistical tests\n",
    "## Student’s t test for two conditions/groups (control vs treated)"
   ]
  },
  {
   "cell_type": "code",
   "execution_count": null,
   "metadata": {},
   "outputs": [],
   "source": []
  },
  {
   "cell_type": "code",
   "execution_count": null,
   "metadata": {},
   "outputs": [],
   "source": []
  },
  {
   "cell_type": "code",
   "execution_count": null,
   "metadata": {},
   "outputs": [],
   "source": []
  },
  {
   "cell_type": "markdown",
   "metadata": {},
   "source": [
    "## Which and how many genes are co expressed?"
   ]
  },
  {
   "cell_type": "code",
   "execution_count": null,
   "metadata": {},
   "outputs": [],
   "source": []
  }
 ],
 "metadata": {
  "kernelspec": {
   "display_name": "Python 3",
   "language": "python",
   "name": "python3"
  },
  "language_info": {
   "codemirror_mode": {
    "name": "ipython",
    "version": 3
   },
   "file_extension": ".py",
   "mimetype": "text/x-python",
   "name": "python",
   "nbconvert_exporter": "python",
   "pygments_lexer": "ipython3",
   "version": "3.7.1"
  }
 },
 "nbformat": 4,
 "nbformat_minor": 2
}
